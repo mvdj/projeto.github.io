{
  "nbformat": 4,
  "nbformat_minor": 0,
  "metadata": {
    "colab": {
      "name": "QualidadeVinho-ÁrvoreDeDecisão.ipynb",
      "provenance": [],
      "authorship_tag": "ABX9TyNi/p4LG6Qx9WG7q2SmB5IA",
      "include_colab_link": true
    },
    "kernelspec": {
      "name": "python3",
      "display_name": "Python 3"
    }
  },
  "cells": [
    {
      "cell_type": "markdown",
      "metadata": {
        "id": "view-in-github",
        "colab_type": "text"
      },
      "source": [
        "<a href=\"https://colab.research.google.com/github/mvdj/mvdj.github.io/blob/master/QualidadeVinho_%C3%81rvoreDeDecis%C3%A3o.ipynb\" target=\"_parent\"><img src=\"https://colab.research.google.com/assets/colab-badge.svg\" alt=\"Open In Colab\"/></a>"
      ]
    },
    {
      "cell_type": "markdown",
      "metadata": {
        "id": "LIwbbppWWH68",
        "colab_type": "text"
      },
      "source": [
        "# **Qualidade Vinho - Classificação com Árvores de Decisão**\n",
        "\n",
        "Dataset (https://archive.ics.uci.edu/ml/datasets/wine+quality) com 8096 instâncias de dados sobre a qualidade dos vinhos (Red and White), com os seguintes atributos:\n",
        "\n",
        "1. wine type\n",
        "2. fixed acidity\n",
        "3. volatile acidity\n",
        "4. citric acid\n",
        "5. residual sugar\n",
        "6. chlorides\n",
        "7. free sulfur dioxide\n",
        "8. total sulfur dioxide\n",
        "9. density\n",
        "10. pH\n",
        "11. sulphates\n",
        "12. alcohol\n",
        "Output variable (based on sensory data): \n",
        "13. quality (score between 0 and 10)\n",
        "\n",
        "Dados descrevem componentes químicos/biológicos que fazem parte da qualidade de um vinho.\n",
        "\n",
        "* Aprendizado supervisionado\n",
        "* Mapeamento de um vetor de atributos para um atributo de classe\n",
        "* Seja $x_i$ um conjunto de $n$ instâncias pertencentes a uma classe $c$ \n",
        "  * $x_i$ tem dimensão $d$\n",
        "  * existem $m$ classes, $c \\in {c_1,...,c_m}$\n",
        "* Aprendizagem é identificar a função $f$ tal que:\n",
        "  * $f([x_{i1},x_{i2},...,x_{id}]) = c$\n",
        "\n",
        "\n"
      ]
    },
    {
      "cell_type": "code",
      "metadata": {
        "id": "GXpUIVgBxVtw",
        "colab_type": "code",
        "colab": {
          "base_uri": "https://localhost:8080/",
          "height": 122
        },
        "outputId": "bc0901ed-e01d-403e-a84d-ec4458a1183e"
      },
      "source": [
        "from google.colab import drive\n",
        "drive.mount('/content/drive/')"
      ],
      "execution_count": 1,
      "outputs": [
        {
          "output_type": "stream",
          "text": [
            "Go to this URL in a browser: https://accounts.google.com/o/oauth2/auth?client_id=947318989803-6bn6qk8qdgf4n4g3pfee6491hc0brc4i.apps.googleusercontent.com&redirect_uri=urn%3aietf%3awg%3aoauth%3a2.0%3aoob&scope=email%20https%3a%2f%2fwww.googleapis.com%2fauth%2fdocs.test%20https%3a%2f%2fwww.googleapis.com%2fauth%2fdrive%20https%3a%2f%2fwww.googleapis.com%2fauth%2fdrive.photos.readonly%20https%3a%2f%2fwww.googleapis.com%2fauth%2fpeopleapi.readonly&response_type=code\n",
            "\n",
            "Enter your authorization code:\n",
            "··········\n",
            "Mounted at /content/drive/\n"
          ],
          "name": "stdout"
        }
      ]
    },
    {
      "cell_type": "markdown",
      "metadata": {
        "id": "SPmNEB4Tet_0",
        "colab_type": "text"
      },
      "source": [
        "# **1. Importação das bibliotecas**\n"
      ]
    },
    {
      "cell_type": "code",
      "metadata": {
        "id": "v8S1mD-4ezYi",
        "colab_type": "code",
        "colab": {}
      },
      "source": [
        "# Importando bibliotecas\n",
        "import pandas as pd\n",
        "import matplotlib.pyplot as plt"
      ],
      "execution_count": 2,
      "outputs": []
    },
    {
      "cell_type": "markdown",
      "metadata": {
        "id": "JLAN7-gke52U",
        "colab_type": "text"
      },
      "source": [
        "# **2. Lendo dados**\n"
      ]
    },
    {
      "cell_type": "code",
      "metadata": {
        "id": "ir6sZNcNfLV6",
        "colab_type": "code",
        "colab": {}
      },
      "source": [
        "# lendo csv e armazenando em um dataframe\n",
        "dados = pd.read_csv('/content/drive/My Drive/Colab Notebooks/dataSets/QualidadeVinho/winequality-whiteAndRed.csv')"
      ],
      "execution_count": 3,
      "outputs": []
    },
    {
      "cell_type": "code",
      "metadata": {
        "id": "7q3GlbPCe7Yk",
        "colab_type": "code",
        "colab": {
          "base_uri": "https://localhost:8080/",
          "height": 221
        },
        "outputId": "46df47b5-3baa-43f0-9fd3-f04d2a0bccd7"
      },
      "source": [
        "# verificando o dataframe\n",
        "dados.head(5)"
      ],
      "execution_count": 4,
      "outputs": [
        {
          "output_type": "execute_result",
          "data": {
            "text/html": [
              "<div>\n",
              "<style scoped>\n",
              "    .dataframe tbody tr th:only-of-type {\n",
              "        vertical-align: middle;\n",
              "    }\n",
              "\n",
              "    .dataframe tbody tr th {\n",
              "        vertical-align: top;\n",
              "    }\n",
              "\n",
              "    .dataframe thead th {\n",
              "        text-align: right;\n",
              "    }\n",
              "</style>\n",
              "<table border=\"1\" class=\"dataframe\">\n",
              "  <thead>\n",
              "    <tr style=\"text-align: right;\">\n",
              "      <th></th>\n",
              "      <th>wine type</th>\n",
              "      <th>fixed acidity</th>\n",
              "      <th>volatile acidity</th>\n",
              "      <th>citric acid</th>\n",
              "      <th>residual sugar</th>\n",
              "      <th>chlorides</th>\n",
              "      <th>free sulfur dioxide</th>\n",
              "      <th>total sulfur dioxide</th>\n",
              "      <th>density</th>\n",
              "      <th>pH</th>\n",
              "      <th>sulphates</th>\n",
              "      <th>alcohol</th>\n",
              "      <th>quality</th>\n",
              "    </tr>\n",
              "  </thead>\n",
              "  <tbody>\n",
              "    <tr>\n",
              "      <th>0</th>\n",
              "      <td>white</td>\n",
              "      <td>7.0</td>\n",
              "      <td>0.27</td>\n",
              "      <td>0.36</td>\n",
              "      <td>20.7</td>\n",
              "      <td>45.00</td>\n",
              "      <td>45.0</td>\n",
              "      <td>170.0</td>\n",
              "      <td>1001.0000</td>\n",
              "      <td>3.00</td>\n",
              "      <td>0.45</td>\n",
              "      <td>8.8</td>\n",
              "      <td>6</td>\n",
              "    </tr>\n",
              "    <tr>\n",
              "      <th>1</th>\n",
              "      <td>white</td>\n",
              "      <td>6.3</td>\n",
              "      <td>0.30</td>\n",
              "      <td>0.34</td>\n",
              "      <td>1.6</td>\n",
              "      <td>49.00</td>\n",
              "      <td>14.0</td>\n",
              "      <td>132.0</td>\n",
              "      <td>994.0000</td>\n",
              "      <td>3.30</td>\n",
              "      <td>0.49</td>\n",
              "      <td>9.5</td>\n",
              "      <td>6</td>\n",
              "    </tr>\n",
              "    <tr>\n",
              "      <th>2</th>\n",
              "      <td>white</td>\n",
              "      <td>8.1</td>\n",
              "      <td>0.28</td>\n",
              "      <td>0.40</td>\n",
              "      <td>6.9</td>\n",
              "      <td>0.05</td>\n",
              "      <td>30.0</td>\n",
              "      <td>97.0</td>\n",
              "      <td>0.9951</td>\n",
              "      <td>3.26</td>\n",
              "      <td>0.44</td>\n",
              "      <td>10.1</td>\n",
              "      <td>6</td>\n",
              "    </tr>\n",
              "    <tr>\n",
              "      <th>3</th>\n",
              "      <td>white</td>\n",
              "      <td>7.2</td>\n",
              "      <td>0.23</td>\n",
              "      <td>0.32</td>\n",
              "      <td>8.5</td>\n",
              "      <td>58.00</td>\n",
              "      <td>47.0</td>\n",
              "      <td>186.0</td>\n",
              "      <td>0.9956</td>\n",
              "      <td>3.19</td>\n",
              "      <td>0.40</td>\n",
              "      <td>9.9</td>\n",
              "      <td>6</td>\n",
              "    </tr>\n",
              "    <tr>\n",
              "      <th>4</th>\n",
              "      <td>white</td>\n",
              "      <td>7.2</td>\n",
              "      <td>0.23</td>\n",
              "      <td>0.32</td>\n",
              "      <td>8.5</td>\n",
              "      <td>58.00</td>\n",
              "      <td>47.0</td>\n",
              "      <td>186.0</td>\n",
              "      <td>0.9956</td>\n",
              "      <td>3.19</td>\n",
              "      <td>0.40</td>\n",
              "      <td>9.9</td>\n",
              "      <td>6</td>\n",
              "    </tr>\n",
              "  </tbody>\n",
              "</table>\n",
              "</div>"
            ],
            "text/plain": [
              "  wine type  fixed acidity  volatile acidity  ...  sulphates  alcohol  quality\n",
              "0     white            7.0              0.27  ...       0.45      8.8        6\n",
              "1     white            6.3              0.30  ...       0.49      9.5        6\n",
              "2     white            8.1              0.28  ...       0.44     10.1        6\n",
              "3     white            7.2              0.23  ...       0.40      9.9        6\n",
              "4     white            7.2              0.23  ...       0.40      9.9        6\n",
              "\n",
              "[5 rows x 13 columns]"
            ]
          },
          "metadata": {
            "tags": []
          },
          "execution_count": 4
        }
      ]
    },
    {
      "cell_type": "code",
      "metadata": {
        "id": "RPQQszHriJRC",
        "colab_type": "code",
        "colab": {
          "base_uri": "https://localhost:8080/",
          "height": 102
        },
        "outputId": "4e5a7139-41d1-47fa-e492-3ca16607fafc"
      },
      "source": [
        "#verificando colunas dos dados\n",
        "dados.columns"
      ],
      "execution_count": 5,
      "outputs": [
        {
          "output_type": "execute_result",
          "data": {
            "text/plain": [
              "Index(['wine type', 'fixed acidity', 'volatile acidity', 'citric acid',\n",
              "       'residual sugar', 'chlorides', 'free sulfur dioxide',\n",
              "       'total sulfur dioxide', 'density', 'pH', 'sulphates', 'alcohol',\n",
              "       'quality'],\n",
              "      dtype='object')"
            ]
          },
          "metadata": {
            "tags": []
          },
          "execution_count": 5
        }
      ]
    },
    {
      "cell_type": "code",
      "metadata": {
        "id": "3OtGJFSenp_b",
        "colab_type": "code",
        "colab": {
          "base_uri": "https://localhost:8080/",
          "height": 255
        },
        "outputId": "fbd3d0e5-13fb-4bfa-dc8c-0652da09dd42"
      },
      "source": [
        "#verificar a quantidade de instâncias\n",
        "dados.count"
      ],
      "execution_count": 6,
      "outputs": [
        {
          "output_type": "execute_result",
          "data": {
            "text/plain": [
              "<bound method DataFrame.count of      wine type  fixed acidity  volatile acidity  ...  sulphates  alcohol  quality\n",
              "0        white            7.0              0.27  ...       0.45      8.8        6\n",
              "1        white            6.3              0.30  ...       0.49      9.5        6\n",
              "2        white            8.1              0.28  ...       0.44     10.1        6\n",
              "3        white            7.2              0.23  ...       0.40      9.9        6\n",
              "4        white            7.2              0.23  ...       0.40      9.9        6\n",
              "...        ...            ...               ...  ...        ...      ...      ...\n",
              "8091       red            6.2              0.60  ...       0.58     10.5        5\n",
              "8092       red            5.9              0.55  ...       0.76     11.2        6\n",
              "8093       red            6.3              0.51  ...       0.75     11.0        6\n",
              "8094       red            5.9            645.00  ...       0.71     10.2        5\n",
              "8095       red            6.0              0.31  ...       0.66     11.0        6\n",
              "\n",
              "[8096 rows x 13 columns]>"
            ]
          },
          "metadata": {
            "tags": []
          },
          "execution_count": 6
        }
      ]
    },
    {
      "cell_type": "markdown",
      "metadata": {
        "id": "s60w6UsZiFMD",
        "colab_type": "text"
      },
      "source": [
        "# **3. Limpeza e organização dos dados**"
      ]
    },
    {
      "cell_type": "code",
      "metadata": {
        "id": "vfBHj-r9iXHe",
        "colab_type": "code",
        "colab": {}
      },
      "source": [
        "#verificar e eliminar se existem valores NAN, ? e/ou faltantes\n",
        "dados = dados.dropna()"
      ],
      "execution_count": 7,
      "outputs": []
    },
    {
      "cell_type": "code",
      "metadata": {
        "id": "Px4WLooWiOQ2",
        "colab_type": "code",
        "colab": {}
      },
      "source": [
        "#eliminar colunas irrelevantes para o contexto\n",
        "dados = dados.drop(columns=['density']) # atributo com valores desproporcional"
      ],
      "execution_count": 8,
      "outputs": []
    },
    {
      "cell_type": "code",
      "metadata": {
        "id": "FY-8Z-XVn1uG",
        "colab_type": "code",
        "colab": {
          "base_uri": "https://localhost:8080/",
          "height": 221
        },
        "outputId": "bc74b41a-6de6-4043-f5d7-43f57c6df5b5"
      },
      "source": [
        "#verificar quantidade de instâncias sem valores NAN, ? e/ou faltantes\n",
        "dados.head()"
      ],
      "execution_count": 9,
      "outputs": [
        {
          "output_type": "execute_result",
          "data": {
            "text/html": [
              "<div>\n",
              "<style scoped>\n",
              "    .dataframe tbody tr th:only-of-type {\n",
              "        vertical-align: middle;\n",
              "    }\n",
              "\n",
              "    .dataframe tbody tr th {\n",
              "        vertical-align: top;\n",
              "    }\n",
              "\n",
              "    .dataframe thead th {\n",
              "        text-align: right;\n",
              "    }\n",
              "</style>\n",
              "<table border=\"1\" class=\"dataframe\">\n",
              "  <thead>\n",
              "    <tr style=\"text-align: right;\">\n",
              "      <th></th>\n",
              "      <th>wine type</th>\n",
              "      <th>fixed acidity</th>\n",
              "      <th>volatile acidity</th>\n",
              "      <th>citric acid</th>\n",
              "      <th>residual sugar</th>\n",
              "      <th>chlorides</th>\n",
              "      <th>free sulfur dioxide</th>\n",
              "      <th>total sulfur dioxide</th>\n",
              "      <th>pH</th>\n",
              "      <th>sulphates</th>\n",
              "      <th>alcohol</th>\n",
              "      <th>quality</th>\n",
              "    </tr>\n",
              "  </thead>\n",
              "  <tbody>\n",
              "    <tr>\n",
              "      <th>0</th>\n",
              "      <td>white</td>\n",
              "      <td>7.0</td>\n",
              "      <td>0.27</td>\n",
              "      <td>0.36</td>\n",
              "      <td>20.7</td>\n",
              "      <td>45.00</td>\n",
              "      <td>45.0</td>\n",
              "      <td>170.0</td>\n",
              "      <td>3.00</td>\n",
              "      <td>0.45</td>\n",
              "      <td>8.8</td>\n",
              "      <td>6</td>\n",
              "    </tr>\n",
              "    <tr>\n",
              "      <th>1</th>\n",
              "      <td>white</td>\n",
              "      <td>6.3</td>\n",
              "      <td>0.30</td>\n",
              "      <td>0.34</td>\n",
              "      <td>1.6</td>\n",
              "      <td>49.00</td>\n",
              "      <td>14.0</td>\n",
              "      <td>132.0</td>\n",
              "      <td>3.30</td>\n",
              "      <td>0.49</td>\n",
              "      <td>9.5</td>\n",
              "      <td>6</td>\n",
              "    </tr>\n",
              "    <tr>\n",
              "      <th>2</th>\n",
              "      <td>white</td>\n",
              "      <td>8.1</td>\n",
              "      <td>0.28</td>\n",
              "      <td>0.40</td>\n",
              "      <td>6.9</td>\n",
              "      <td>0.05</td>\n",
              "      <td>30.0</td>\n",
              "      <td>97.0</td>\n",
              "      <td>3.26</td>\n",
              "      <td>0.44</td>\n",
              "      <td>10.1</td>\n",
              "      <td>6</td>\n",
              "    </tr>\n",
              "    <tr>\n",
              "      <th>3</th>\n",
              "      <td>white</td>\n",
              "      <td>7.2</td>\n",
              "      <td>0.23</td>\n",
              "      <td>0.32</td>\n",
              "      <td>8.5</td>\n",
              "      <td>58.00</td>\n",
              "      <td>47.0</td>\n",
              "      <td>186.0</td>\n",
              "      <td>3.19</td>\n",
              "      <td>0.40</td>\n",
              "      <td>9.9</td>\n",
              "      <td>6</td>\n",
              "    </tr>\n",
              "    <tr>\n",
              "      <th>4</th>\n",
              "      <td>white</td>\n",
              "      <td>7.2</td>\n",
              "      <td>0.23</td>\n",
              "      <td>0.32</td>\n",
              "      <td>8.5</td>\n",
              "      <td>58.00</td>\n",
              "      <td>47.0</td>\n",
              "      <td>186.0</td>\n",
              "      <td>3.19</td>\n",
              "      <td>0.40</td>\n",
              "      <td>9.9</td>\n",
              "      <td>6</td>\n",
              "    </tr>\n",
              "  </tbody>\n",
              "</table>\n",
              "</div>"
            ],
            "text/plain": [
              "  wine type  fixed acidity  volatile acidity  ...  sulphates  alcohol  quality\n",
              "0     white            7.0              0.27  ...       0.45      8.8        6\n",
              "1     white            6.3              0.30  ...       0.49      9.5        6\n",
              "2     white            8.1              0.28  ...       0.44     10.1        6\n",
              "3     white            7.2              0.23  ...       0.40      9.9        6\n",
              "4     white            7.2              0.23  ...       0.40      9.9        6\n",
              "\n",
              "[5 rows x 12 columns]"
            ]
          },
          "metadata": {
            "tags": []
          },
          "execution_count": 9
        }
      ]
    },
    {
      "cell_type": "code",
      "metadata": {
        "id": "0uRtI1Oti7Ap",
        "colab_type": "code",
        "colab": {
          "base_uri": "https://localhost:8080/",
          "height": 221
        },
        "outputId": "ce9fb767-546b-466f-9ce1-6243a0b110e0"
      },
      "source": [
        "#trocando o tipo do atributo 'wine type'  por um tipo numerico\n",
        "dados['wine type'] = dados['wine type'].replace(['white','red'],[0,1]) # 0 - para white wine | 1 - para red wine\n",
        "dados.head()"
      ],
      "execution_count": 10,
      "outputs": [
        {
          "output_type": "execute_result",
          "data": {
            "text/html": [
              "<div>\n",
              "<style scoped>\n",
              "    .dataframe tbody tr th:only-of-type {\n",
              "        vertical-align: middle;\n",
              "    }\n",
              "\n",
              "    .dataframe tbody tr th {\n",
              "        vertical-align: top;\n",
              "    }\n",
              "\n",
              "    .dataframe thead th {\n",
              "        text-align: right;\n",
              "    }\n",
              "</style>\n",
              "<table border=\"1\" class=\"dataframe\">\n",
              "  <thead>\n",
              "    <tr style=\"text-align: right;\">\n",
              "      <th></th>\n",
              "      <th>wine type</th>\n",
              "      <th>fixed acidity</th>\n",
              "      <th>volatile acidity</th>\n",
              "      <th>citric acid</th>\n",
              "      <th>residual sugar</th>\n",
              "      <th>chlorides</th>\n",
              "      <th>free sulfur dioxide</th>\n",
              "      <th>total sulfur dioxide</th>\n",
              "      <th>pH</th>\n",
              "      <th>sulphates</th>\n",
              "      <th>alcohol</th>\n",
              "      <th>quality</th>\n",
              "    </tr>\n",
              "  </thead>\n",
              "  <tbody>\n",
              "    <tr>\n",
              "      <th>0</th>\n",
              "      <td>0</td>\n",
              "      <td>7.0</td>\n",
              "      <td>0.27</td>\n",
              "      <td>0.36</td>\n",
              "      <td>20.7</td>\n",
              "      <td>45.00</td>\n",
              "      <td>45.0</td>\n",
              "      <td>170.0</td>\n",
              "      <td>3.00</td>\n",
              "      <td>0.45</td>\n",
              "      <td>8.8</td>\n",
              "      <td>6</td>\n",
              "    </tr>\n",
              "    <tr>\n",
              "      <th>1</th>\n",
              "      <td>0</td>\n",
              "      <td>6.3</td>\n",
              "      <td>0.30</td>\n",
              "      <td>0.34</td>\n",
              "      <td>1.6</td>\n",
              "      <td>49.00</td>\n",
              "      <td>14.0</td>\n",
              "      <td>132.0</td>\n",
              "      <td>3.30</td>\n",
              "      <td>0.49</td>\n",
              "      <td>9.5</td>\n",
              "      <td>6</td>\n",
              "    </tr>\n",
              "    <tr>\n",
              "      <th>2</th>\n",
              "      <td>0</td>\n",
              "      <td>8.1</td>\n",
              "      <td>0.28</td>\n",
              "      <td>0.40</td>\n",
              "      <td>6.9</td>\n",
              "      <td>0.05</td>\n",
              "      <td>30.0</td>\n",
              "      <td>97.0</td>\n",
              "      <td>3.26</td>\n",
              "      <td>0.44</td>\n",
              "      <td>10.1</td>\n",
              "      <td>6</td>\n",
              "    </tr>\n",
              "    <tr>\n",
              "      <th>3</th>\n",
              "      <td>0</td>\n",
              "      <td>7.2</td>\n",
              "      <td>0.23</td>\n",
              "      <td>0.32</td>\n",
              "      <td>8.5</td>\n",
              "      <td>58.00</td>\n",
              "      <td>47.0</td>\n",
              "      <td>186.0</td>\n",
              "      <td>3.19</td>\n",
              "      <td>0.40</td>\n",
              "      <td>9.9</td>\n",
              "      <td>6</td>\n",
              "    </tr>\n",
              "    <tr>\n",
              "      <th>4</th>\n",
              "      <td>0</td>\n",
              "      <td>7.2</td>\n",
              "      <td>0.23</td>\n",
              "      <td>0.32</td>\n",
              "      <td>8.5</td>\n",
              "      <td>58.00</td>\n",
              "      <td>47.0</td>\n",
              "      <td>186.0</td>\n",
              "      <td>3.19</td>\n",
              "      <td>0.40</td>\n",
              "      <td>9.9</td>\n",
              "      <td>6</td>\n",
              "    </tr>\n",
              "  </tbody>\n",
              "</table>\n",
              "</div>"
            ],
            "text/plain": [
              "   wine type  fixed acidity  volatile acidity  ...  sulphates  alcohol  quality\n",
              "0          0            7.0              0.27  ...       0.45      8.8        6\n",
              "1          0            6.3              0.30  ...       0.49      9.5        6\n",
              "2          0            8.1              0.28  ...       0.44     10.1        6\n",
              "3          0            7.2              0.23  ...       0.40      9.9        6\n",
              "4          0            7.2              0.23  ...       0.40      9.9        6\n",
              "\n",
              "[5 rows x 12 columns]"
            ]
          },
          "metadata": {
            "tags": []
          },
          "execution_count": 10
        }
      ]
    },
    {
      "cell_type": "markdown",
      "metadata": {
        "id": "v8rlrEDkjRRZ",
        "colab_type": "text"
      },
      "source": [
        "# **4. Re-escala dos dados**"
      ]
    },
    {
      "cell_type": "markdown",
      "metadata": {
        "id": "iM-553UHO0mW",
        "colab_type": "text"
      },
      "source": [
        "**Re-escala usando máximo e mínimo**"
      ]
    },
    {
      "cell_type": "code",
      "metadata": {
        "id": "_DEr7uvrO6Zp",
        "colab_type": "code",
        "colab": {}
      },
      "source": [
        "dados = (dados - dados.min())/(dados.max()-dados.min())"
      ],
      "execution_count": 11,
      "outputs": []
    },
    {
      "cell_type": "markdown",
      "metadata": {
        "id": "RMBnFTq2jYo_",
        "colab_type": "text"
      },
      "source": [
        "# **5. Organizando dados para modelagem**"
      ]
    },
    {
      "cell_type": "markdown",
      "metadata": {
        "id": "rFMrHxWyPag-",
        "colab_type": "text"
      },
      "source": [
        "**Dividir os dados em atributos descritores e atributo de classe (target)**"
      ]
    },
    {
      "cell_type": "code",
      "metadata": {
        "id": "6p4oyW0bjf9h",
        "colab_type": "code",
        "colab": {
          "base_uri": "https://localhost:8080/",
          "height": 221
        },
        "outputId": "ce98e6b1-e5d3-4a42-a93e-a5bfa417c7a8"
      },
      "source": [
        "#dividindo dados em atributos descritores e atributo de classe\n",
        "X = dados.iloc[:,1:]\n",
        "X.head()"
      ],
      "execution_count": 12,
      "outputs": [
        {
          "output_type": "execute_result",
          "data": {
            "text/html": [
              "<div>\n",
              "<style scoped>\n",
              "    .dataframe tbody tr th:only-of-type {\n",
              "        vertical-align: middle;\n",
              "    }\n",
              "\n",
              "    .dataframe tbody tr th {\n",
              "        vertical-align: top;\n",
              "    }\n",
              "\n",
              "    .dataframe thead th {\n",
              "        text-align: right;\n",
              "    }\n",
              "</style>\n",
              "<table border=\"1\" class=\"dataframe\">\n",
              "  <thead>\n",
              "    <tr style=\"text-align: right;\">\n",
              "      <th></th>\n",
              "      <th>fixed acidity</th>\n",
              "      <th>volatile acidity</th>\n",
              "      <th>citric acid</th>\n",
              "      <th>residual sugar</th>\n",
              "      <th>chlorides</th>\n",
              "      <th>free sulfur dioxide</th>\n",
              "      <th>total sulfur dioxide</th>\n",
              "      <th>pH</th>\n",
              "      <th>sulphates</th>\n",
              "      <th>alcohol</th>\n",
              "      <th>quality</th>\n",
              "    </tr>\n",
              "  </thead>\n",
              "  <tbody>\n",
              "    <tr>\n",
              "      <th>0</th>\n",
              "      <td>0.264463</td>\n",
              "      <td>0.000160</td>\n",
              "      <td>0.216867</td>\n",
              "      <td>0.308282</td>\n",
              "      <td>0.073619</td>\n",
              "      <td>0.152778</td>\n",
              "      <td>0.377880</td>\n",
              "      <td>0.217054</td>\n",
              "      <td>0.129213</td>\n",
              "      <td>0.115942</td>\n",
              "      <td>0.5</td>\n",
              "    </tr>\n",
              "    <tr>\n",
              "      <th>1</th>\n",
              "      <td>0.206612</td>\n",
              "      <td>0.000186</td>\n",
              "      <td>0.204819</td>\n",
              "      <td>0.015337</td>\n",
              "      <td>0.080166</td>\n",
              "      <td>0.045139</td>\n",
              "      <td>0.290323</td>\n",
              "      <td>0.449612</td>\n",
              "      <td>0.151685</td>\n",
              "      <td>0.217391</td>\n",
              "      <td>0.5</td>\n",
              "    </tr>\n",
              "    <tr>\n",
              "      <th>2</th>\n",
              "      <td>0.355372</td>\n",
              "      <td>0.000169</td>\n",
              "      <td>0.240964</td>\n",
              "      <td>0.096626</td>\n",
              "      <td>0.000049</td>\n",
              "      <td>0.100694</td>\n",
              "      <td>0.209677</td>\n",
              "      <td>0.418605</td>\n",
              "      <td>0.123596</td>\n",
              "      <td>0.304348</td>\n",
              "      <td>0.5</td>\n",
              "    </tr>\n",
              "    <tr>\n",
              "      <th>3</th>\n",
              "      <td>0.280992</td>\n",
              "      <td>0.000127</td>\n",
              "      <td>0.192771</td>\n",
              "      <td>0.121166</td>\n",
              "      <td>0.094897</td>\n",
              "      <td>0.159722</td>\n",
              "      <td>0.414747</td>\n",
              "      <td>0.364341</td>\n",
              "      <td>0.101124</td>\n",
              "      <td>0.275362</td>\n",
              "      <td>0.5</td>\n",
              "    </tr>\n",
              "    <tr>\n",
              "      <th>4</th>\n",
              "      <td>0.280992</td>\n",
              "      <td>0.000127</td>\n",
              "      <td>0.192771</td>\n",
              "      <td>0.121166</td>\n",
              "      <td>0.094897</td>\n",
              "      <td>0.159722</td>\n",
              "      <td>0.414747</td>\n",
              "      <td>0.364341</td>\n",
              "      <td>0.101124</td>\n",
              "      <td>0.275362</td>\n",
              "      <td>0.5</td>\n",
              "    </tr>\n",
              "  </tbody>\n",
              "</table>\n",
              "</div>"
            ],
            "text/plain": [
              "   fixed acidity  volatile acidity  citric acid  ...  sulphates   alcohol  quality\n",
              "0       0.264463          0.000160     0.216867  ...   0.129213  0.115942      0.5\n",
              "1       0.206612          0.000186     0.204819  ...   0.151685  0.217391      0.5\n",
              "2       0.355372          0.000169     0.240964  ...   0.123596  0.304348      0.5\n",
              "3       0.280992          0.000127     0.192771  ...   0.101124  0.275362      0.5\n",
              "4       0.280992          0.000127     0.192771  ...   0.101124  0.275362      0.5\n",
              "\n",
              "[5 rows x 11 columns]"
            ]
          },
          "metadata": {
            "tags": []
          },
          "execution_count": 12
        }
      ]
    },
    {
      "cell_type": "code",
      "metadata": {
        "id": "Eqk0Y-hhj4z_",
        "colab_type": "code",
        "colab": {
          "base_uri": "https://localhost:8080/",
          "height": 119
        },
        "outputId": "68e3aab1-7a75-4fee-db72-62ea1d99e02f"
      },
      "source": [
        "y = dados['wine type']\n",
        "y.head()\n"
      ],
      "execution_count": 18,
      "outputs": [
        {
          "output_type": "execute_result",
          "data": {
            "text/plain": [
              "0    0.0\n",
              "1    0.0\n",
              "2    0.0\n",
              "3    0.0\n",
              "4    0.0\n",
              "Name: wine type, dtype: float64"
            ]
          },
          "metadata": {
            "tags": []
          },
          "execution_count": 18
        }
      ]
    },
    {
      "cell_type": "markdown",
      "metadata": {
        "id": "xY2x_NLHLpRO",
        "colab_type": "text"
      },
      "source": [
        "**Dividir os dados em treino e teste**\n",
        "\n"
      ]
    },
    {
      "cell_type": "code",
      "metadata": {
        "id": "O-uh5qdSL6Av",
        "colab_type": "code",
        "colab": {}
      },
      "source": [
        "from sklearn.model_selection import train_test_split"
      ],
      "execution_count": 19,
      "outputs": []
    },
    {
      "cell_type": "markdown",
      "metadata": {
        "id": "4alA7NDjQPXH",
        "colab_type": "text"
      },
      "source": [
        "Divide a matriz em subconjuntos aleatórios de treino e teste\n",
        "test_size: tamanho do subconjunto de teste (em percentual)\n",
        "random_state: define a semente para a aleatoriedade (se não definido, semente aleatória)"
      ]
    },
    {
      "cell_type": "code",
      "metadata": {
        "id": "ZWyps5E0QSaX",
        "colab_type": "code",
        "colab": {}
      },
      "source": [
        "X_train, X_test, y_train, y_test = train_test_split(X,y, test_size=0.2)#random_state=42"
      ],
      "execution_count": 20,
      "outputs": []
    },
    {
      "cell_type": "code",
      "metadata": {
        "id": "CzKB6Gj-QTgQ",
        "colab_type": "code",
        "colab": {
          "base_uri": "https://localhost:8080/",
          "height": 221
        },
        "outputId": "3782e627-c443-4aac-e31e-05f87af521e0"
      },
      "source": [
        "X_train.head()"
      ],
      "execution_count": 21,
      "outputs": [
        {
          "output_type": "execute_result",
          "data": {
            "text/html": [
              "<div>\n",
              "<style scoped>\n",
              "    .dataframe tbody tr th:only-of-type {\n",
              "        vertical-align: middle;\n",
              "    }\n",
              "\n",
              "    .dataframe tbody tr th {\n",
              "        vertical-align: top;\n",
              "    }\n",
              "\n",
              "    .dataframe thead th {\n",
              "        text-align: right;\n",
              "    }\n",
              "</style>\n",
              "<table border=\"1\" class=\"dataframe\">\n",
              "  <thead>\n",
              "    <tr style=\"text-align: right;\">\n",
              "      <th></th>\n",
              "      <th>fixed acidity</th>\n",
              "      <th>volatile acidity</th>\n",
              "      <th>citric acid</th>\n",
              "      <th>residual sugar</th>\n",
              "      <th>chlorides</th>\n",
              "      <th>free sulfur dioxide</th>\n",
              "      <th>total sulfur dioxide</th>\n",
              "      <th>pH</th>\n",
              "      <th>sulphates</th>\n",
              "      <th>alcohol</th>\n",
              "      <th>quality</th>\n",
              "    </tr>\n",
              "  </thead>\n",
              "  <tbody>\n",
              "    <tr>\n",
              "      <th>299</th>\n",
              "      <td>0.239669</td>\n",
              "      <td>0.000076</td>\n",
              "      <td>0.301205</td>\n",
              "      <td>0.023006</td>\n",
              "      <td>0.070346</td>\n",
              "      <td>0.090278</td>\n",
              "      <td>0.267281</td>\n",
              "      <td>0.333333</td>\n",
              "      <td>0.129213</td>\n",
              "      <td>0.333333</td>\n",
              "      <td>0.500000</td>\n",
              "    </tr>\n",
              "    <tr>\n",
              "      <th>3155</th>\n",
              "      <td>0.247934</td>\n",
              "      <td>0.000262</td>\n",
              "      <td>0.204819</td>\n",
              "      <td>0.104294</td>\n",
              "      <td>0.000000</td>\n",
              "      <td>0.128472</td>\n",
              "      <td>0.292627</td>\n",
              "      <td>0.356589</td>\n",
              "      <td>0.123596</td>\n",
              "      <td>0.579710</td>\n",
              "      <td>0.666667</td>\n",
              "    </tr>\n",
              "    <tr>\n",
              "      <th>5135</th>\n",
              "      <td>0.280992</td>\n",
              "      <td>0.544273</td>\n",
              "      <td>0.000000</td>\n",
              "      <td>0.019939</td>\n",
              "      <td>0.158729</td>\n",
              "      <td>0.048611</td>\n",
              "      <td>0.076037</td>\n",
              "      <td>0.503876</td>\n",
              "      <td>0.202247</td>\n",
              "      <td>0.173913</td>\n",
              "      <td>0.500000</td>\n",
              "    </tr>\n",
              "    <tr>\n",
              "      <th>6895</th>\n",
              "      <td>0.636364</td>\n",
              "      <td>0.000430</td>\n",
              "      <td>0.355422</td>\n",
              "      <td>0.030675</td>\n",
              "      <td>0.142361</td>\n",
              "      <td>0.041667</td>\n",
              "      <td>0.099078</td>\n",
              "      <td>0.356589</td>\n",
              "      <td>0.241573</td>\n",
              "      <td>0.434783</td>\n",
              "      <td>0.500000</td>\n",
              "    </tr>\n",
              "    <tr>\n",
              "      <th>740</th>\n",
              "      <td>0.256198</td>\n",
              "      <td>0.000262</td>\n",
              "      <td>0.240964</td>\n",
              "      <td>0.061350</td>\n",
              "      <td>0.035975</td>\n",
              "      <td>0.013889</td>\n",
              "      <td>0.029954</td>\n",
              "      <td>0.457364</td>\n",
              "      <td>0.084270</td>\n",
              "      <td>0.666667</td>\n",
              "      <td>0.000000</td>\n",
              "    </tr>\n",
              "  </tbody>\n",
              "</table>\n",
              "</div>"
            ],
            "text/plain": [
              "      fixed acidity  volatile acidity  ...   alcohol   quality\n",
              "299        0.239669          0.000076  ...  0.333333  0.500000\n",
              "3155       0.247934          0.000262  ...  0.579710  0.666667\n",
              "5135       0.280992          0.544273  ...  0.173913  0.500000\n",
              "6895       0.636364          0.000430  ...  0.434783  0.500000\n",
              "740        0.256198          0.000262  ...  0.666667  0.000000\n",
              "\n",
              "[5 rows x 11 columns]"
            ]
          },
          "metadata": {
            "tags": []
          },
          "execution_count": 21
        }
      ]
    },
    {
      "cell_type": "code",
      "metadata": {
        "id": "xaVErfoOQYbp",
        "colab_type": "code",
        "colab": {
          "base_uri": "https://localhost:8080/",
          "height": 119
        },
        "outputId": "bd1a4b05-bab3-429e-8b63-8eb43d508571"
      },
      "source": [
        "y_train.head()"
      ],
      "execution_count": 22,
      "outputs": [
        {
          "output_type": "execute_result",
          "data": {
            "text/plain": [
              "299     0.0\n",
              "3155    0.0\n",
              "5135    0.0\n",
              "6895    1.0\n",
              "740     0.0\n",
              "Name: wine type, dtype: float64"
            ]
          },
          "metadata": {
            "tags": []
          },
          "execution_count": 22
        }
      ]
    },
    {
      "cell_type": "markdown",
      "metadata": {
        "id": "EKZ77JVDL-dp",
        "colab_type": "text"
      },
      "source": [
        "# **5. Definindo algoritmo de aprendizado**"
      ]
    },
    {
      "cell_type": "markdown",
      "metadata": {
        "id": "IZAFsHkRQlrg",
        "colab_type": "text"
      },
      "source": [
        "Árvore de decisão\n",
        "criterion: medida de qualidade das separações ('gini','entropia')\n",
        "gini: impureza de Gini\n",
        "entropy: ganho de informação\n",
        "max_depth: profundidade máxima da árvore"
      ]
    },
    {
      "cell_type": "code",
      "metadata": {
        "id": "DMZahM_YQo-_",
        "colab_type": "code",
        "colab": {}
      },
      "source": [
        "from sklearn.tree import DecisionTreeClassifier"
      ],
      "execution_count": 23,
      "outputs": []
    },
    {
      "cell_type": "code",
      "metadata": {
        "id": "nhlumus4Qspi",
        "colab_type": "code",
        "colab": {}
      },
      "source": [
        "#definindo modelo\n",
        "classificador = DecisionTreeClassifier()"
      ],
      "execution_count": 24,
      "outputs": []
    },
    {
      "cell_type": "code",
      "metadata": {
        "id": "kEgKArmfQu_E",
        "colab_type": "code",
        "colab": {
          "base_uri": "https://localhost:8080/",
          "height": 119
        },
        "outputId": "02fcfe52-4a13-4d3c-bbe1-2e47d335ef0b"
      },
      "source": [
        "#treinando modelo\n",
        "classificador.fit(X_train,y_train)"
      ],
      "execution_count": 25,
      "outputs": [
        {
          "output_type": "execute_result",
          "data": {
            "text/plain": [
              "DecisionTreeClassifier(ccp_alpha=0.0, class_weight=None, criterion='gini',\n",
              "                       max_depth=None, max_features=None, max_leaf_nodes=None,\n",
              "                       min_impurity_decrease=0.0, min_impurity_split=None,\n",
              "                       min_samples_leaf=1, min_samples_split=2,\n",
              "                       min_weight_fraction_leaf=0.0, presort='deprecated',\n",
              "                       random_state=None, splitter='best')"
            ]
          },
          "metadata": {
            "tags": []
          },
          "execution_count": 25
        }
      ]
    },
    {
      "cell_type": "code",
      "metadata": {
        "id": "dTNyXzNFQxJG",
        "colab_type": "code",
        "colab": {}
      },
      "source": [
        "from sklearn.tree import plot_tree"
      ],
      "execution_count": 26,
      "outputs": []
    },
    {
      "cell_type": "code",
      "metadata": {
        "id": "6M_QvGHFQzGq",
        "colab_type": "code",
        "colab": {}
      },
      "source": [
        "# mudando o tamanho da figura\n",
        "plt.rcParams[\"figure.figsize\"] = (30,20)"
      ],
      "execution_count": 27,
      "outputs": []
    },
    {
      "cell_type": "code",
      "metadata": {
        "id": "5WN6BtcSQ1xO",
        "colab_type": "code",
        "colab": {
          "base_uri": "https://localhost:8080/",
          "height": 798
        },
        "outputId": "34874a39-99bf-4d5a-f0cf-68afeec6b1d8"
      },
      "source": [
        "plot_tree(classificador,feature_names=dados.columns[1:])\n",
        "plt.show()"
      ],
      "execution_count": 28,
      "outputs": [
        {
          "output_type": "display_data",
          "data": {
            "image/png": "[encoded data removed]",
            "text/plain": [
              "<Figure size 2160x1440 with 1 Axes>"
            ]
          },
          "metadata": {
            "tags": [],
            "needs_background": "light"
          }
        }
      ]
    },
    {
      "cell_type": "code",
      "metadata": {
        "id": "F1vncgnpQ4v6",
        "colab_type": "code",
        "colab": {}
      },
      "source": [
        "# mudando o tamanho da figura\n",
        "plt.rcParams[\"figure.figsize\"] = (8,6)"
      ],
      "execution_count": 29,
      "outputs": []
    },
    {
      "cell_type": "code",
      "metadata": {
        "id": "W9bZwxlXQ5Wm",
        "colab_type": "code",
        "colab": {
          "base_uri": "https://localhost:8080/",
          "height": 34
        },
        "outputId": "82d12948-e634-4b78-ef53-01deafaafc7e"
      },
      "source": [
        "#realizando classificação\n",
        "classificacao = classificador.predict(X_test)\n",
        "classificacao"
      ],
      "execution_count": 30,
      "outputs": [
        {
          "output_type": "execute_result",
          "data": {
            "text/plain": [
              "array([0., 1., 0., ..., 0., 0., 0.])"
            ]
          },
          "metadata": {
            "tags": []
          },
          "execution_count": 30
        }
      ]
    },
    {
      "cell_type": "code",
      "metadata": {
        "id": "RIVjvv6DQ785",
        "colab_type": "code",
        "colab": {
          "base_uri": "https://localhost:8080/",
          "height": 1000
        },
        "outputId": "ec59f215-dde5-4ab1-a2b7-5bc595ed70d4"
      },
      "source": [
        "for i in range(len(y_test)):\n",
        "  print(y_test.iloc[i],'\\t',classificacao[i])"
      ],
      "execution_count": 31,
      "outputs": [
        {
          "output_type": "stream",
          "text": [
            "0.0 \t 0.0\n",
            "0.0 \t 1.0\n",
            "0.0 \t 0.0\n",
            "1.0 \t 0.0\n",
            "0.0 \t 0.0\n",
            "0.0 \t 0.0\n",
            "1.0 \t 0.0\n",
            "0.0 \t 0.0\n",
            "0.0 \t 1.0\n",
            "0.0 \t 1.0\n",
            "0.0 \t 0.0\n",
            "0.0 \t 0.0\n",
            "1.0 \t 0.0\n",
            "0.0 \t 0.0\n",
            "0.0 \t 1.0\n",
            "1.0 \t 0.0\n",
            "0.0 \t 0.0\n",
            "0.0 \t 1.0\n",
            "0.0 \t 1.0\n",
            "0.0 \t 0.0\n",
            "0.0 \t 0.0\n",
            "1.0 \t 0.0\n",
            "0.0 \t 0.0\n",
            "0.0 \t 0.0\n",
            "0.0 \t 0.0\n",
            "0.0 \t 0.0\n",
            "0.0 \t 0.0\n",
            "0.0 \t 1.0\n",
            "1.0 \t 0.0\n",
            "0.0 \t 1.0\n",
            "1.0 \t 0.0\n",
            "0.0 \t 0.0\n",
            "0.0 \t 0.0\n",
            "1.0 \t 0.0\n",
            "0.0 \t 0.0\n",
            "0.0 \t 0.0\n",
            "1.0 \t 0.0\n",
            "0.0 \t 0.0\n",
            "0.0 \t 0.0\n",
            "0.0 \t 1.0\n",
            "0.0 \t 0.0\n",
            "0.0 \t 1.0\n",
            "0.0 \t 1.0\n",
            "0.0 \t 1.0\n",
            "0.0 \t 0.0\n",
            "1.0 \t 0.0\n",
            "0.0 \t 0.0\n",
            "0.0 \t 1.0\n",
            "0.0 \t 0.0\n",
            "0.0 \t 1.0\n",
            "0.0 \t 1.0\n",
            "0.0 \t 0.0\n",
            "0.0 \t 0.0\n",
            "0.0 \t 0.0\n",
            "0.0 \t 0.0\n",
            "0.0 \t 0.0\n",
            "0.0 \t 1.0\n",
            "1.0 \t 0.0\n",
            "0.0 \t 0.0\n",
            "1.0 \t 0.0\n",
            "0.0 \t 0.0\n",
            "0.0 \t 0.0\n",
            "0.0 \t 0.0\n",
            "0.0 \t 0.0\n",
            "1.0 \t 0.0\n",
            "0.0 \t 0.0\n",
            "0.0 \t 0.0\n",
            "0.0 \t 1.0\n",
            "0.0 \t 1.0\n",
            "1.0 \t 0.0\n",
            "0.0 \t 0.0\n",
            "0.0 \t 0.0\n",
            "0.0 \t 0.0\n",
            "0.0 \t 0.0\n",
            "1.0 \t 0.0\n",
            "0.0 \t 0.0\n",
            "0.0 \t 1.0\n",
            "0.0 \t 0.0\n",
            "1.0 \t 0.0\n",
            "0.0 \t 0.0\n",
            "0.0 \t 0.0\n",
            "0.0 \t 0.0\n",
            "0.0 \t 0.0\n",
            "0.0 \t 0.0\n",
            "0.0 \t 0.0\n",
            "0.0 \t 0.0\n",
            "1.0 \t 0.0\n",
            "0.0 \t 0.0\n",
            "0.0 \t 0.0\n",
            "0.0 \t 1.0\n",
            "0.0 \t 0.0\n",
            "0.0 \t 0.0\n",
            "0.0 \t 0.0\n",
            "0.0 \t 0.0\n",
            "0.0 \t 0.0\n",
            "1.0 \t 0.0\n",
            "0.0 \t 0.0\n",
            "1.0 \t 0.0\n",
            "0.0 \t 0.0\n",
            "0.0 \t 0.0\n",
            "1.0 \t 0.0\n",
            "0.0 \t 0.0\n",
            "0.0 \t 0.0\n",
            "0.0 \t 0.0\n",
            "0.0 \t 1.0\n",
            "0.0 \t 0.0\n",
            "0.0 \t 0.0\n",
            "0.0 \t 0.0\n",
            "0.0 \t 1.0\n",
            "0.0 \t 1.0\n",
            "0.0 \t 0.0\n",
            "1.0 \t 0.0\n",
            "1.0 \t 0.0\n",
            "0.0 \t 0.0\n",
            "1.0 \t 0.0\n",
            "1.0 \t 0.0\n",
            "1.0 \t 0.0\n",
            "0.0 \t 1.0\n",
            "0.0 \t 1.0\n",
            "0.0 \t 0.0\n",
            "1.0 \t 0.0\n",
            "0.0 \t 0.0\n",
            "1.0 \t 0.0\n",
            "0.0 \t 0.0\n",
            "0.0 \t 0.0\n",
            "1.0 \t 0.0\n",
            "0.0 \t 1.0\n",
            "0.0 \t 0.0\n",
            "0.0 \t 1.0\n",
            "0.0 \t 0.0\n",
            "0.0 \t 0.0\n",
            "0.0 \t 0.0\n",
            "1.0 \t 0.0\n",
            "0.0 \t 0.0\n",
            "1.0 \t 1.0\n",
            "1.0 \t 0.0\n",
            "0.0 \t 0.0\n",
            "0.0 \t 0.0\n",
            "0.0 \t 0.0\n",
            "0.0 \t 1.0\n",
            "1.0 \t 0.0\n",
            "0.0 \t 0.0\n",
            "1.0 \t 0.0\n",
            "0.0 \t 1.0\n",
            "0.0 \t 0.0\n",
            "0.0 \t 1.0\n",
            "0.0 \t 0.0\n",
            "1.0 \t 0.0\n",
            "0.0 \t 0.0\n",
            "0.0 \t 0.0\n",
            "0.0 \t 0.0\n",
            "0.0 \t 0.0\n",
            "1.0 \t 0.0\n",
            "0.0 \t 0.0\n",
            "0.0 \t 1.0\n",
            "1.0 \t 0.0\n",
            "1.0 \t 0.0\n",
            "0.0 \t 0.0\n",
            "1.0 \t 0.0\n",
            "1.0 \t 1.0\n",
            "1.0 \t 0.0\n",
            "0.0 \t 0.0\n",
            "0.0 \t 0.0\n",
            "0.0 \t 0.0\n",
            "0.0 \t 0.0\n",
            "0.0 \t 0.0\n",
            "1.0 \t 0.0\n",
            "0.0 \t 0.0\n",
            "0.0 \t 0.0\n",
            "0.0 \t 0.0\n",
            "0.0 \t 0.0\n",
            "0.0 \t 0.0\n",
            "0.0 \t 1.0\n",
            "0.0 \t 1.0\n",
            "0.0 \t 0.0\n",
            "0.0 \t 0.0\n",
            "1.0 \t 0.0\n",
            "0.0 \t 0.0\n",
            "0.0 \t 0.0\n",
            "0.0 \t 0.0\n",
            "0.0 \t 0.0\n",
            "0.0 \t 1.0\n",
            "0.0 \t 0.0\n",
            "1.0 \t 0.0\n",
            "1.0 \t 0.0\n",
            "1.0 \t 0.0\n",
            "0.0 \t 1.0\n",
            "0.0 \t 0.0\n",
            "0.0 \t 0.0\n",
            "0.0 \t 1.0\n",
            "0.0 \t 1.0\n",
            "0.0 \t 0.0\n",
            "0.0 \t 0.0\n",
            "0.0 \t 0.0\n",
            "0.0 \t 0.0\n",
            "0.0 \t 0.0\n",
            "0.0 \t 1.0\n",
            "0.0 \t 1.0\n",
            "0.0 \t 0.0\n",
            "0.0 \t 0.0\n",
            "0.0 \t 1.0\n",
            "0.0 \t 0.0\n",
            "0.0 \t 0.0\n",
            "0.0 \t 1.0\n",
            "1.0 \t 0.0\n",
            "0.0 \t 0.0\n",
            "0.0 \t 0.0\n",
            "1.0 \t 0.0\n",
            "0.0 \t 0.0\n",
            "0.0 \t 0.0\n",
            "1.0 \t 0.0\n",
            "1.0 \t 0.0\n",
            "0.0 \t 0.0\n",
            "0.0 \t 0.0\n",
            "0.0 \t 0.0\n",
            "0.0 \t 0.0\n",
            "0.0 \t 0.0\n",
            "0.0 \t 0.0\n",
            "1.0 \t 0.0\n",
            "0.0 \t 0.0\n",
            "1.0 \t 0.0\n",
            "0.0 \t 1.0\n",
            "0.0 \t 0.0\n",
            "0.0 \t 0.0\n",
            "1.0 \t 0.0\n",
            "0.0 \t 0.0\n",
            "0.0 \t 0.0\n",
            "0.0 \t 0.0\n",
            "0.0 \t 1.0\n",
            "0.0 \t 0.0\n",
            "0.0 \t 0.0\n",
            "0.0 \t 0.0\n",
            "0.0 \t 1.0\n",
            "0.0 \t 0.0\n",
            "0.0 \t 1.0\n",
            "0.0 \t 1.0\n",
            "0.0 \t 0.0\n",
            "0.0 \t 0.0\n",
            "1.0 \t 1.0\n",
            "0.0 \t 0.0\n",
            "0.0 \t 0.0\n",
            "0.0 \t 0.0\n",
            "0.0 \t 0.0\n",
            "1.0 \t 0.0\n",
            "1.0 \t 0.0\n",
            "0.0 \t 0.0\n",
            "0.0 \t 0.0\n",
            "0.0 \t 0.0\n",
            "0.0 \t 0.0\n",
            "0.0 \t 1.0\n",
            "1.0 \t 0.0\n",
            "0.0 \t 1.0\n",
            "0.0 \t 1.0\n",
            "1.0 \t 0.0\n",
            "0.0 \t 1.0\n",
            "1.0 \t 0.0\n",
            "1.0 \t 0.0\n",
            "0.0 \t 0.0\n",
            "0.0 \t 0.0\n",
            "0.0 \t 1.0\n",
            "0.0 \t 1.0\n",
            "1.0 \t 1.0\n",
            "0.0 \t 0.0\n",
            "0.0 \t 0.0\n",
            "0.0 \t 0.0\n",
            "0.0 \t 0.0\n",
            "0.0 \t 0.0\n",
            "0.0 \t 0.0\n",
            "0.0 \t 0.0\n",
            "0.0 \t 0.0\n",
            "0.0 \t 1.0\n",
            "0.0 \t 1.0\n",
            "0.0 \t 0.0\n",
            "1.0 \t 0.0\n",
            "0.0 \t 0.0\n",
            "0.0 \t 0.0\n",
            "0.0 \t 0.0\n",
            "0.0 \t 1.0\n",
            "0.0 \t 0.0\n",
            "0.0 \t 0.0\n",
            "0.0 \t 0.0\n",
            "0.0 \t 0.0\n",
            "1.0 \t 0.0\n",
            "0.0 \t 1.0\n",
            "0.0 \t 0.0\n",
            "0.0 \t 0.0\n",
            "0.0 \t 0.0\n",
            "0.0 \t 0.0\n",
            "0.0 \t 1.0\n",
            "0.0 \t 0.0\n",
            "0.0 \t 0.0\n",
            "0.0 \t 0.0\n",
            "0.0 \t 0.0\n",
            "0.0 \t 0.0\n",
            "0.0 \t 0.0\n",
            "0.0 \t 0.0\n",
            "0.0 \t 0.0\n",
            "0.0 \t 0.0\n",
            "0.0 \t 0.0\n",
            "1.0 \t 0.0\n",
            "0.0 \t 1.0\n",
            "0.0 \t 0.0\n",
            "1.0 \t 0.0\n",
            "1.0 \t 0.0\n",
            "0.0 \t 0.0\n",
            "0.0 \t 0.0\n",
            "0.0 \t 0.0\n",
            "0.0 \t 0.0\n",
            "0.0 \t 0.0\n",
            "0.0 \t 0.0\n",
            "0.0 \t 1.0\n",
            "0.0 \t 0.0\n",
            "0.0 \t 0.0\n",
            "0.0 \t 0.0\n",
            "0.0 \t 1.0\n",
            "0.0 \t 1.0\n",
            "0.0 \t 0.0\n",
            "1.0 \t 0.0\n",
            "0.0 \t 1.0\n",
            "0.0 \t 0.0\n",
            "0.0 \t 1.0\n",
            "0.0 \t 0.0\n",
            "1.0 \t 0.0\n",
            "0.0 \t 0.0\n",
            "0.0 \t 0.0\n",
            "0.0 \t 0.0\n",
            "1.0 \t 0.0\n",
            "0.0 \t 1.0\n",
            "0.0 \t 1.0\n",
            "1.0 \t 0.0\n",
            "1.0 \t 0.0\n",
            "0.0 \t 0.0\n",
            "0.0 \t 0.0\n",
            "0.0 \t 0.0\n",
            "0.0 \t 0.0\n",
            "1.0 \t 0.0\n",
            "0.0 \t 0.0\n",
            "0.0 \t 0.0\n",
            "0.0 \t 0.0\n",
            "0.0 \t 0.0\n",
            "1.0 \t 0.0\n",
            "0.0 \t 0.0\n",
            "0.0 \t 0.0\n",
            "0.0 \t 0.0\n",
            "1.0 \t 0.0\n",
            "0.0 \t 0.0\n",
            "0.0 \t 0.0\n",
            "1.0 \t 0.0\n",
            "0.0 \t 0.0\n",
            "1.0 \t 0.0\n",
            "0.0 \t 0.0\n",
            "0.0 \t 1.0\n",
            "1.0 \t 0.0\n",
            "0.0 \t 0.0\n",
            "0.0 \t 0.0\n",
            "0.0 \t 1.0\n",
            "1.0 \t 0.0\n",
            "0.0 \t 0.0\n",
            "0.0 \t 0.0\n",
            "0.0 \t 0.0\n",
            "0.0 \t 0.0\n",
            "0.0 \t 0.0\n",
            "1.0 \t 0.0\n",
            "0.0 \t 0.0\n",
            "0.0 \t 0.0\n",
            "0.0 \t 1.0\n",
            "0.0 \t 0.0\n",
            "0.0 \t 0.0\n",
            "0.0 \t 0.0\n",
            "0.0 \t 0.0\n",
            "0.0 \t 0.0\n",
            "0.0 \t 0.0\n",
            "0.0 \t 0.0\n",
            "0.0 \t 0.0\n",
            "0.0 \t 1.0\n",
            "0.0 \t 1.0\n",
            "0.0 \t 1.0\n",
            "1.0 \t 0.0\n",
            "0.0 \t 0.0\n",
            "0.0 \t 0.0\n",
            "1.0 \t 0.0\n",
            "0.0 \t 1.0\n",
            "1.0 \t 0.0\n",
            "0.0 \t 0.0\n",
            "1.0 \t 0.0\n",
            "0.0 \t 0.0\n",
            "0.0 \t 1.0\n",
            "0.0 \t 0.0\n",
            "0.0 \t 0.0\n",
            "0.0 \t 0.0\n",
            "0.0 \t 0.0\n",
            "0.0 \t 0.0\n",
            "0.0 \t 0.0\n",
            "0.0 \t 1.0\n",
            "0.0 \t 0.0\n",
            "0.0 \t 0.0\n",
            "1.0 \t 0.0\n",
            "0.0 \t 0.0\n",
            "0.0 \t 0.0\n",
            "0.0 \t 0.0\n",
            "0.0 \t 0.0\n",
            "1.0 \t 0.0\n",
            "0.0 \t 0.0\n",
            "0.0 \t 0.0\n",
            "0.0 \t 0.0\n",
            "1.0 \t 0.0\n",
            "0.0 \t 0.0\n",
            "0.0 \t 0.0\n",
            "0.0 \t 0.0\n",
            "0.0 \t 0.0\n",
            "0.0 \t 0.0\n",
            "0.0 \t 0.0\n",
            "0.0 \t 0.0\n",
            "0.0 \t 0.0\n",
            "0.0 \t 0.0\n",
            "0.0 \t 0.0\n",
            "0.0 \t 0.0\n",
            "0.0 \t 0.0\n",
            "0.0 \t 0.0\n",
            "0.0 \t 0.0\n",
            "0.0 \t 1.0\n",
            "0.0 \t 0.0\n",
            "0.0 \t 0.0\n",
            "0.0 \t 0.0\n",
            "0.0 \t 0.0\n",
            "0.0 \t 0.0\n",
            "1.0 \t 0.0\n",
            "0.0 \t 1.0\n",
            "1.0 \t 0.0\n",
            "0.0 \t 0.0\n",
            "1.0 \t 0.0\n",
            "0.0 \t 0.0\n",
            "0.0 \t 0.0\n",
            "0.0 \t 0.0\n",
            "0.0 \t 1.0\n",
            "1.0 \t 0.0\n",
            "1.0 \t 0.0\n",
            "0.0 \t 0.0\n",
            "0.0 \t 0.0\n",
            "0.0 \t 0.0\n",
            "0.0 \t 0.0\n",
            "0.0 \t 1.0\n",
            "0.0 \t 1.0\n",
            "1.0 \t 0.0\n",
            "0.0 \t 1.0\n",
            "0.0 \t 0.0\n",
            "0.0 \t 1.0\n",
            "0.0 \t 0.0\n",
            "1.0 \t 0.0\n",
            "1.0 \t 0.0\n",
            "0.0 \t 1.0\n",
            "0.0 \t 0.0\n",
            "1.0 \t 0.0\n",
            "0.0 \t 1.0\n",
            "0.0 \t 0.0\n",
            "1.0 \t 0.0\n",
            "1.0 \t 0.0\n",
            "0.0 \t 0.0\n",
            "0.0 \t 0.0\n",
            "0.0 \t 0.0\n",
            "0.0 \t 1.0\n",
            "0.0 \t 0.0\n",
            "1.0 \t 0.0\n",
            "0.0 \t 1.0\n",
            "1.0 \t 0.0\n",
            "0.0 \t 0.0\n",
            "0.0 \t 0.0\n",
            "0.0 \t 0.0\n",
            "1.0 \t 1.0\n",
            "0.0 \t 0.0\n",
            "0.0 \t 0.0\n",
            "1.0 \t 0.0\n",
            "0.0 \t 0.0\n",
            "0.0 \t 1.0\n",
            "0.0 \t 0.0\n",
            "1.0 \t 0.0\n",
            "0.0 \t 0.0\n",
            "0.0 \t 0.0\n",
            "0.0 \t 0.0\n",
            "0.0 \t 0.0\n",
            "0.0 \t 0.0\n",
            "0.0 \t 0.0\n",
            "1.0 \t 0.0\n",
            "0.0 \t 1.0\n",
            "0.0 \t 0.0\n",
            "0.0 \t 1.0\n",
            "0.0 \t 1.0\n",
            "0.0 \t 0.0\n",
            "0.0 \t 0.0\n",
            "0.0 \t 1.0\n",
            "0.0 \t 0.0\n",
            "0.0 \t 0.0\n",
            "0.0 \t 0.0\n",
            "1.0 \t 0.0\n",
            "0.0 \t 1.0\n",
            "0.0 \t 1.0\n",
            "1.0 \t 1.0\n",
            "1.0 \t 0.0\n",
            "0.0 \t 1.0\n",
            "1.0 \t 0.0\n",
            "0.0 \t 1.0\n",
            "0.0 \t 0.0\n",
            "0.0 \t 0.0\n",
            "0.0 \t 0.0\n",
            "0.0 \t 1.0\n",
            "0.0 \t 1.0\n",
            "1.0 \t 0.0\n",
            "0.0 \t 0.0\n",
            "1.0 \t 0.0\n",
            "0.0 \t 1.0\n",
            "1.0 \t 0.0\n",
            "1.0 \t 0.0\n",
            "0.0 \t 0.0\n",
            "0.0 \t 0.0\n",
            "0.0 \t 0.0\n",
            "1.0 \t 0.0\n",
            "1.0 \t 0.0\n",
            "0.0 \t 0.0\n",
            "0.0 \t 0.0\n",
            "0.0 \t 0.0\n",
            "1.0 \t 0.0\n",
            "0.0 \t 0.0\n",
            "0.0 \t 0.0\n",
            "0.0 \t 0.0\n",
            "0.0 \t 0.0\n",
            "1.0 \t 0.0\n",
            "0.0 \t 1.0\n",
            "0.0 \t 1.0\n",
            "0.0 \t 1.0\n",
            "0.0 \t 0.0\n",
            "0.0 \t 0.0\n",
            "0.0 \t 0.0\n",
            "1.0 \t 0.0\n",
            "0.0 \t 0.0\n",
            "0.0 \t 0.0\n",
            "0.0 \t 0.0\n",
            "0.0 \t 0.0\n",
            "0.0 \t 0.0\n",
            "0.0 \t 0.0\n",
            "0.0 \t 0.0\n",
            "0.0 \t 0.0\n",
            "0.0 \t 0.0\n",
            "0.0 \t 0.0\n",
            "0.0 \t 0.0\n",
            "0.0 \t 0.0\n",
            "0.0 \t 1.0\n",
            "0.0 \t 1.0\n",
            "0.0 \t 0.0\n",
            "1.0 \t 0.0\n",
            "0.0 \t 0.0\n",
            "0.0 \t 1.0\n",
            "0.0 \t 0.0\n",
            "0.0 \t 1.0\n",
            "0.0 \t 0.0\n",
            "0.0 \t 0.0\n",
            "0.0 \t 1.0\n",
            "1.0 \t 0.0\n",
            "0.0 \t 1.0\n",
            "0.0 \t 0.0\n",
            "0.0 \t 0.0\n",
            "0.0 \t 0.0\n",
            "0.0 \t 0.0\n",
            "0.0 \t 0.0\n",
            "1.0 \t 0.0\n",
            "0.0 \t 1.0\n",
            "0.0 \t 0.0\n",
            "1.0 \t 0.0\n",
            "0.0 \t 0.0\n",
            "0.0 \t 0.0\n",
            "0.0 \t 0.0\n",
            "0.0 \t 0.0\n",
            "0.0 \t 0.0\n",
            "0.0 \t 1.0\n",
            "0.0 \t 0.0\n",
            "1.0 \t 0.0\n",
            "0.0 \t 0.0\n",
            "0.0 \t 1.0\n",
            "0.0 \t 0.0\n",
            "1.0 \t 0.0\n",
            "1.0 \t 0.0\n",
            "0.0 \t 0.0\n",
            "0.0 \t 0.0\n",
            "0.0 \t 0.0\n",
            "0.0 \t 0.0\n",
            "0.0 \t 0.0\n",
            "0.0 \t 0.0\n",
            "0.0 \t 0.0\n",
            "0.0 \t 0.0\n",
            "1.0 \t 0.0\n",
            "0.0 \t 0.0\n",
            "0.0 \t 0.0\n",
            "0.0 \t 0.0\n",
            "0.0 \t 0.0\n",
            "0.0 \t 0.0\n",
            "0.0 \t 0.0\n",
            "0.0 \t 0.0\n",
            "0.0 \t 0.0\n",
            "1.0 \t 0.0\n",
            "0.0 \t 0.0\n",
            "0.0 \t 1.0\n",
            "0.0 \t 0.0\n",
            "0.0 \t 1.0\n",
            "0.0 \t 1.0\n",
            "0.0 \t 0.0\n",
            "0.0 \t 1.0\n",
            "0.0 \t 0.0\n",
            "1.0 \t 0.0\n",
            "0.0 \t 0.0\n",
            "0.0 \t 0.0\n",
            "1.0 \t 0.0\n",
            "1.0 \t 0.0\n",
            "0.0 \t 0.0\n",
            "0.0 \t 0.0\n",
            "1.0 \t 0.0\n",
            "0.0 \t 1.0\n",
            "0.0 \t 0.0\n",
            "0.0 \t 0.0\n",
            "1.0 \t 0.0\n",
            "1.0 \t 0.0\n",
            "0.0 \t 0.0\n",
            "0.0 \t 1.0\n",
            "0.0 \t 0.0\n",
            "0.0 \t 0.0\n",
            "0.0 \t 0.0\n",
            "0.0 \t 0.0\n",
            "1.0 \t 0.0\n",
            "1.0 \t 0.0\n",
            "0.0 \t 0.0\n",
            "0.0 \t 0.0\n",
            "0.0 \t 0.0\n",
            "0.0 \t 0.0\n",
            "0.0 \t 1.0\n",
            "1.0 \t 0.0\n",
            "0.0 \t 0.0\n",
            "0.0 \t 0.0\n",
            "0.0 \t 0.0\n",
            "0.0 \t 0.0\n",
            "1.0 \t 0.0\n",
            "0.0 \t 0.0\n",
            "1.0 \t 0.0\n",
            "0.0 \t 1.0\n",
            "0.0 \t 0.0\n",
            "0.0 \t 1.0\n",
            "0.0 \t 0.0\n",
            "0.0 \t 0.0\n",
            "1.0 \t 0.0\n",
            "0.0 \t 0.0\n",
            "1.0 \t 0.0\n",
            "0.0 \t 1.0\n",
            "0.0 \t 0.0\n",
            "0.0 \t 0.0\n",
            "1.0 \t 0.0\n",
            "1.0 \t 0.0\n",
            "0.0 \t 0.0\n",
            "0.0 \t 1.0\n",
            "0.0 \t 0.0\n",
            "0.0 \t 1.0\n",
            "0.0 \t 0.0\n",
            "0.0 \t 0.0\n",
            "0.0 \t 0.0\n",
            "0.0 \t 1.0\n",
            "0.0 \t 1.0\n",
            "0.0 \t 0.0\n",
            "0.0 \t 1.0\n",
            "0.0 \t 0.0\n",
            "0.0 \t 0.0\n",
            "0.0 \t 0.0\n",
            "0.0 \t 0.0\n",
            "0.0 \t 0.0\n",
            "0.0 \t 0.0\n",
            "1.0 \t 0.0\n",
            "0.0 \t 0.0\n",
            "0.0 \t 0.0\n",
            "0.0 \t 0.0\n",
            "0.0 \t 0.0\n",
            "0.0 \t 0.0\n",
            "0.0 \t 0.0\n",
            "0.0 \t 1.0\n",
            "1.0 \t 0.0\n",
            "0.0 \t 0.0\n",
            "0.0 \t 0.0\n",
            "0.0 \t 1.0\n",
            "0.0 \t 1.0\n",
            "0.0 \t 1.0\n",
            "0.0 \t 0.0\n",
            "0.0 \t 0.0\n",
            "1.0 \t 0.0\n",
            "1.0 \t 0.0\n",
            "0.0 \t 0.0\n",
            "0.0 \t 1.0\n",
            "0.0 \t 0.0\n",
            "0.0 \t 1.0\n",
            "0.0 \t 0.0\n",
            "0.0 \t 0.0\n",
            "0.0 \t 0.0\n",
            "0.0 \t 0.0\n",
            "0.0 \t 0.0\n",
            "0.0 \t 0.0\n",
            "0.0 \t 0.0\n",
            "0.0 \t 0.0\n",
            "1.0 \t 0.0\n",
            "1.0 \t 0.0\n",
            "0.0 \t 0.0\n",
            "0.0 \t 0.0\n",
            "0.0 \t 0.0\n",
            "0.0 \t 0.0\n",
            "0.0 \t 1.0\n",
            "0.0 \t 1.0\n",
            "1.0 \t 0.0\n",
            "1.0 \t 1.0\n",
            "0.0 \t 0.0\n",
            "0.0 \t 1.0\n",
            "0.0 \t 0.0\n",
            "0.0 \t 1.0\n",
            "1.0 \t 0.0\n",
            "1.0 \t 0.0\n",
            "0.0 \t 0.0\n",
            "1.0 \t 0.0\n",
            "0.0 \t 0.0\n",
            "0.0 \t 0.0\n",
            "0.0 \t 0.0\n",
            "1.0 \t 0.0\n",
            "1.0 \t 0.0\n",
            "0.0 \t 0.0\n",
            "0.0 \t 1.0\n",
            "0.0 \t 1.0\n",
            "1.0 \t 0.0\n",
            "1.0 \t 0.0\n",
            "0.0 \t 1.0\n",
            "0.0 \t 0.0\n",
            "0.0 \t 0.0\n",
            "0.0 \t 0.0\n",
            "1.0 \t 0.0\n",
            "0.0 \t 0.0\n",
            "0.0 \t 0.0\n",
            "0.0 \t 1.0\n",
            "0.0 \t 0.0\n",
            "1.0 \t 0.0\n",
            "0.0 \t 1.0\n",
            "0.0 \t 1.0\n",
            "0.0 \t 0.0\n",
            "0.0 \t 1.0\n",
            "0.0 \t 0.0\n",
            "0.0 \t 1.0\n",
            "0.0 \t 1.0\n",
            "0.0 \t 0.0\n",
            "0.0 \t 0.0\n",
            "0.0 \t 0.0\n",
            "0.0 \t 0.0\n",
            "1.0 \t 0.0\n",
            "0.0 \t 0.0\n",
            "1.0 \t 0.0\n",
            "0.0 \t 0.0\n",
            "0.0 \t 0.0\n",
            "1.0 \t 0.0\n",
            "0.0 \t 0.0\n",
            "0.0 \t 1.0\n",
            "0.0 \t 0.0\n",
            "0.0 \t 0.0\n",
            "0.0 \t 0.0\n",
            "1.0 \t 0.0\n",
            "0.0 \t 1.0\n",
            "0.0 \t 0.0\n",
            "0.0 \t 1.0\n",
            "0.0 \t 0.0\n",
            "0.0 \t 0.0\n",
            "0.0 \t 0.0\n",
            "0.0 \t 1.0\n",
            "0.0 \t 0.0\n",
            "0.0 \t 0.0\n",
            "0.0 \t 0.0\n",
            "0.0 \t 0.0\n",
            "0.0 \t 0.0\n",
            "1.0 \t 0.0\n",
            "0.0 \t 1.0\n",
            "0.0 \t 1.0\n",
            "0.0 \t 0.0\n",
            "0.0 \t 0.0\n",
            "1.0 \t 0.0\n",
            "1.0 \t 0.0\n",
            "0.0 \t 1.0\n",
            "0.0 \t 0.0\n",
            "1.0 \t 0.0\n",
            "0.0 \t 0.0\n",
            "0.0 \t 1.0\n",
            "0.0 \t 0.0\n",
            "0.0 \t 0.0\n",
            "0.0 \t 0.0\n",
            "1.0 \t 0.0\n",
            "1.0 \t 0.0\n",
            "0.0 \t 0.0\n",
            "1.0 \t 1.0\n",
            "0.0 \t 0.0\n",
            "0.0 \t 0.0\n",
            "0.0 \t 0.0\n",
            "1.0 \t 0.0\n",
            "0.0 \t 0.0\n",
            "0.0 \t 0.0\n",
            "1.0 \t 0.0\n",
            "0.0 \t 1.0\n",
            "0.0 \t 0.0\n",
            "0.0 \t 0.0\n",
            "0.0 \t 0.0\n",
            "0.0 \t 0.0\n",
            "0.0 \t 0.0\n",
            "0.0 \t 0.0\n",
            "0.0 \t 1.0\n",
            "0.0 \t 0.0\n",
            "0.0 \t 1.0\n",
            "0.0 \t 0.0\n",
            "0.0 \t 0.0\n",
            "0.0 \t 0.0\n",
            "1.0 \t 0.0\n",
            "0.0 \t 0.0\n",
            "0.0 \t 0.0\n",
            "0.0 \t 0.0\n",
            "0.0 \t 0.0\n",
            "0.0 \t 0.0\n",
            "0.0 \t 0.0\n",
            "0.0 \t 0.0\n",
            "0.0 \t 0.0\n",
            "1.0 \t 0.0\n",
            "0.0 \t 0.0\n",
            "0.0 \t 0.0\n",
            "0.0 \t 0.0\n",
            "0.0 \t 0.0\n",
            "0.0 \t 0.0\n",
            "0.0 \t 0.0\n",
            "0.0 \t 0.0\n",
            "0.0 \t 1.0\n",
            "0.0 \t 0.0\n",
            "1.0 \t 0.0\n",
            "0.0 \t 0.0\n",
            "0.0 \t 0.0\n",
            "0.0 \t 0.0\n",
            "1.0 \t 0.0\n",
            "1.0 \t 0.0\n",
            "0.0 \t 0.0\n",
            "1.0 \t 0.0\n",
            "0.0 \t 0.0\n",
            "0.0 \t 0.0\n",
            "0.0 \t 0.0\n",
            "1.0 \t 0.0\n",
            "0.0 \t 0.0\n",
            "0.0 \t 1.0\n",
            "0.0 \t 0.0\n",
            "1.0 \t 0.0\n",
            "0.0 \t 1.0\n",
            "0.0 \t 0.0\n",
            "1.0 \t 0.0\n",
            "0.0 \t 0.0\n",
            "0.0 \t 0.0\n",
            "0.0 \t 0.0\n",
            "0.0 \t 0.0\n",
            "0.0 \t 1.0\n",
            "0.0 \t 1.0\n",
            "0.0 \t 0.0\n",
            "0.0 \t 0.0\n",
            "0.0 \t 0.0\n",
            "0.0 \t 0.0\n",
            "0.0 \t 0.0\n",
            "0.0 \t 0.0\n",
            "0.0 \t 0.0\n",
            "0.0 \t 0.0\n",
            "0.0 \t 0.0\n",
            "0.0 \t 0.0\n",
            "0.0 \t 0.0\n",
            "1.0 \t 0.0\n",
            "0.0 \t 0.0\n",
            "0.0 \t 0.0\n",
            "0.0 \t 0.0\n",
            "0.0 \t 0.0\n",
            "0.0 \t 0.0\n",
            "0.0 \t 0.0\n",
            "0.0 \t 0.0\n",
            "1.0 \t 0.0\n",
            "0.0 \t 0.0\n",
            "0.0 \t 0.0\n",
            "0.0 \t 0.0\n",
            "0.0 \t 0.0\n",
            "0.0 \t 0.0\n",
            "0.0 \t 0.0\n",
            "0.0 \t 0.0\n",
            "0.0 \t 0.0\n",
            "0.0 \t 0.0\n",
            "1.0 \t 0.0\n",
            "0.0 \t 1.0\n",
            "1.0 \t 0.0\n",
            "0.0 \t 0.0\n",
            "0.0 \t 1.0\n",
            "1.0 \t 1.0\n",
            "0.0 \t 1.0\n",
            "0.0 \t 0.0\n",
            "0.0 \t 0.0\n",
            "0.0 \t 0.0\n",
            "0.0 \t 0.0\n",
            "0.0 \t 0.0\n",
            "1.0 \t 0.0\n",
            "0.0 \t 0.0\n",
            "1.0 \t 0.0\n",
            "0.0 \t 0.0\n",
            "0.0 \t 0.0\n",
            "0.0 \t 1.0\n",
            "0.0 \t 0.0\n",
            "0.0 \t 0.0\n",
            "0.0 \t 0.0\n",
            "0.0 \t 0.0\n",
            "0.0 \t 0.0\n",
            "0.0 \t 0.0\n",
            "0.0 \t 0.0\n",
            "1.0 \t 0.0\n",
            "0.0 \t 0.0\n",
            "0.0 \t 0.0\n",
            "0.0 \t 0.0\n",
            "0.0 \t 0.0\n",
            "0.0 \t 0.0\n",
            "0.0 \t 0.0\n",
            "0.0 \t 0.0\n",
            "0.0 \t 0.0\n",
            "1.0 \t 0.0\n",
            "0.0 \t 1.0\n",
            "0.0 \t 0.0\n",
            "0.0 \t 0.0\n",
            "0.0 \t 0.0\n",
            "0.0 \t 0.0\n",
            "0.0 \t 0.0\n",
            "0.0 \t 0.0\n",
            "0.0 \t 1.0\n",
            "0.0 \t 0.0\n",
            "0.0 \t 0.0\n",
            "0.0 \t 0.0\n",
            "1.0 \t 0.0\n",
            "0.0 \t 1.0\n",
            "0.0 \t 0.0\n",
            "0.0 \t 0.0\n",
            "1.0 \t 0.0\n",
            "0.0 \t 0.0\n",
            "0.0 \t 0.0\n",
            "1.0 \t 0.0\n",
            "0.0 \t 0.0\n",
            "0.0 \t 0.0\n",
            "0.0 \t 0.0\n",
            "0.0 \t 0.0\n",
            "1.0 \t 0.0\n",
            "0.0 \t 0.0\n",
            "0.0 \t 0.0\n",
            "0.0 \t 0.0\n",
            "0.0 \t 0.0\n",
            "1.0 \t 0.0\n",
            "0.0 \t 0.0\n",
            "0.0 \t 1.0\n",
            "1.0 \t 0.0\n",
            "0.0 \t 1.0\n",
            "0.0 \t 0.0\n",
            "0.0 \t 0.0\n",
            "1.0 \t 0.0\n",
            "0.0 \t 0.0\n",
            "0.0 \t 1.0\n",
            "0.0 \t 0.0\n",
            "0.0 \t 0.0\n",
            "1.0 \t 0.0\n",
            "0.0 \t 1.0\n",
            "0.0 \t 0.0\n",
            "1.0 \t 0.0\n",
            "1.0 \t 0.0\n",
            "0.0 \t 0.0\n",
            "0.0 \t 0.0\n",
            "0.0 \t 0.0\n",
            "1.0 \t 0.0\n",
            "0.0 \t 0.0\n",
            "1.0 \t 0.0\n",
            "0.0 \t 1.0\n",
            "0.0 \t 0.0\n",
            "0.0 \t 0.0\n",
            "0.0 \t 0.0\n",
            "1.0 \t 0.0\n",
            "1.0 \t 0.0\n",
            "0.0 \t 0.0\n",
            "0.0 \t 0.0\n",
            "0.0 \t 0.0\n",
            "1.0 \t 0.0\n",
            "1.0 \t 0.0\n",
            "0.0 \t 0.0\n",
            "0.0 \t 0.0\n",
            "0.0 \t 0.0\n",
            "0.0 \t 0.0\n",
            "0.0 \t 1.0\n",
            "0.0 \t 0.0\n",
            "0.0 \t 1.0\n",
            "0.0 \t 0.0\n",
            "0.0 \t 0.0\n",
            "1.0 \t 0.0\n",
            "0.0 \t 0.0\n",
            "0.0 \t 0.0\n",
            "0.0 \t 0.0\n",
            "0.0 \t 0.0\n",
            "1.0 \t 0.0\n",
            "0.0 \t 0.0\n",
            "0.0 \t 0.0\n",
            "0.0 \t 1.0\n",
            "0.0 \t 0.0\n",
            "0.0 \t 0.0\n",
            "1.0 \t 0.0\n",
            "0.0 \t 0.0\n",
            "0.0 \t 0.0\n",
            "1.0 \t 0.0\n",
            "0.0 \t 0.0\n",
            "0.0 \t 0.0\n",
            "0.0 \t 0.0\n",
            "1.0 \t 0.0\n",
            "0.0 \t 0.0\n",
            "0.0 \t 0.0\n",
            "0.0 \t 0.0\n",
            "1.0 \t 0.0\n",
            "1.0 \t 0.0\n",
            "0.0 \t 0.0\n",
            "0.0 \t 1.0\n",
            "0.0 \t 0.0\n",
            "0.0 \t 0.0\n",
            "0.0 \t 0.0\n",
            "0.0 \t 0.0\n",
            "0.0 \t 0.0\n",
            "0.0 \t 0.0\n",
            "0.0 \t 1.0\n",
            "0.0 \t 1.0\n",
            "0.0 \t 0.0\n",
            "0.0 \t 0.0\n",
            "0.0 \t 0.0\n",
            "0.0 \t 1.0\n",
            "0.0 \t 0.0\n",
            "0.0 \t 0.0\n",
            "0.0 \t 1.0\n",
            "0.0 \t 0.0\n",
            "1.0 \t 0.0\n",
            "0.0 \t 1.0\n",
            "0.0 \t 0.0\n",
            "0.0 \t 1.0\n",
            "0.0 \t 0.0\n",
            "1.0 \t 0.0\n",
            "0.0 \t 0.0\n",
            "0.0 \t 1.0\n",
            "0.0 \t 0.0\n",
            "0.0 \t 1.0\n",
            "0.0 \t 0.0\n",
            "0.0 \t 0.0\n",
            "0.0 \t 0.0\n",
            "0.0 \t 0.0\n",
            "1.0 \t 1.0\n",
            "0.0 \t 0.0\n",
            "0.0 \t 1.0\n",
            "0.0 \t 1.0\n",
            "0.0 \t 0.0\n",
            "0.0 \t 0.0\n",
            "0.0 \t 0.0\n",
            "0.0 \t 1.0\n",
            "0.0 \t 0.0\n",
            "0.0 \t 0.0\n",
            "0.0 \t 0.0\n",
            "0.0 \t 0.0\n",
            "0.0 \t 0.0\n",
            "0.0 \t 0.0\n",
            "0.0 \t 0.0\n",
            "0.0 \t 0.0\n",
            "0.0 \t 0.0\n",
            "0.0 \t 0.0\n",
            "0.0 \t 0.0\n",
            "0.0 \t 0.0\n",
            "0.0 \t 0.0\n",
            "1.0 \t 0.0\n",
            "0.0 \t 0.0\n",
            "0.0 \t 0.0\n",
            "0.0 \t 0.0\n",
            "1.0 \t 0.0\n",
            "0.0 \t 1.0\n",
            "0.0 \t 0.0\n",
            "0.0 \t 0.0\n",
            "1.0 \t 0.0\n",
            "0.0 \t 0.0\n",
            "1.0 \t 0.0\n",
            "1.0 \t 0.0\n",
            "0.0 \t 0.0\n",
            "0.0 \t 1.0\n",
            "0.0 \t 0.0\n",
            "0.0 \t 0.0\n",
            "0.0 \t 0.0\n",
            "0.0 \t 0.0\n",
            "0.0 \t 1.0\n",
            "1.0 \t 0.0\n",
            "0.0 \t 0.0\n",
            "0.0 \t 0.0\n",
            "1.0 \t 0.0\n",
            "0.0 \t 1.0\n",
            "1.0 \t 0.0\n",
            "0.0 \t 0.0\n",
            "1.0 \t 0.0\n",
            "0.0 \t 0.0\n",
            "0.0 \t 0.0\n",
            "0.0 \t 0.0\n",
            "0.0 \t 1.0\n",
            "0.0 \t 0.0\n",
            "1.0 \t 0.0\n",
            "0.0 \t 0.0\n",
            "0.0 \t 1.0\n",
            "0.0 \t 0.0\n",
            "1.0 \t 0.0\n",
            "0.0 \t 1.0\n",
            "0.0 \t 0.0\n",
            "0.0 \t 1.0\n",
            "0.0 \t 0.0\n",
            "0.0 \t 1.0\n",
            "0.0 \t 0.0\n",
            "1.0 \t 0.0\n",
            "0.0 \t 1.0\n",
            "0.0 \t 0.0\n",
            "0.0 \t 0.0\n",
            "0.0 \t 1.0\n",
            "0.0 \t 0.0\n",
            "0.0 \t 0.0\n",
            "0.0 \t 0.0\n",
            "0.0 \t 0.0\n",
            "0.0 \t 0.0\n",
            "0.0 \t 0.0\n",
            "0.0 \t 1.0\n",
            "0.0 \t 0.0\n",
            "1.0 \t 1.0\n",
            "0.0 \t 1.0\n",
            "1.0 \t 1.0\n",
            "0.0 \t 0.0\n",
            "0.0 \t 0.0\n",
            "0.0 \t 0.0\n",
            "0.0 \t 0.0\n",
            "0.0 \t 0.0\n",
            "1.0 \t 0.0\n",
            "0.0 \t 0.0\n",
            "0.0 \t 0.0\n",
            "0.0 \t 1.0\n",
            "0.0 \t 0.0\n",
            "0.0 \t 0.0\n",
            "0.0 \t 0.0\n",
            "0.0 \t 1.0\n",
            "0.0 \t 0.0\n",
            "1.0 \t 0.0\n",
            "0.0 \t 1.0\n",
            "0.0 \t 1.0\n",
            "0.0 \t 1.0\n",
            "1.0 \t 0.0\n",
            "1.0 \t 0.0\n",
            "0.0 \t 1.0\n",
            "1.0 \t 0.0\n",
            "0.0 \t 0.0\n",
            "0.0 \t 0.0\n",
            "1.0 \t 0.0\n",
            "0.0 \t 1.0\n",
            "0.0 \t 0.0\n",
            "0.0 \t 0.0\n",
            "0.0 \t 0.0\n",
            "0.0 \t 0.0\n",
            "1.0 \t 0.0\n",
            "0.0 \t 0.0\n",
            "1.0 \t 0.0\n",
            "0.0 \t 0.0\n",
            "1.0 \t 0.0\n",
            "1.0 \t 0.0\n",
            "0.0 \t 0.0\n",
            "0.0 \t 0.0\n",
            "0.0 \t 1.0\n",
            "0.0 \t 0.0\n",
            "0.0 \t 0.0\n",
            "0.0 \t 0.0\n",
            "1.0 \t 0.0\n",
            "0.0 \t 0.0\n",
            "0.0 \t 0.0\n",
            "0.0 \t 0.0\n",
            "0.0 \t 0.0\n",
            "0.0 \t 0.0\n",
            "0.0 \t 1.0\n",
            "0.0 \t 0.0\n",
            "0.0 \t 0.0\n",
            "0.0 \t 0.0\n",
            "1.0 \t 0.0\n",
            "1.0 \t 0.0\n",
            "0.0 \t 0.0\n",
            "0.0 \t 1.0\n",
            "1.0 \t 0.0\n",
            "0.0 \t 0.0\n",
            "0.0 \t 0.0\n",
            "1.0 \t 0.0\n",
            "1.0 \t 0.0\n",
            "0.0 \t 1.0\n",
            "0.0 \t 0.0\n",
            "0.0 \t 1.0\n",
            "1.0 \t 0.0\n",
            "0.0 \t 0.0\n",
            "1.0 \t 0.0\n",
            "0.0 \t 0.0\n",
            "0.0 \t 0.0\n",
            "0.0 \t 0.0\n",
            "0.0 \t 0.0\n",
            "0.0 \t 0.0\n",
            "0.0 \t 1.0\n",
            "0.0 \t 1.0\n",
            "0.0 \t 0.0\n",
            "0.0 \t 0.0\n",
            "0.0 \t 0.0\n",
            "1.0 \t 1.0\n",
            "0.0 \t 0.0\n",
            "1.0 \t 0.0\n",
            "0.0 \t 1.0\n",
            "0.0 \t 0.0\n",
            "0.0 \t 0.0\n",
            "0.0 \t 0.0\n",
            "0.0 \t 0.0\n",
            "0.0 \t 1.0\n",
            "0.0 \t 0.0\n",
            "0.0 \t 0.0\n",
            "0.0 \t 0.0\n",
            "0.0 \t 0.0\n",
            "0.0 \t 0.0\n",
            "1.0 \t 0.0\n",
            "0.0 \t 0.0\n",
            "1.0 \t 0.0\n",
            "0.0 \t 0.0\n",
            "0.0 \t 0.0\n",
            "0.0 \t 0.0\n",
            "0.0 \t 0.0\n",
            "0.0 \t 1.0\n",
            "0.0 \t 0.0\n",
            "0.0 \t 1.0\n",
            "0.0 \t 0.0\n",
            "0.0 \t 0.0\n",
            "0.0 \t 0.0\n",
            "0.0 \t 0.0\n",
            "1.0 \t 0.0\n",
            "1.0 \t 0.0\n",
            "0.0 \t 0.0\n",
            "1.0 \t 0.0\n",
            "0.0 \t 0.0\n",
            "0.0 \t 1.0\n",
            "0.0 \t 0.0\n",
            "0.0 \t 1.0\n",
            "1.0 \t 0.0\n",
            "0.0 \t 0.0\n",
            "1.0 \t 0.0\n",
            "0.0 \t 0.0\n",
            "1.0 \t 0.0\n",
            "0.0 \t 0.0\n",
            "0.0 \t 0.0\n",
            "0.0 \t 0.0\n",
            "0.0 \t 0.0\n",
            "0.0 \t 0.0\n",
            "0.0 \t 0.0\n",
            "0.0 \t 0.0\n",
            "0.0 \t 0.0\n",
            "1.0 \t 0.0\n",
            "0.0 \t 0.0\n",
            "0.0 \t 1.0\n",
            "0.0 \t 0.0\n",
            "0.0 \t 1.0\n",
            "1.0 \t 0.0\n",
            "0.0 \t 0.0\n",
            "0.0 \t 0.0\n",
            "1.0 \t 0.0\n",
            "0.0 \t 0.0\n",
            "0.0 \t 1.0\n",
            "0.0 \t 0.0\n",
            "0.0 \t 0.0\n",
            "1.0 \t 0.0\n",
            "0.0 \t 0.0\n",
            "0.0 \t 0.0\n",
            "0.0 \t 0.0\n",
            "0.0 \t 0.0\n",
            "0.0 \t 0.0\n",
            "0.0 \t 1.0\n",
            "0.0 \t 1.0\n",
            "0.0 \t 0.0\n",
            "0.0 \t 0.0\n",
            "1.0 \t 0.0\n",
            "0.0 \t 0.0\n",
            "0.0 \t 0.0\n",
            "0.0 \t 0.0\n",
            "0.0 \t 0.0\n",
            "0.0 \t 0.0\n",
            "1.0 \t 1.0\n",
            "0.0 \t 0.0\n",
            "0.0 \t 0.0\n",
            "0.0 \t 0.0\n",
            "1.0 \t 0.0\n",
            "1.0 \t 0.0\n",
            "0.0 \t 0.0\n",
            "1.0 \t 0.0\n",
            "1.0 \t 0.0\n",
            "1.0 \t 0.0\n",
            "0.0 \t 0.0\n",
            "0.0 \t 0.0\n",
            "0.0 \t 1.0\n",
            "0.0 \t 1.0\n",
            "0.0 \t 1.0\n",
            "0.0 \t 0.0\n",
            "0.0 \t 0.0\n",
            "0.0 \t 0.0\n",
            "0.0 \t 1.0\n",
            "0.0 \t 1.0\n",
            "0.0 \t 1.0\n",
            "0.0 \t 1.0\n",
            "0.0 \t 1.0\n",
            "0.0 \t 0.0\n",
            "1.0 \t 0.0\n",
            "0.0 \t 0.0\n",
            "0.0 \t 0.0\n",
            "0.0 \t 0.0\n",
            "0.0 \t 0.0\n",
            "0.0 \t 0.0\n",
            "1.0 \t 0.0\n",
            "0.0 \t 0.0\n",
            "0.0 \t 1.0\n",
            "0.0 \t 0.0\n",
            "0.0 \t 0.0\n",
            "0.0 \t 0.0\n",
            "0.0 \t 0.0\n",
            "0.0 \t 0.0\n",
            "0.0 \t 0.0\n",
            "0.0 \t 0.0\n",
            "1.0 \t 0.0\n",
            "0.0 \t 0.0\n",
            "0.0 \t 0.0\n",
            "0.0 \t 0.0\n",
            "0.0 \t 0.0\n",
            "0.0 \t 1.0\n",
            "0.0 \t 0.0\n",
            "1.0 \t 0.0\n",
            "1.0 \t 0.0\n",
            "0.0 \t 0.0\n",
            "0.0 \t 0.0\n",
            "0.0 \t 1.0\n",
            "0.0 \t 0.0\n",
            "0.0 \t 0.0\n",
            "0.0 \t 0.0\n",
            "0.0 \t 1.0\n",
            "0.0 \t 0.0\n",
            "0.0 \t 0.0\n",
            "0.0 \t 1.0\n",
            "0.0 \t 0.0\n",
            "0.0 \t 0.0\n",
            "0.0 \t 0.0\n",
            "0.0 \t 0.0\n",
            "0.0 \t 0.0\n",
            "0.0 \t 0.0\n",
            "0.0 \t 0.0\n",
            "0.0 \t 0.0\n",
            "0.0 \t 0.0\n",
            "0.0 \t 1.0\n",
            "1.0 \t 0.0\n",
            "0.0 \t 0.0\n",
            "0.0 \t 1.0\n",
            "1.0 \t 0.0\n",
            "0.0 \t 0.0\n",
            "0.0 \t 0.0\n",
            "0.0 \t 0.0\n",
            "0.0 \t 1.0\n",
            "0.0 \t 0.0\n",
            "1.0 \t 0.0\n",
            "1.0 \t 0.0\n",
            "0.0 \t 0.0\n",
            "0.0 \t 0.0\n",
            "0.0 \t 0.0\n",
            "1.0 \t 0.0\n",
            "0.0 \t 0.0\n",
            "1.0 \t 0.0\n",
            "0.0 \t 0.0\n",
            "0.0 \t 1.0\n",
            "0.0 \t 0.0\n",
            "1.0 \t 0.0\n",
            "0.0 \t 0.0\n",
            "0.0 \t 0.0\n",
            "0.0 \t 0.0\n",
            "1.0 \t 0.0\n",
            "0.0 \t 0.0\n",
            "0.0 \t 1.0\n",
            "0.0 \t 0.0\n",
            "0.0 \t 1.0\n",
            "0.0 \t 0.0\n",
            "0.0 \t 1.0\n",
            "0.0 \t 0.0\n",
            "0.0 \t 0.0\n",
            "1.0 \t 0.0\n",
            "1.0 \t 0.0\n",
            "0.0 \t 0.0\n",
            "0.0 \t 0.0\n",
            "0.0 \t 0.0\n",
            "0.0 \t 0.0\n",
            "0.0 \t 0.0\n",
            "0.0 \t 1.0\n",
            "1.0 \t 0.0\n",
            "0.0 \t 0.0\n",
            "0.0 \t 1.0\n",
            "0.0 \t 0.0\n",
            "1.0 \t 0.0\n",
            "0.0 \t 0.0\n",
            "0.0 \t 0.0\n",
            "0.0 \t 0.0\n",
            "0.0 \t 1.0\n",
            "1.0 \t 0.0\n",
            "1.0 \t 0.0\n",
            "0.0 \t 0.0\n",
            "0.0 \t 1.0\n",
            "1.0 \t 0.0\n",
            "0.0 \t 0.0\n",
            "0.0 \t 0.0\n",
            "0.0 \t 0.0\n",
            "0.0 \t 1.0\n",
            "1.0 \t 0.0\n",
            "0.0 \t 0.0\n",
            "0.0 \t 0.0\n",
            "0.0 \t 0.0\n",
            "0.0 \t 0.0\n",
            "0.0 \t 0.0\n",
            "0.0 \t 0.0\n",
            "0.0 \t 1.0\n",
            "0.0 \t 0.0\n",
            "1.0 \t 0.0\n",
            "0.0 \t 0.0\n",
            "0.0 \t 0.0\n",
            "0.0 \t 0.0\n",
            "0.0 \t 0.0\n",
            "0.0 \t 0.0\n",
            "1.0 \t 0.0\n",
            "0.0 \t 1.0\n",
            "0.0 \t 0.0\n",
            "0.0 \t 0.0\n",
            "0.0 \t 0.0\n",
            "1.0 \t 0.0\n",
            "0.0 \t 0.0\n",
            "0.0 \t 0.0\n",
            "0.0 \t 0.0\n",
            "0.0 \t 1.0\n",
            "0.0 \t 0.0\n",
            "1.0 \t 0.0\n",
            "0.0 \t 0.0\n",
            "0.0 \t 1.0\n",
            "0.0 \t 1.0\n",
            "1.0 \t 0.0\n",
            "0.0 \t 1.0\n",
            "0.0 \t 0.0\n",
            "0.0 \t 0.0\n",
            "0.0 \t 0.0\n",
            "0.0 \t 0.0\n",
            "0.0 \t 0.0\n",
            "0.0 \t 1.0\n",
            "0.0 \t 1.0\n",
            "0.0 \t 0.0\n",
            "1.0 \t 0.0\n",
            "0.0 \t 0.0\n",
            "0.0 \t 0.0\n",
            "0.0 \t 1.0\n",
            "0.0 \t 0.0\n",
            "1.0 \t 0.0\n",
            "1.0 \t 0.0\n",
            "1.0 \t 0.0\n",
            "0.0 \t 1.0\n",
            "0.0 \t 1.0\n",
            "0.0 \t 1.0\n",
            "0.0 \t 0.0\n",
            "0.0 \t 0.0\n",
            "0.0 \t 0.0\n",
            "1.0 \t 0.0\n",
            "1.0 \t 0.0\n",
            "1.0 \t 0.0\n",
            "0.0 \t 1.0\n",
            "0.0 \t 1.0\n",
            "0.0 \t 0.0\n",
            "1.0 \t 0.0\n",
            "0.0 \t 1.0\n",
            "0.0 \t 0.0\n",
            "1.0 \t 0.0\n",
            "1.0 \t 0.0\n",
            "0.0 \t 0.0\n",
            "1.0 \t 0.0\n",
            "1.0 \t 0.0\n",
            "0.0 \t 0.0\n",
            "0.0 \t 0.0\n",
            "0.0 \t 1.0\n",
            "0.0 \t 0.0\n",
            "0.0 \t 1.0\n",
            "1.0 \t 0.0\n",
            "1.0 \t 0.0\n",
            "0.0 \t 0.0\n",
            "0.0 \t 0.0\n",
            "0.0 \t 0.0\n",
            "0.0 \t 0.0\n",
            "0.0 \t 1.0\n",
            "1.0 \t 0.0\n",
            "1.0 \t 0.0\n",
            "0.0 \t 0.0\n",
            "0.0 \t 0.0\n",
            "0.0 \t 0.0\n",
            "0.0 \t 0.0\n",
            "0.0 \t 1.0\n",
            "0.0 \t 0.0\n",
            "0.0 \t 1.0\n",
            "1.0 \t 0.0\n",
            "0.0 \t 1.0\n",
            "0.0 \t 1.0\n",
            "0.0 \t 0.0\n",
            "0.0 \t 0.0\n",
            "0.0 \t 0.0\n",
            "1.0 \t 0.0\n",
            "0.0 \t 1.0\n",
            "1.0 \t 0.0\n",
            "1.0 \t 0.0\n",
            "0.0 \t 0.0\n",
            "0.0 \t 0.0\n",
            "0.0 \t 0.0\n",
            "0.0 \t 0.0\n",
            "0.0 \t 0.0\n",
            "1.0 \t 0.0\n",
            "0.0 \t 0.0\n",
            "0.0 \t 1.0\n",
            "0.0 \t 0.0\n",
            "0.0 \t 0.0\n",
            "1.0 \t 0.0\n",
            "0.0 \t 0.0\n",
            "0.0 \t 0.0\n",
            "1.0 \t 0.0\n",
            "0.0 \t 0.0\n",
            "0.0 \t 0.0\n",
            "0.0 \t 1.0\n",
            "0.0 \t 0.0\n",
            "0.0 \t 1.0\n",
            "0.0 \t 0.0\n",
            "0.0 \t 0.0\n",
            "0.0 \t 0.0\n",
            "1.0 \t 0.0\n",
            "0.0 \t 0.0\n",
            "0.0 \t 0.0\n",
            "0.0 \t 0.0\n",
            "0.0 \t 0.0\n",
            "0.0 \t 1.0\n",
            "0.0 \t 0.0\n",
            "1.0 \t 0.0\n",
            "0.0 \t 0.0\n",
            "0.0 \t 0.0\n",
            "0.0 \t 1.0\n",
            "0.0 \t 1.0\n",
            "0.0 \t 0.0\n",
            "0.0 \t 1.0\n",
            "1.0 \t 0.0\n",
            "0.0 \t 1.0\n",
            "0.0 \t 0.0\n",
            "0.0 \t 0.0\n",
            "0.0 \t 0.0\n",
            "0.0 \t 0.0\n",
            "0.0 \t 0.0\n",
            "0.0 \t 0.0\n",
            "1.0 \t 0.0\n",
            "0.0 \t 1.0\n",
            "0.0 \t 0.0\n",
            "0.0 \t 0.0\n",
            "0.0 \t 1.0\n",
            "1.0 \t 1.0\n",
            "1.0 \t 0.0\n",
            "1.0 \t 0.0\n",
            "1.0 \t 0.0\n",
            "0.0 \t 1.0\n",
            "0.0 \t 0.0\n",
            "0.0 \t 0.0\n",
            "0.0 \t 0.0\n",
            "0.0 \t 0.0\n",
            "0.0 \t 0.0\n",
            "0.0 \t 1.0\n",
            "0.0 \t 0.0\n",
            "0.0 \t 0.0\n",
            "0.0 \t 0.0\n",
            "0.0 \t 0.0\n",
            "0.0 \t 0.0\n",
            "1.0 \t 0.0\n",
            "1.0 \t 0.0\n",
            "0.0 \t 0.0\n",
            "0.0 \t 0.0\n",
            "0.0 \t 0.0\n",
            "1.0 \t 1.0\n",
            "0.0 \t 0.0\n",
            "0.0 \t 0.0\n",
            "0.0 \t 0.0\n",
            "1.0 \t 1.0\n",
            "0.0 \t 0.0\n",
            "0.0 \t 0.0\n",
            "0.0 \t 1.0\n",
            "0.0 \t 1.0\n",
            "0.0 \t 0.0\n",
            "1.0 \t 0.0\n",
            "0.0 \t 0.0\n",
            "0.0 \t 1.0\n",
            "0.0 \t 1.0\n",
            "1.0 \t 0.0\n",
            "1.0 \t 0.0\n",
            "0.0 \t 0.0\n",
            "0.0 \t 0.0\n",
            "1.0 \t 0.0\n",
            "0.0 \t 0.0\n",
            "0.0 \t 0.0\n",
            "0.0 \t 1.0\n",
            "1.0 \t 0.0\n",
            "1.0 \t 0.0\n",
            "0.0 \t 0.0\n",
            "1.0 \t 0.0\n",
            "0.0 \t 0.0\n",
            "1.0 \t 1.0\n",
            "0.0 \t 1.0\n",
            "0.0 \t 0.0\n",
            "0.0 \t 0.0\n",
            "0.0 \t 0.0\n",
            "1.0 \t 0.0\n",
            "0.0 \t 0.0\n",
            "0.0 \t 0.0\n",
            "1.0 \t 1.0\n",
            "0.0 \t 0.0\n",
            "0.0 \t 0.0\n",
            "0.0 \t 0.0\n",
            "0.0 \t 0.0\n",
            "0.0 \t 0.0\n"
          ],
          "name": "stdout"
        }
      ]
    },
    {
      "cell_type": "markdown",
      "metadata": {
        "id": "t36BaSQYMXg5",
        "colab_type": "text"
      },
      "source": [
        "# **6. Avaliação do classificador**"
      ]
    },
    {
      "cell_type": "markdown",
      "metadata": {
        "id": "HN7GcGxiT7JM",
        "colab_type": "text"
      },
      "source": [
        "* Precisamos de métricas para saber quão bem nosso modelo se comportou\n",
        "* No dataset temos instâncias que são positivas (vinho tinto) e negativas (vinho branco)\n",
        "* Ideal é que o classificador classifique como positivo o que é positivo e negativo o que é negativo\n",
        "* No entanto erros ocorrem na classificação\n",
        "* Possibilidades de classificação:\n",
        "  * tp (positivo verdadeiro): *vinho tinto* classificado como *tinto* - acerto\n",
        "  * tn (negativo verdadeiro): *vinho branco* classificado como *branco* - acerto\n",
        "  * fp (positivo falso): *vinho branco* classificado como *tinto* - erro\n",
        "  * fn (negativo falso): *vinho tinto* foi classificado como *branco* - erro\n",
        "* Exemplo:\n",
        "  * 1 para tinto, 0 para branco\n",
        "\n",
        "<table>\n",
        "  <tr><th>Real</th><th>Predito</th><th>Categoria</th></tr>\n",
        "  <tr><td>1</td><td>1</td><td>tp</td></tr>\n",
        "  <tr><td>0</td><td>0</td><td>tn</td></tr>\n",
        "  <tr><td>1</td><td>0</td><td>fn</td></tr>\n",
        "  <tr><td>0</td><td>1</td><td>fp</td></tr>\n",
        "  <tr><td>0</td><td>0</td><td>tn</td></tr>\n",
        "  <tr><td>0</td><td>0</td><td>tn</td></tr>\n",
        "  <tr><td>1</td><td>1</td><td>tp</td></tr>\n",
        "  <tr><td>0</td><td>1</td><td>fp</td></tr>\n",
        "  <tr><td>1</td><td>1</td><td>tp</td></tr>\n",
        "  <tr><td>0</td><td>0</td><td>tn</td></tr>\n",
        "</table>\n",
        "\n",
        "* Resultado\n",
        "  * acertos: $3 + 4 = 7$\n",
        "  * erros: $1 + 2 = 3$\n",
        "* Matriz de confusão\n",
        "\n",
        "<table border=\"1\">\n",
        "    <tr>\n",
        "        <th>Valores reais</th>\n",
        "        <th colspan=\"2\">Valores preditos</th>\n",
        "    </tr>\n",
        "    <tr>\n",
        "        <td>Tinto</td>\n",
        "        <td></td>\n",
        "        <td>Branco</td>\n",
        "    </tr>\n",
        "    <tr>\n",
        "        <td>Tinto</td>\n",
        "        <td>3 (tp)</td>\n",
        "        <td>1 (fn)</td>\n",
        "    </tr>\n",
        "    <tr>\n",
        "        <td>Branco</td>\n",
        "        <td>2 (fp)</td>\n",
        "        <td>4 (tn)</td>\n",
        "    </tr>\n",
        "</table>\n",
        "\n",
        "* Acurácia\n",
        "  * taxa de acertos do classificador\n",
        "  * indicação geral da performance do modelo\n",
        "  * $acuracia = \\dfrac{tp+tn}{tp+fp+tn+fn} = \\dfrac{acertos}{total} = \\dfrac{7}{10} = 0.7$\n",
        "  * não é boa métrica quando dados muito desbalanceados\n",
        "    * ex: fraudes no cartão de crédito\n",
        "\n",
        "* Precisão\n",
        "  * taxa de instâncias classificadas como positivas que são realmente positivas\n",
        "  * $precision = \\dfrac{tp}{tp+fp} = \\dfrac{3}{5} = 0.6$\n",
        "  * situações onde falsos positivos são mais prejudiciais\n",
        "    * ex: classificar um investimento como boa oportunidade\n",
        "\n",
        "* Recall\n",
        "  * taxa de instâncias positivas classificadas corretamente\n",
        "  * também chamaod de sentitividade ($sensitivity$)\n",
        "  * $recall = \\dfrac{tp}{tp+fn} = {3}{3+1} = 0.75$\n",
        "  * situações onde falsos negativos são mais prejudiciais\n",
        "    * ex: classificação de doenças\n",
        "\n",
        "* F1-score\n",
        "  * balanço entre precisão e recall (media harmônica)\n",
        "  * forma de olhar apenas uma métrica ao invés de duas\n",
        "  * $f$-$score = 2 * \\dfrac{precision*recall}{precision+recall} = \\dfrac{0.6 * 0.75}{0.6+0.75} = 0.67$\n",
        "  * f1-score baixo indica que uma das duas métricas está baixa\n"
      ]
    },
    {
      "cell_type": "code",
      "metadata": {
        "id": "0FGAgW4mVprH",
        "colab_type": "code",
        "colab": {}
      },
      "source": [
        "#calculando acurácia\n",
        "from sklearn.metrics import accuracy_score"
      ],
      "execution_count": 40,
      "outputs": []
    },
    {
      "cell_type": "code",
      "metadata": {
        "id": "caje6rYwVuaY",
        "colab_type": "code",
        "colab": {
          "base_uri": "https://localhost:8080/",
          "height": 34
        },
        "outputId": "fd7ca5ed-2cb9-4885-9fea-6fb7f5d76d12"
      },
      "source": [
        "acuracia = accuracy_score(y_test,classificacao)\n",
        "acuracia"
      ],
      "execution_count": 41,
      "outputs": [
        {
          "output_type": "execute_result",
          "data": {
            "text/plain": [
              "0.6246913580246913"
            ]
          },
          "metadata": {
            "tags": []
          },
          "execution_count": 41
        }
      ]
    },
    {
      "cell_type": "code",
      "metadata": {
        "id": "So5_G0aDVvI-",
        "colab_type": "code",
        "colab": {}
      },
      "source": [
        "#calculando precisão\n",
        "from sklearn.metrics import precision_score"
      ],
      "execution_count": 42,
      "outputs": []
    },
    {
      "cell_type": "code",
      "metadata": {
        "id": "bGZPb7ymVxi7",
        "colab_type": "code",
        "colab": {
          "base_uri": "https://localhost:8080/",
          "height": 34
        },
        "outputId": "4349c746-e66c-400a-ea13-b644177e6bd7"
      },
      "source": [
        "precisao = precision_score(y_test,classificacao)\n",
        "precisao"
      ],
      "execution_count": 43,
      "outputs": [
        {
          "output_type": "execute_result",
          "data": {
            "text/plain": [
              "0.061488673139158574"
            ]
          },
          "metadata": {
            "tags": []
          },
          "execution_count": 43
        }
      ]
    },
    {
      "cell_type": "code",
      "metadata": {
        "id": "2adIRL4YVzgn",
        "colab_type": "code",
        "colab": {}
      },
      "source": [
        "#calculando recall (revocação)\n",
        "from sklearn.metrics import recall_score"
      ],
      "execution_count": 44,
      "outputs": []
    },
    {
      "cell_type": "code",
      "metadata": {
        "id": "lct5nTWXV8sf",
        "colab_type": "code",
        "colab": {
          "base_uri": "https://localhost:8080/",
          "height": 34
        },
        "outputId": "60b285f0-209e-448d-96ee-8259dd64ae14"
      },
      "source": [
        "recall = recall_score(y_test,classificacao)\n",
        "recall"
      ],
      "execution_count": 45,
      "outputs": [
        {
          "output_type": "execute_result",
          "data": {
            "text/plain": [
              "0.05637982195845697"
            ]
          },
          "metadata": {
            "tags": []
          },
          "execution_count": 45
        }
      ]
    },
    {
      "cell_type": "code",
      "metadata": {
        "id": "W_921bIWWBIQ",
        "colab_type": "code",
        "colab": {}
      },
      "source": [
        "#calculando f1-score\n",
        "from sklearn.metrics import f1_score"
      ],
      "execution_count": 46,
      "outputs": []
    },
    {
      "cell_type": "code",
      "metadata": {
        "id": "tDtG-SiLWB_b",
        "colab_type": "code",
        "colab": {
          "base_uri": "https://localhost:8080/",
          "height": 34
        },
        "outputId": "449e124b-5ac4-4256-ad37-56e539dcd62b"
      },
      "source": [
        "f1 = f1_score(y_test,classificacao)\n",
        "f1"
      ],
      "execution_count": 47,
      "outputs": [
        {
          "output_type": "execute_result",
          "data": {
            "text/plain": [
              "0.0588235294117647"
            ]
          },
          "metadata": {
            "tags": []
          },
          "execution_count": 47
        }
      ]
    },
    {
      "cell_type": "markdown",
      "metadata": {
        "id": "Q6cPfgYDWIjn",
        "colab_type": "text"
      },
      "source": [
        "### Curva ROC\n",
        "* Representação gráfica do desempenho de um classificador binário\n",
        "* Razão entre a taxa de positivos verdadeiros (TPR) e positivos falsos (FPR)\n",
        "  * $tpr = \\dfrac{tp}{tp+fn} = \\dfrac{positivos\\_verdadeiros}{positivos\\_totais}$ \n",
        "    * (recall)\n",
        "  * $fpr = \\dfrac{fp}{tn+fp} = \\dfrac{positivos\\_falsos}{negativos\\_totais}$\n",
        "* Interpretação\n",
        "  * quanto maior tpr, melhor\n",
        "  * quanto menor fpr, melhor\n",
        "\n",
        "<img src=https://upload.wikimedia.org/wikipedia/commons/3/36/ROC_space-2.png width=500>"
      ]
    },
    {
      "cell_type": "code",
      "metadata": {
        "id": "wYnZwk4xWNfo",
        "colab_type": "code",
        "colab": {}
      },
      "source": [
        "#plotando curva roc\n",
        "from sklearn.metrics  import roc_curve"
      ],
      "execution_count": 48,
      "outputs": []
    },
    {
      "cell_type": "code",
      "metadata": {
        "id": "MNjVE-cZWRyR",
        "colab_type": "code",
        "colab": {}
      },
      "source": [
        "fpr, tpr, _ = roc_curve(y_test,classificacao)"
      ],
      "execution_count": 49,
      "outputs": []
    },
    {
      "cell_type": "code",
      "metadata": {
        "id": "cO58mo6mWSyg",
        "colab_type": "code",
        "colab": {
          "base_uri": "https://localhost:8080/",
          "height": 34
        },
        "outputId": "14689dd9-3cbc-446c-f72b-59a46f3d28e8"
      },
      "source": [
        "fpr"
      ],
      "execution_count": 50,
      "outputs": [
        {
          "output_type": "execute_result",
          "data": {
            "text/plain": [
              "array([0.        , 0.22603274, 1.        ])"
            ]
          },
          "metadata": {
            "tags": []
          },
          "execution_count": 50
        }
      ]
    },
    {
      "cell_type": "code",
      "metadata": {
        "id": "U0ltxFTBWU_N",
        "colab_type": "code",
        "colab": {
          "base_uri": "https://localhost:8080/",
          "height": 34
        },
        "outputId": "54f85148-7b4d-420e-b103-0cf8b7600223"
      },
      "source": [
        "tpr"
      ],
      "execution_count": 51,
      "outputs": [
        {
          "output_type": "execute_result",
          "data": {
            "text/plain": [
              "array([0.        , 0.05637982, 1.        ])"
            ]
          },
          "metadata": {
            "tags": []
          },
          "execution_count": 51
        }
      ]
    },
    {
      "cell_type": "code",
      "metadata": {
        "id": "GeG1vMPPWXwR",
        "colab_type": "code",
        "colab": {
          "base_uri": "https://localhost:8080/",
          "height": 404
        },
        "outputId": "b1adaf69-f47a-47d2-a46d-372cba639967"
      },
      "source": [
        "plt.plot(fpr,tpr,marker='.')\n",
        "plt.title('Curva ROC')\n",
        "plt.xlabel('Taxa de Falsos Positivos')\n",
        "plt.ylabel('Taxa de Verdadeiro Positivos')\n",
        "plt.show()"
      ],
      "execution_count": 52,
      "outputs": [
        {
          "output_type": "display_data",
          "data": {
            "image/png": "[encoded data removed]",
            "text/plain": [
              "<Figure size 576x432 with 1 Axes>"
            ]
          },
          "metadata": {
            "tags": [],
            "needs_background": "light"
          }
        }
      ]
    },
    {
      "cell_type": "markdown",
      "metadata": {
        "id": "S6FSz4XlWu71",
        "colab_type": "text"
      },
      "source": [
        "**Área sob a curva (Area under the curve - AUC)**\n",
        "* Área sob a curva ROC\n",
        "* Interpretação numérica da curva ROC"
      ]
    },
    {
      "cell_type": "code",
      "metadata": {
        "id": "5MPmzd0KXH9Q",
        "colab_type": "code",
        "colab": {}
      },
      "source": [
        "#calculando area sob a curva ROC\n",
        "from sklearn.metrics import roc_auc_score"
      ],
      "execution_count": 53,
      "outputs": []
    },
    {
      "cell_type": "code",
      "metadata": {
        "id": "Dy9KtyZpXMAW",
        "colab_type": "code",
        "colab": {
          "base_uri": "https://localhost:8080/",
          "height": 34
        },
        "outputId": "a2db486d-6586-405d-8d19-5f824294e826"
      },
      "source": [
        "erro = roc_auc_score(y_test,classificacao)\n",
        "erro"
      ],
      "execution_count": 54,
      "outputs": [
        {
          "output_type": "execute_result",
          "data": {
            "text/plain": [
              "0.4151735430914655"
            ]
          },
          "metadata": {
            "tags": []
          },
          "execution_count": 54
        }
      ]
    },
    {
      "cell_type": "markdown",
      "metadata": {
        "id": "j6CSrznqXY-u",
        "colab_type": "text"
      },
      "source": [
        "## **Validação cruzada**\n",
        "* A forma de avaliação anterior dividiu o dataset em dois subconjuntos disjuntos: treino e teste \n",
        "  * o treino foi usado para construir o modelo\n",
        "  * o teste foi usado para avaliar o modelo\n",
        "  * método holdout\n",
        "* No entanto, devido a aleatoriedade, o resultado pode não ser tão confiável\n",
        "* Validação cruzada k-fold\n",
        "  * dividir o conjunto de dados em $k$ subconjuntos (folds) disjuntos\n",
        "  * um subconjunto é usado para teste\n",
        "  * os outros k-1 subconjuntos são usados para criar o modelo\n",
        "  * repete-se o procedimento k vezes, alternando o subconjunto de teste\n",
        "  * calcula-se a acurácia média das k repetições e tem-se a avaliação do método\n",
        "\n",
        "\n",
        "<img src=https://scikit-learn.org/stable/_images/grid_search_cross_validation.png width=\"500\">"
      ]
    },
    {
      "cell_type": "code",
      "metadata": {
        "id": "CgDXG22yXp3P",
        "colab_type": "code",
        "colab": {}
      },
      "source": [
        "# montando os folds para validação cruzada\n",
        "from sklearn.model_selection import KFold"
      ],
      "execution_count": 55,
      "outputs": []
    },
    {
      "cell_type": "code",
      "metadata": {
        "id": "fmP2QdinXr0X",
        "colab_type": "code",
        "colab": {}
      },
      "source": [
        "kf = KFold(n_splits=5)"
      ],
      "execution_count": 56,
      "outputs": []
    },
    {
      "cell_type": "code",
      "metadata": {
        "id": "iwZwY15EXw-G",
        "colab_type": "code",
        "colab": {
          "base_uri": "https://localhost:8080/",
          "height": 272
        },
        "outputId": "22fa3d3e-5ce5-4afe-92c3-789f510799ef"
      },
      "source": [
        "#imprimindo os indices das instancias do treino e teste\n",
        "for train,test in kf.split(X):\n",
        "  print('Treino:',train,'\\nTeste:',test)\n",
        "  print('-----')"
      ],
      "execution_count": 57,
      "outputs": [
        {
          "output_type": "stream",
          "text": [
            "Treino: [1620 1621 1622 ... 8093 8094 8095] \n",
            "Teste: [   0    1    2 ... 1617 1618 1619]\n",
            "-----\n",
            "Treino: [   0    1    2 ... 8093 8094 8095] \n",
            "Teste: [1620 1621 1622 ... 3236 3237 3238]\n",
            "-----\n",
            "Treino: [   0    1    2 ... 8093 8094 8095] \n",
            "Teste: [3239 3240 3241 ... 4855 4856 4857]\n",
            "-----\n",
            "Treino: [   0    1    2 ... 8093 8094 8095] \n",
            "Teste: [4858 4859 4860 ... 6474 6475 6476]\n",
            "-----\n",
            "Treino: [   0    1    2 ... 6474 6475 6476] \n",
            "Teste: [6477 6478 6479 ... 8093 8094 8095]\n",
            "-----\n"
          ],
          "name": "stdout"
        }
      ]
    },
    {
      "cell_type": "code",
      "metadata": {
        "id": "yrz1qHmwX6p6",
        "colab_type": "code",
        "colab": {}
      },
      "source": [
        "# avaliando modelo com cross validation\n",
        "from sklearn.model_selection import cross_val_score"
      ],
      "execution_count": 58,
      "outputs": []
    },
    {
      "cell_type": "code",
      "metadata": {
        "id": "kc2vsYtZYBw7",
        "colab_type": "code",
        "colab": {}
      },
      "source": [
        "#define modelo\n",
        "classificador = DecisionTreeClassifier()"
      ],
      "execution_count": 59,
      "outputs": []
    },
    {
      "cell_type": "code",
      "metadata": {
        "id": "TcYMCQzfYGBc",
        "colab_type": "code",
        "colab": {
          "base_uri": "https://localhost:8080/",
          "height": 51
        },
        "outputId": "21aec173-adb1-403a-aa27-2f8b5633fda4"
      },
      "source": [
        "#calculando os scores\n",
        "scores = cross_val_score(classificador,X,y,cv=10)\n",
        "scores"
      ],
      "execution_count": 60,
      "outputs": [
        {
          "output_type": "execute_result",
          "data": {
            "text/plain": [
              "array([0.80246914, 0.80246914, 0.80246914, 0.80246914, 0.80246914,\n",
              "       0.80246914, 0.80346106, 0.4289246 , 0.        , 0.19901112])"
            ]
          },
          "metadata": {
            "tags": []
          },
          "execution_count": 60
        }
      ]
    },
    {
      "cell_type": "code",
      "metadata": {
        "id": "ui8y7i_PYNcl",
        "colab_type": "code",
        "colab": {
          "base_uri": "https://localhost:8080/",
          "height": 34
        },
        "outputId": "3fc6e59e-ca17-4c8f-d04d-b1b3083243a8"
      },
      "source": [
        "scores.mean(),scores.std()"
      ],
      "execution_count": 61,
      "outputs": [
        {
          "output_type": "execute_result",
          "data": {
            "text/plain": [
              "(0.6246211600970563, 0.2883324063852302)"
            ]
          },
          "metadata": {
            "tags": []
          },
          "execution_count": 61
        }
      ]
    },
    {
      "cell_type": "markdown",
      "metadata": {
        "id": "frZS-FUlYQ9G",
        "colab_type": "text"
      },
      "source": [
        "# **7. Comparando Árvore de Decisão com Random Forest**"
      ]
    },
    {
      "cell_type": "markdown",
      "metadata": {
        "id": "upeSXHRjYcZu",
        "colab_type": "text"
      },
      "source": [
        "**Método Holdout**"
      ]
    },
    {
      "cell_type": "code",
      "metadata": {
        "id": "IIUQBRU9YgeD",
        "colab_type": "code",
        "colab": {
          "base_uri": "https://localhost:8080/",
          "height": 119
        },
        "outputId": "186a3b65-aa87-4bd5-c73c-2760fe3fe3e8"
      },
      "source": [
        "#definindo árvore de decisão\n",
        "arvore = DecisionTreeClassifier()\n",
        "arvore.fit(X_train,y_train)"
      ],
      "execution_count": 62,
      "outputs": [
        {
          "output_type": "execute_result",
          "data": {
            "text/plain": [
              "DecisionTreeClassifier(ccp_alpha=0.0, class_weight=None, criterion='gini',\n",
              "                       max_depth=None, max_features=None, max_leaf_nodes=None,\n",
              "                       min_impurity_decrease=0.0, min_impurity_split=None,\n",
              "                       min_samples_leaf=1, min_samples_split=2,\n",
              "                       min_weight_fraction_leaf=0.0, presort='deprecated',\n",
              "                       random_state=None, splitter='best')"
            ]
          },
          "metadata": {
            "tags": []
          },
          "execution_count": 62
        }
      ]
    },
    {
      "cell_type": "code",
      "metadata": {
        "id": "Le4Ibc-JYhbd",
        "colab_type": "code",
        "colab": {
          "base_uri": "https://localhost:8080/",
          "height": 153
        },
        "outputId": "698818de-7953-485e-f415-27c24cf69e4b"
      },
      "source": [
        "#definindo random forest\n",
        "from sklearn.ensemble import RandomForestClassifier\n",
        "floresta = RandomForestClassifier(n_estimators=100)\n",
        "floresta.fit(X_train,y_train)"
      ],
      "execution_count": 63,
      "outputs": [
        {
          "output_type": "execute_result",
          "data": {
            "text/plain": [
              "RandomForestClassifier(bootstrap=True, ccp_alpha=0.0, class_weight=None,\n",
              "                       criterion='gini', max_depth=None, max_features='auto',\n",
              "                       max_leaf_nodes=None, max_samples=None,\n",
              "                       min_impurity_decrease=0.0, min_impurity_split=None,\n",
              "                       min_samples_leaf=1, min_samples_split=2,\n",
              "                       min_weight_fraction_leaf=0.0, n_estimators=100,\n",
              "                       n_jobs=None, oob_score=False, random_state=None,\n",
              "                       verbose=0, warm_start=False)"
            ]
          },
          "metadata": {
            "tags": []
          },
          "execution_count": 63
        }
      ]
    },
    {
      "cell_type": "code",
      "metadata": {
        "id": "8-FRVb9SYoGP",
        "colab_type": "code",
        "colab": {
          "base_uri": "https://localhost:8080/",
          "height": 34
        },
        "outputId": "5fa1272b-95cc-41d6-b2fd-fc08f59bafde"
      },
      "source": [
        "#calculando acurácia da árvore de decisão\n",
        "arvore.score(X_test,y_test)"
      ],
      "execution_count": 64,
      "outputs": [
        {
          "output_type": "execute_result",
          "data": {
            "text/plain": [
              "0.6253086419753087"
            ]
          },
          "metadata": {
            "tags": []
          },
          "execution_count": 64
        }
      ]
    },
    {
      "cell_type": "code",
      "metadata": {
        "id": "lObuLxBlYuUw",
        "colab_type": "code",
        "colab": {
          "base_uri": "https://localhost:8080/",
          "height": 34
        },
        "outputId": "74a80708-0573-4332-f96c-7077934ad1f7"
      },
      "source": [
        "#calculando acurácia da random forest\n",
        "floresta.score(X_train,y_train)"
      ],
      "execution_count": 65,
      "outputs": [
        {
          "output_type": "execute_result",
          "data": {
            "text/plain": [
              "0.8465101914762199"
            ]
          },
          "metadata": {
            "tags": []
          },
          "execution_count": 65
        }
      ]
    },
    {
      "cell_type": "code",
      "metadata": {
        "id": "uYr4l3KMYx5Y",
        "colab_type": "code",
        "colab": {}
      },
      "source": [
        "#realizando previsão com árvore de decisão\n",
        "clf_arvore = arvore.predict(X_test)"
      ],
      "execution_count": 66,
      "outputs": []
    },
    {
      "cell_type": "code",
      "metadata": {
        "id": "hYlefFrmYzW5",
        "colab_type": "code",
        "colab": {}
      },
      "source": [
        "#realizando previsão com random forest\n",
        "clf_floresta = floresta.predict(X_test)"
      ],
      "execution_count": 67,
      "outputs": []
    },
    {
      "cell_type": "code",
      "metadata": {
        "id": "KXr4D3lPY3Ew",
        "colab_type": "code",
        "colab": {}
      },
      "source": [
        "#calculando curva roc da árvore de decisão\n",
        "fpr_ar, tpr_ar, _ = roc_curve(y_test,clf_arvore)"
      ],
      "execution_count": 68,
      "outputs": []
    },
    {
      "cell_type": "code",
      "metadata": {
        "id": "1uQb-UZmY6VL",
        "colab_type": "code",
        "colab": {}
      },
      "source": [
        "#calculando curva roc da random forest\n",
        "fpr_fl, tpr_fl, _ = roc_curve(y_test,clf_floresta)"
      ],
      "execution_count": 69,
      "outputs": []
    },
    {
      "cell_type": "code",
      "metadata": {
        "id": "9hKdOGEzZACD",
        "colab_type": "code",
        "colab": {
          "base_uri": "https://localhost:8080/",
          "height": 404
        },
        "outputId": "dec5c01a-9314-4cbb-856e-c11bec43f8fe"
      },
      "source": [
        "#plotando curvas\n",
        "plt.plot(fpr_ar,tpr_ar,linestyle='--',label='arvore')\n",
        "plt.plot(fpr_fl,tpr_fl,marker='.',label='floresta')\n",
        "plt.title('Curva ROC')\n",
        "plt.legend()\n",
        "plt.xlabel('Taxa de Falsos Positivos')\n",
        "plt.ylabel('Taxa de Verdadeiro Positivos')\n",
        "plt.show()"
      ],
      "execution_count": 70,
      "outputs": [
        {
          "output_type": "display_data",
          "data": {
            "image/png": "[encoded data removed]",
            "text/plain": [
              "<Figure size 576x432 with 1 Axes>"
            ]
          },
          "metadata": {
            "tags": [],
            "needs_background": "light"
          }
        }
      ]
    },
    {
      "cell_type": "markdown",
      "metadata": {
        "id": "Rr1a74wDZFRW",
        "colab_type": "text"
      },
      "source": [
        "**Validação Cruzada**"
      ]
    },
    {
      "cell_type": "code",
      "metadata": {
        "id": "HKqTa8yfZHNO",
        "colab_type": "code",
        "colab": {
          "base_uri": "https://localhost:8080/",
          "height": 34
        },
        "outputId": "f5218fe3-3ffa-406d-dc57-13e4cc45860b"
      },
      "source": [
        "#criando árvore\n",
        "arvore = DecisionTreeClassifier()\n",
        "\n",
        "#calculando os scores\n",
        "scores = cross_val_score(arvore,X,y,cv=10)\n",
        "round(scores.mean(),3),round(scores.std(),3)"
      ],
      "execution_count": 71,
      "outputs": [
        {
          "output_type": "execute_result",
          "data": {
            "text/plain": [
              "(0.625, 0.288)"
            ]
          },
          "metadata": {
            "tags": []
          },
          "execution_count": 71
        }
      ]
    },
    {
      "cell_type": "code",
      "metadata": {
        "id": "h1f8gyc6ZNlS",
        "colab_type": "code",
        "colab": {
          "base_uri": "https://localhost:8080/",
          "height": 34
        },
        "outputId": "313da889-38ee-40d4-f904-5964cb954735"
      },
      "source": [
        "#criando árvore\n",
        "floresta = RandomForestClassifier()\n",
        "\n",
        "#calculando os scores\n",
        "scores = cross_val_score(floresta,X,y,cv=10)\n",
        "round(scores.mean(),3),round(scores.std(),3)"
      ],
      "execution_count": 72,
      "outputs": [
        {
          "output_type": "execute_result",
          "data": {
            "text/plain": [
              "(0.625, 0.288)"
            ]
          },
          "metadata": {
            "tags": []
          },
          "execution_count": 72
        }
      ]
    }
  ]
}