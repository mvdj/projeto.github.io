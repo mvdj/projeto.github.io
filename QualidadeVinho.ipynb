{
  "nbformat": 4,
  "nbformat_minor": 0,
  "metadata": {
    "colab": {
      "name": "QualidadeVinho.ipynb",
      "provenance": [],
      "authorship_tag": "ABX9TyNJ2b/gPRNen2Ihflo0Z1l7",
      "include_colab_link": true
    },
    "kernelspec": {
      "name": "python3",
      "display_name": "Python 3"
    }
  },
  "cells": [
    {
      "cell_type": "markdown",
      "metadata": {
        "id": "view-in-github",
        "colab_type": "text"
      },
      "source": [
        "<a href=\"https://colab.research.google.com/github/mvdj/mvdj.github.io/blob/master/QualidadeVinho.ipynb\" target=\"_parent\"><img src=\"https://colab.research.google.com/assets/colab-badge.svg\" alt=\"Open In Colab\"/></a>"
      ]
    },
    {
      "cell_type": "markdown",
      "metadata": {
        "id": "LIwbbppWWH68",
        "colab_type": "text"
      },
      "source": [
        "# **Qualidade Vinho (Red and White)**\n",
        "\n",
        "Dataset (https://archive.ics.uci.edu/ml/datasets/wine+quality) com 8096 instâncias de dados sobre a qualidade dos vinhos (Red and White), com os seguintes atributos:\n",
        "\n",
        "1. wine type\n",
        "2. fixed acidity\n",
        "3. volatile acidity\n",
        "4. citric acid\n",
        "5. residual sugar\n",
        "6. chlorides\n",
        "7. free sulfur dioxide\n",
        "8. total sulfur dioxide\n",
        "9. density\n",
        "10. pH\n",
        "11. sulphates\n",
        "12. alcohol\n",
        "Output variable (based on sensory data): \n",
        "13. quality (score between 0 and 10)\n",
        "\n",
        "\n"
      ]
    },
    {
      "cell_type": "code",
      "metadata": {
        "id": "GXpUIVgBxVtw",
        "colab_type": "code",
        "colab": {
          "base_uri": "https://localhost:8080/",
          "height": 122
        },
        "outputId": "12cf7907-719b-494b-fb9f-5fc4f021b6fe"
      },
      "source": [
        "from google.colab import drive\n",
        "drive.mount('/content/drive/')"
      ],
      "execution_count": null,
      "outputs": [
        {
          "output_type": "stream",
          "text": [
            "Go to this URL in a browser: https://accounts.google.com/o/oauth2/auth?client_id=947318989803-6bn6qk8qdgf4n4g3pfee6491hc0brc4i.apps.googleusercontent.com&redirect_uri=urn%3aietf%3awg%3aoauth%3a2.0%3aoob&scope=email%20https%3a%2f%2fwww.googleapis.com%2fauth%2fdocs.test%20https%3a%2f%2fwww.googleapis.com%2fauth%2fdrive%20https%3a%2f%2fwww.googleapis.com%2fauth%2fdrive.photos.readonly%20https%3a%2f%2fwww.googleapis.com%2fauth%2fpeopleapi.readonly&response_type=code\n",
            "\n",
            "Enter your authorization code:\n",
            "··········\n",
            "Mounted at /content/drive/\n"
          ],
          "name": "stdout"
        }
      ]
    },
    {
      "cell_type": "markdown",
      "metadata": {
        "id": "SPmNEB4Tet_0",
        "colab_type": "text"
      },
      "source": [
        "# **1. Importação das bibliotecas**\n"
      ]
    },
    {
      "cell_type": "code",
      "metadata": {
        "id": "v8S1mD-4ezYi",
        "colab_type": "code",
        "colab": {}
      },
      "source": [
        "# Importando bibliotecas\n",
        "import numpy as np\n",
        "import pandas as pd"
      ],
      "execution_count": null,
      "outputs": []
    },
    {
      "cell_type": "markdown",
      "metadata": {
        "id": "JLAN7-gke52U",
        "colab_type": "text"
      },
      "source": [
        "# **2. Carregamento dos dados na memória utilizando a biblioteca Pandas**\n",
        "\n",
        "Utilizei um DataFrame Pandas para ler os dados do dataset winequality-whiteAndRed.csv"
      ]
    },
    {
      "cell_type": "code",
      "metadata": {
        "id": "ir6sZNcNfLV6",
        "colab_type": "code",
        "colab": {}
      },
      "source": [
        "# lendo csv e armazenando em um dataframe\n",
        "dados = pd.read_csv('/content/drive/My Drive/Colab Notebooks/dataSets/QualidadeVinho/winequality-whiteAndRed.csv')"
      ],
      "execution_count": null,
      "outputs": []
    },
    {
      "cell_type": "code",
      "metadata": {
        "id": "7q3GlbPCe7Yk",
        "colab_type": "code",
        "colab": {
          "base_uri": "https://localhost:8080/",
          "height": 221
        },
        "outputId": "49958858-6ec5-4e52-9765-77dfb829989e"
      },
      "source": [
        "# verificando o dataframe\n",
        "dados.head(5)"
      ],
      "execution_count": null,
      "outputs": [
        {
          "output_type": "execute_result",
          "data": {
            "text/html": [
              "<div>\n",
              "<style scoped>\n",
              "    .dataframe tbody tr th:only-of-type {\n",
              "        vertical-align: middle;\n",
              "    }\n",
              "\n",
              "    .dataframe tbody tr th {\n",
              "        vertical-align: top;\n",
              "    }\n",
              "\n",
              "    .dataframe thead th {\n",
              "        text-align: right;\n",
              "    }\n",
              "</style>\n",
              "<table border=\"1\" class=\"dataframe\">\n",
              "  <thead>\n",
              "    <tr style=\"text-align: right;\">\n",
              "      <th></th>\n",
              "      <th>wine type</th>\n",
              "      <th>fixed acidity</th>\n",
              "      <th>volatile acidity</th>\n",
              "      <th>citric acid</th>\n",
              "      <th>residual sugar</th>\n",
              "      <th>chlorides</th>\n",
              "      <th>free sulfur dioxide</th>\n",
              "      <th>total sulfur dioxide</th>\n",
              "      <th>density</th>\n",
              "      <th>pH</th>\n",
              "      <th>sulphates</th>\n",
              "      <th>alcohol</th>\n",
              "      <th>quality</th>\n",
              "    </tr>\n",
              "  </thead>\n",
              "  <tbody>\n",
              "    <tr>\n",
              "      <th>0</th>\n",
              "      <td>white</td>\n",
              "      <td>7.0</td>\n",
              "      <td>0.27</td>\n",
              "      <td>0.36</td>\n",
              "      <td>20.7</td>\n",
              "      <td>45.00</td>\n",
              "      <td>45.0</td>\n",
              "      <td>170.0</td>\n",
              "      <td>1001.0000</td>\n",
              "      <td>3.00</td>\n",
              "      <td>0.45</td>\n",
              "      <td>8.8</td>\n",
              "      <td>6</td>\n",
              "    </tr>\n",
              "    <tr>\n",
              "      <th>1</th>\n",
              "      <td>white</td>\n",
              "      <td>6.3</td>\n",
              "      <td>0.30</td>\n",
              "      <td>0.34</td>\n",
              "      <td>1.6</td>\n",
              "      <td>49.00</td>\n",
              "      <td>14.0</td>\n",
              "      <td>132.0</td>\n",
              "      <td>994.0000</td>\n",
              "      <td>3.30</td>\n",
              "      <td>0.49</td>\n",
              "      <td>9.5</td>\n",
              "      <td>6</td>\n",
              "    </tr>\n",
              "    <tr>\n",
              "      <th>2</th>\n",
              "      <td>white</td>\n",
              "      <td>8.1</td>\n",
              "      <td>0.28</td>\n",
              "      <td>0.40</td>\n",
              "      <td>6.9</td>\n",
              "      <td>0.05</td>\n",
              "      <td>30.0</td>\n",
              "      <td>97.0</td>\n",
              "      <td>0.9951</td>\n",
              "      <td>3.26</td>\n",
              "      <td>0.44</td>\n",
              "      <td>10.1</td>\n",
              "      <td>6</td>\n",
              "    </tr>\n",
              "    <tr>\n",
              "      <th>3</th>\n",
              "      <td>white</td>\n",
              "      <td>7.2</td>\n",
              "      <td>0.23</td>\n",
              "      <td>0.32</td>\n",
              "      <td>8.5</td>\n",
              "      <td>58.00</td>\n",
              "      <td>47.0</td>\n",
              "      <td>186.0</td>\n",
              "      <td>0.9956</td>\n",
              "      <td>3.19</td>\n",
              "      <td>0.40</td>\n",
              "      <td>9.9</td>\n",
              "      <td>6</td>\n",
              "    </tr>\n",
              "    <tr>\n",
              "      <th>4</th>\n",
              "      <td>white</td>\n",
              "      <td>7.2</td>\n",
              "      <td>0.23</td>\n",
              "      <td>0.32</td>\n",
              "      <td>8.5</td>\n",
              "      <td>58.00</td>\n",
              "      <td>47.0</td>\n",
              "      <td>186.0</td>\n",
              "      <td>0.9956</td>\n",
              "      <td>3.19</td>\n",
              "      <td>0.40</td>\n",
              "      <td>9.9</td>\n",
              "      <td>6</td>\n",
              "    </tr>\n",
              "  </tbody>\n",
              "</table>\n",
              "</div>"
            ],
            "text/plain": [
              "  wine type  fixed acidity  volatile acidity  ...  sulphates  alcohol  quality\n",
              "0     white            7.0              0.27  ...       0.45      8.8        6\n",
              "1     white            6.3              0.30  ...       0.49      9.5        6\n",
              "2     white            8.1              0.28  ...       0.44     10.1        6\n",
              "3     white            7.2              0.23  ...       0.40      9.9        6\n",
              "4     white            7.2              0.23  ...       0.40      9.9        6\n",
              "\n",
              "[5 rows x 13 columns]"
            ]
          },
          "metadata": {
            "tags": []
          },
          "execution_count": 4
        }
      ]
    },
    {
      "cell_type": "code",
      "metadata": {
        "id": "RPQQszHriJRC",
        "colab_type": "code",
        "colab": {
          "base_uri": "https://localhost:8080/",
          "height": 102
        },
        "outputId": "42c2b406-aa01-49f1-f4c1-8b2b17f3ca78"
      },
      "source": [
        "#verificando colunas dos dados\n",
        "dados.columns"
      ],
      "execution_count": null,
      "outputs": [
        {
          "output_type": "execute_result",
          "data": {
            "text/plain": [
              "Index(['wine type', 'fixed acidity', 'volatile acidity', 'citric acid',\n",
              "       'residual sugar', 'chlorides', 'free sulfur dioxide',\n",
              "       'total sulfur dioxide', 'density', 'pH', 'sulphates', 'alcohol',\n",
              "       'quality'],\n",
              "      dtype='object')"
            ]
          },
          "metadata": {
            "tags": []
          },
          "execution_count": 5
        }
      ]
    },
    {
      "cell_type": "code",
      "metadata": {
        "id": "3OtGJFSenp_b",
        "colab_type": "code",
        "colab": {
          "base_uri": "https://localhost:8080/",
          "height": 255
        },
        "outputId": "765b3f5c-f218-4639-91aa-9cb3c71fad05"
      },
      "source": [
        "#verificar a quantidade de instâncias\n",
        "dados.count"
      ],
      "execution_count": null,
      "outputs": [
        {
          "output_type": "execute_result",
          "data": {
            "text/plain": [
              "<bound method DataFrame.count of      wine type  fixed acidity  volatile acidity  ...  sulphates  alcohol  quality\n",
              "0        white            7.0              0.27  ...       0.45      8.8        6\n",
              "1        white            6.3              0.30  ...       0.49      9.5        6\n",
              "2        white            8.1              0.28  ...       0.44     10.1        6\n",
              "3        white            7.2              0.23  ...       0.40      9.9        6\n",
              "4        white            7.2              0.23  ...       0.40      9.9        6\n",
              "...        ...            ...               ...  ...        ...      ...      ...\n",
              "8091       red            6.2              0.60  ...       0.58     10.5        5\n",
              "8092       red            5.9              0.55  ...       0.76     11.2        6\n",
              "8093       red            6.3              0.51  ...       0.75     11.0        6\n",
              "8094       red            5.9            645.00  ...       0.71     10.2        5\n",
              "8095       red            6.0              0.31  ...       0.66     11.0        6\n",
              "\n",
              "[8096 rows x 13 columns]>"
            ]
          },
          "metadata": {
            "tags": []
          },
          "execution_count": 6
        }
      ]
    },
    {
      "cell_type": "markdown",
      "metadata": {
        "id": "s60w6UsZiFMD",
        "colab_type": "text"
      },
      "source": [
        "# **3. Limpeza e organização dos dados**"
      ]
    },
    {
      "cell_type": "code",
      "metadata": {
        "id": "vfBHj-r9iXHe",
        "colab_type": "code",
        "colab": {}
      },
      "source": [
        "#verificar e eliminar se existem valores NAN, ? e/ou faltantes\n",
        "dados = dados.dropna()"
      ],
      "execution_count": null,
      "outputs": []
    },
    {
      "cell_type": "code",
      "metadata": {
        "id": "Px4WLooWiOQ2",
        "colab_type": "code",
        "colab": {}
      },
      "source": [
        "#eliminar colunas irrelevantes para o contexto\n",
        "dados = dados.drop(columns=['density']) # atributo com valores desproporcional"
      ],
      "execution_count": null,
      "outputs": []
    },
    {
      "cell_type": "code",
      "metadata": {
        "id": "FY-8Z-XVn1uG",
        "colab_type": "code",
        "colab": {
          "base_uri": "https://localhost:8080/",
          "height": 340
        },
        "outputId": "7ab326d7-75ef-499f-f55c-f86c0f404664"
      },
      "source": [
        "#verificar quantidade de instâncias sem valores NAN, ? e/ou faltantes\n",
        "dados.info()"
      ],
      "execution_count": null,
      "outputs": [
        {
          "output_type": "stream",
          "text": [
            "<class 'pandas.core.frame.DataFrame'>\n",
            "Int64Index: 8096 entries, 0 to 8095\n",
            "Data columns (total 12 columns):\n",
            " #   Column                Non-Null Count  Dtype  \n",
            "---  ------                --------------  -----  \n",
            " 0   wine type             8096 non-null   object \n",
            " 1   fixed acidity         8096 non-null   float64\n",
            " 2   volatile acidity      8096 non-null   float64\n",
            " 3   citric acid           8096 non-null   float64\n",
            " 4   residual sugar        8096 non-null   float64\n",
            " 5   chlorides             8096 non-null   float64\n",
            " 6   free sulfur dioxide   8096 non-null   float64\n",
            " 7   total sulfur dioxide  8096 non-null   float64\n",
            " 8   pH                    8096 non-null   float64\n",
            " 9   sulphates             8096 non-null   float64\n",
            " 10  alcohol               8096 non-null   float64\n",
            " 11  quality               8096 non-null   int64  \n",
            "dtypes: float64(10), int64(1), object(1)\n",
            "memory usage: 822.2+ KB\n"
          ],
          "name": "stdout"
        }
      ]
    },
    {
      "cell_type": "code",
      "metadata": {
        "id": "0uRtI1Oti7Ap",
        "colab_type": "code",
        "colab": {
          "base_uri": "https://localhost:8080/",
          "height": 221
        },
        "outputId": "54148738-933c-4965-8d68-df8e6ad68ac0"
      },
      "source": [
        "#trocando o tipo do atributo 'wine type'  por um tipo numerico\n",
        "dados['wine type'] = dados['wine type'].replace(['white','red'],[0,1]) # 0 - para white wine | 1 - para red wine\n",
        "dados.head()"
      ],
      "execution_count": null,
      "outputs": [
        {
          "output_type": "execute_result",
          "data": {
            "text/html": [
              "<div>\n",
              "<style scoped>\n",
              "    .dataframe tbody tr th:only-of-type {\n",
              "        vertical-align: middle;\n",
              "    }\n",
              "\n",
              "    .dataframe tbody tr th {\n",
              "        vertical-align: top;\n",
              "    }\n",
              "\n",
              "    .dataframe thead th {\n",
              "        text-align: right;\n",
              "    }\n",
              "</style>\n",
              "<table border=\"1\" class=\"dataframe\">\n",
              "  <thead>\n",
              "    <tr style=\"text-align: right;\">\n",
              "      <th></th>\n",
              "      <th>wine type</th>\n",
              "      <th>fixed acidity</th>\n",
              "      <th>volatile acidity</th>\n",
              "      <th>citric acid</th>\n",
              "      <th>residual sugar</th>\n",
              "      <th>chlorides</th>\n",
              "      <th>free sulfur dioxide</th>\n",
              "      <th>total sulfur dioxide</th>\n",
              "      <th>pH</th>\n",
              "      <th>sulphates</th>\n",
              "      <th>alcohol</th>\n",
              "      <th>quality</th>\n",
              "    </tr>\n",
              "  </thead>\n",
              "  <tbody>\n",
              "    <tr>\n",
              "      <th>0</th>\n",
              "      <td>0</td>\n",
              "      <td>7.0</td>\n",
              "      <td>0.27</td>\n",
              "      <td>0.36</td>\n",
              "      <td>20.7</td>\n",
              "      <td>45.00</td>\n",
              "      <td>45.0</td>\n",
              "      <td>170.0</td>\n",
              "      <td>3.00</td>\n",
              "      <td>0.45</td>\n",
              "      <td>8.8</td>\n",
              "      <td>6</td>\n",
              "    </tr>\n",
              "    <tr>\n",
              "      <th>1</th>\n",
              "      <td>0</td>\n",
              "      <td>6.3</td>\n",
              "      <td>0.30</td>\n",
              "      <td>0.34</td>\n",
              "      <td>1.6</td>\n",
              "      <td>49.00</td>\n",
              "      <td>14.0</td>\n",
              "      <td>132.0</td>\n",
              "      <td>3.30</td>\n",
              "      <td>0.49</td>\n",
              "      <td>9.5</td>\n",
              "      <td>6</td>\n",
              "    </tr>\n",
              "    <tr>\n",
              "      <th>2</th>\n",
              "      <td>0</td>\n",
              "      <td>8.1</td>\n",
              "      <td>0.28</td>\n",
              "      <td>0.40</td>\n",
              "      <td>6.9</td>\n",
              "      <td>0.05</td>\n",
              "      <td>30.0</td>\n",
              "      <td>97.0</td>\n",
              "      <td>3.26</td>\n",
              "      <td>0.44</td>\n",
              "      <td>10.1</td>\n",
              "      <td>6</td>\n",
              "    </tr>\n",
              "    <tr>\n",
              "      <th>3</th>\n",
              "      <td>0</td>\n",
              "      <td>7.2</td>\n",
              "      <td>0.23</td>\n",
              "      <td>0.32</td>\n",
              "      <td>8.5</td>\n",
              "      <td>58.00</td>\n",
              "      <td>47.0</td>\n",
              "      <td>186.0</td>\n",
              "      <td>3.19</td>\n",
              "      <td>0.40</td>\n",
              "      <td>9.9</td>\n",
              "      <td>6</td>\n",
              "    </tr>\n",
              "    <tr>\n",
              "      <th>4</th>\n",
              "      <td>0</td>\n",
              "      <td>7.2</td>\n",
              "      <td>0.23</td>\n",
              "      <td>0.32</td>\n",
              "      <td>8.5</td>\n",
              "      <td>58.00</td>\n",
              "      <td>47.0</td>\n",
              "      <td>186.0</td>\n",
              "      <td>3.19</td>\n",
              "      <td>0.40</td>\n",
              "      <td>9.9</td>\n",
              "      <td>6</td>\n",
              "    </tr>\n",
              "  </tbody>\n",
              "</table>\n",
              "</div>"
            ],
            "text/plain": [
              "   wine type  fixed acidity  volatile acidity  ...  sulphates  alcohol  quality\n",
              "0          0            7.0              0.27  ...       0.45      8.8        6\n",
              "1          0            6.3              0.30  ...       0.49      9.5        6\n",
              "2          0            8.1              0.28  ...       0.44     10.1        6\n",
              "3          0            7.2              0.23  ...       0.40      9.9        6\n",
              "4          0            7.2              0.23  ...       0.40      9.9        6\n",
              "\n",
              "[5 rows x 12 columns]"
            ]
          },
          "metadata": {
            "tags": []
          },
          "execution_count": 10
        }
      ]
    },
    {
      "cell_type": "markdown",
      "metadata": {
        "id": "v8rlrEDkjRRZ",
        "colab_type": "text"
      },
      "source": [
        "# **4. Análise preliminar dos dados**"
      ]
    },
    {
      "cell_type": "code",
      "metadata": {
        "id": "zpKQQvVsjU4f",
        "colab_type": "code",
        "colab": {}
      },
      "source": [
        "# importando biblioteca para plotar gráficos\n",
        "import matplotlib.pyplot as plt"
      ],
      "execution_count": null,
      "outputs": []
    },
    {
      "cell_type": "markdown",
      "metadata": {
        "id": "RMBnFTq2jYo_",
        "colab_type": "text"
      },
      "source": [
        "**Histograma**\n",
        "* Representação gráfica da distribuição de frequência de um conjunto de dados\n",
        "* Os dados são divididos em classes e é feita uma contagem das ocorrências dos dados nessas classes"
      ]
    },
    {
      "cell_type": "code",
      "metadata": {
        "id": "6p4oyW0bjf9h",
        "colab_type": "code",
        "colab": {
          "base_uri": "https://localhost:8080/",
          "height": 295
        },
        "outputId": "1bd6563e-2089-4b55-c7a7-d2175326dd4a"
      },
      "source": [
        "#verificando ocorrências das classes\n",
        "plt.hist(dados['wine type'])\n",
        "plt.xlabel('Classes')\n",
        "plt.ylabel('Quantidade')\n",
        "plt.title('Ocorrências das Classes')\n",
        "plt.grid(True)\n",
        "plt.show()"
      ],
      "execution_count": null,
      "outputs": [
        {
          "output_type": "display_data",
          "data": {
            "image/png": "[encoded data removed]",
            "text/plain": [
              "<Figure size 432x288 with 1 Axes>"
            ]
          },
          "metadata": {
            "tags": [],
            "needs_background": "light"
          }
        }
      ]
    },
    {
      "cell_type": "markdown",
      "metadata": {
        "id": "CADmfqp5IwZg",
        "colab_type": "text"
      },
      "source": [
        "**Comentários**\n",
        "\n",
        "*Observa-se, no gráfico acima, que as classes não estão bem balanceadas.*"
      ]
    },
    {
      "cell_type": "code",
      "metadata": {
        "id": "Eqk0Y-hhj4z_",
        "colab_type": "code",
        "colab": {
          "base_uri": "https://localhost:8080/",
          "height": 51
        },
        "outputId": "5182350f-95a2-4468-ea1a-190213a025f2"
      },
      "source": [
        "#contando quantidades de ocorrencias de cada classe\n",
        "print('White:',dados[dados['wine type']==0].shape[0])\n",
        "print('Red:',dados[dados['wine type']==1].shape[0])\n"
      ],
      "execution_count": null,
      "outputs": [
        {
          "output_type": "stream",
          "text": [
            "White: 6497\n",
            "Red: 1599\n"
          ],
          "name": "stdout"
        }
      ]
    },
    {
      "cell_type": "code",
      "metadata": {
        "id": "KiLv5Ox6kcX9",
        "colab_type": "code",
        "colab": {
          "base_uri": "https://localhost:8080/",
          "height": 281
        },
        "outputId": "9b2ddb96-5094-40d9-b593-90b565031842"
      },
      "source": [
        "#verificando ocorrências do atributo qualidade\n",
        "plt.hist(dados['quality'],10)\n",
        "plt.ylabel('Quantidade')\n",
        "plt.title('Ocorrências do Atributo Qualidade')\n",
        "plt.grid(True)\n",
        "plt.show()"
      ],
      "execution_count": null,
      "outputs": [
        {
          "output_type": "display_data",
          "data": {
            "image/png": "[encoded data removed]",
            "text/plain": [
              "<Figure size 432x288 with 1 Axes>"
            ]
          },
          "metadata": {
            "tags": [],
            "needs_background": "light"
          }
        }
      ]
    },
    {
      "cell_type": "code",
      "metadata": {
        "id": "Ni1J2ouOmuFH",
        "colab_type": "code",
        "colab": {
          "base_uri": "https://localhost:8080/",
          "height": 281
        },
        "outputId": "3531994a-abac-4b68-f661-40a741aab9f7"
      },
      "source": [
        "#verificando ocorrências do atributo alcohol\n",
        "plt.hist(dados['alcohol'],10)\n",
        "plt.ylabel('Quantidade')\n",
        "plt.title('Ocorrências do Atributo Alcohol')\n",
        "plt.grid(True)\n",
        "plt.show()"
      ],
      "execution_count": null,
      "outputs": [
        {
          "output_type": "display_data",
          "data": {
            "image/png": "[encoded data removed]",
            "text/plain": [
              "<Figure size 432x288 with 1 Axes>"
            ]
          },
          "metadata": {
            "tags": [],
            "needs_background": "light"
          }
        }
      ]
    },
    {
      "cell_type": "markdown",
      "metadata": {
        "id": "xY2x_NLHLpRO",
        "colab_type": "text"
      },
      "source": [
        "# **Distribuição de probabilidade**\n",
        "\n",
        "* O histograma exibe frequências de ocorrências dos \n",
        "valores em n classes discretas\n",
        "* A distribuição de probabilidade não discretiza os dados"
      ]
    },
    {
      "cell_type": "code",
      "metadata": {
        "id": "O-uh5qdSL6Av",
        "colab_type": "code",
        "colab": {
          "base_uri": "https://localhost:8080/",
          "height": 349
        },
        "outputId": "e81e3678-d652-4f0c-fd84-0c281f68967a"
      },
      "source": [
        "import seaborn as sns\n",
        "\n",
        "sns.distplot(dados.quality, hist=False, rug=False,label='Qualidade')\n",
        "plt.ylabel('Probabilidades')\n",
        "plt.title('Ocorrências do Atributo Qualidade')\n",
        "plt.show()"
      ],
      "execution_count": null,
      "outputs": [
        {
          "output_type": "stream",
          "text": [
            "/usr/local/lib/python3.6/dist-packages/statsmodels/tools/_testing.py:19: FutureWarning: pandas.util.testing is deprecated. Use the functions in the public API at pandas.testing instead.\n",
            "  import pandas.util.testing as tm\n"
          ],
          "name": "stderr"
        },
        {
          "output_type": "display_data",
          "data": {
            "image/png": "[encoded data removed]",
            "text/plain": [
              "<Figure size 432x288 with 1 Axes>"
            ]
          },
          "metadata": {
            "tags": [],
            "needs_background": "light"
          }
        }
      ]
    },
    {
      "cell_type": "markdown",
      "metadata": {
        "id": "EKZ77JVDL-dp",
        "colab_type": "text"
      },
      "source": [
        "# **BoxPlot**\n",
        "\n",
        "* Análise visual da posição e dispersão dos dados\n",
        "* Mediana e Quartis\n",
        "* Pontos fora da curva"
      ]
    },
    {
      "cell_type": "code",
      "metadata": {
        "id": "hs8OxfZSMNkF",
        "colab_type": "code",
        "colab": {
          "base_uri": "https://localhost:8080/",
          "height": 295
        },
        "outputId": "39d8270c-0f62-4980-f326-5654299eee25"
      },
      "source": [
        "plt.boxplot(dados['volatile acidity'])\n",
        "plt.title('Boxplot da Volatile acidity')\n",
        "plt.xlabel('Volatile acidity')\n",
        "plt.grid()\n",
        "plt.show()  "
      ],
      "execution_count": null,
      "outputs": [
        {
          "output_type": "display_data",
          "data": {
            "image/png": "[encoded data removed]",
            "text/plain": [
              "<Figure size 432x288 with 1 Axes>"
            ]
          },
          "metadata": {
            "tags": [],
            "needs_background": "light"
          }
        }
      ]
    },
    {
      "cell_type": "code",
      "metadata": {
        "id": "0TW9x3xaqKVs",
        "colab_type": "code",
        "colab": {
          "base_uri": "https://localhost:8080/",
          "height": 295
        },
        "outputId": "148f5b9e-239d-4f22-a4e3-729513857cea"
      },
      "source": [
        "plt.boxplot(dados['citric acid'])\n",
        "plt.title('Boxplot da citric acid')\n",
        "plt.xlabel('Citric acid')\n",
        "plt.grid()\n",
        "plt.show()  "
      ],
      "execution_count": null,
      "outputs": [
        {
          "output_type": "display_data",
          "data": {
            "image/png": "[encoded data removed]",
            "text/plain": [
              "<Figure size 432x288 with 1 Axes>"
            ]
          },
          "metadata": {
            "tags": [],
            "needs_background": "light"
          }
        }
      ]
    },
    {
      "cell_type": "markdown",
      "metadata": {
        "id": "OQY6bRuJJS9y",
        "colab_type": "text"
      },
      "source": [
        "**Comentários**\n",
        "\n",
        "*Acredito que por ainda ter tido feito a reescala dos dados, há muita discrepâncias nos boxplots acima.*"
      ]
    },
    {
      "cell_type": "markdown",
      "metadata": {
        "id": "t36BaSQYMXg5",
        "colab_type": "text"
      },
      "source": [
        "# **Análise comparativa dos atributos entre as classes**"
      ]
    },
    {
      "cell_type": "code",
      "metadata": {
        "id": "YLx4ifhYMaT2",
        "colab_type": "code",
        "colab": {}
      },
      "source": [
        "#criando dataframe apenas para os WINE WHITE\n",
        "white = dados[dados['wine type']==0].drop(columns=['wine type']).reset_index(drop=True)"
      ],
      "execution_count": null,
      "outputs": []
    },
    {
      "cell_type": "code",
      "metadata": {
        "id": "otikzl04MfIY",
        "colab_type": "code",
        "colab": {}
      },
      "source": [
        "#criando dataframe apenas para os WINE RED\n",
        "red = dados[dados['wine type']==1].drop(columns=['wine type']).reset_index(drop=True)"
      ],
      "execution_count": null,
      "outputs": []
    },
    {
      "cell_type": "code",
      "metadata": {
        "id": "KVcq256aMivy",
        "colab_type": "code",
        "colab": {
          "base_uri": "https://localhost:8080/",
          "height": 281
        },
        "outputId": "562a6205-ab4f-4e5b-9184-831f7aaf864e"
      },
      "source": [
        "#plotando boxplots dos dados das instâncias WINE WHITE\n",
        "white.boxplot()\n",
        "plt.title('Box plot dos atributo WINE WHITE')\n",
        "plt.show()"
      ],
      "execution_count": null,
      "outputs": [
        {
          "output_type": "display_data",
          "data": {
            "image/png": "[encoded data removed]",
            "text/plain": [
              "<Figure size 432x288 with 1 Axes>"
            ]
          },
          "metadata": {
            "tags": [],
            "needs_background": "light"
          }
        }
      ]
    },
    {
      "cell_type": "markdown",
      "metadata": {
        "id": "gYij-JXFJm9t",
        "colab_type": "text"
      },
      "source": [
        "**Comentários**\n",
        "\n",
        "*Observa-se acima muitas discrepâncias no gráfico boxplot.*"
      ]
    },
    {
      "cell_type": "code",
      "metadata": {
        "id": "FttJkQIcM9sz",
        "colab_type": "code",
        "colab": {
          "base_uri": "https://localhost:8080/",
          "height": 281
        },
        "outputId": "3f8dfb0b-d350-4c17-c1f7-5fb6fd02e56f"
      },
      "source": [
        "#plotando boxplots dos dados das instâncias WINE RED\n",
        "red.boxplot()\n",
        "plt.title('Box plot dos atributos do wine red')\n",
        "plt.show()"
      ],
      "execution_count": null,
      "outputs": [
        {
          "output_type": "display_data",
          "data": {
            "image/png": "[encoded data removed]",
            "text/plain": [
              "<Figure size 432x288 with 1 Axes>"
            ]
          },
          "metadata": {
            "tags": [],
            "needs_background": "light"
          }
        }
      ]
    },
    {
      "cell_type": "code",
      "metadata": {
        "id": "0qZY9nS9ND4B",
        "colab_type": "code",
        "colab": {
          "base_uri": "https://localhost:8080/",
          "height": 295
        },
        "outputId": "f187a15c-9068-4954-c496-b6fc79c44464"
      },
      "source": [
        "# box plot comparando as 'citric acid' para as duas classes\n",
        "plt.boxplot([white['citric acid'],red['citric acid']],labels=['white','red'])\n",
        "plt.xlabel('Classes')\n",
        "plt.ylabel('Citric acid')\n",
        "plt.title('Citric acid dos Vinhos')\n",
        "plt.show()"
      ],
      "execution_count": null,
      "outputs": [
        {
          "output_type": "display_data",
          "data": {
            "image/png": "[encoded data removed]",
            "text/plain": [
              "<Figure size 432x288 with 1 Axes>"
            ]
          },
          "metadata": {
            "tags": [],
            "needs_background": "light"
          }
        }
      ]
    },
    {
      "cell_type": "code",
      "metadata": {
        "id": "u8TAonN_NJH8",
        "colab_type": "code",
        "colab": {
          "base_uri": "https://localhost:8080/",
          "height": 295
        },
        "outputId": "6bb916a5-f2be-4824-d36a-06cb74694538"
      },
      "source": [
        "# distribuição de probabilidade comparando o 'Fixed Acidity' para as duas classes\n",
        "sns.distplot(white['fixed acidity'], hist=False, rug=False,label='white')\n",
        "sns.distplot(red['fixed acidity'], hist=False, rug=False,label='red')\n",
        "plt.xlabel('Fixed acidity')\n",
        "plt.ylabel('Probabilidades')\n",
        "plt.title('Fixed acidity dos Vinhos')\n",
        "plt.show()"
      ],
      "execution_count": null,
      "outputs": [
        {
          "output_type": "display_data",
          "data": {
            "image/png": "[encoded data removed]",
            "text/plain": [
              "<Figure size 432x288 with 1 Axes>"
            ]
          },
          "metadata": {
            "tags": [],
            "needs_background": "light"
          }
        }
      ]
    },
    {
      "cell_type": "code",
      "metadata": {
        "id": "Y5WHIPJfNOEu",
        "colab_type": "code",
        "colab": {
          "base_uri": "https://localhost:8080/",
          "height": 295
        },
        "outputId": "300c383b-f740-447b-d1ce-09313b4d918b"
      },
      "source": [
        "# distribuição de probabilidade comparando o Alcohol para as duas classes\n",
        "sns.distplot(white['alcohol'], hist=False, rug=False,label='white')\n",
        "sns.distplot(red['alcohol'], hist=False, rug=False,label='red')\n",
        "plt.xlabel('Alcohol')\n",
        "plt.ylabel('Probabilidades')\n",
        "plt.title('Alcohol dos times')\n",
        "plt.show()"
      ],
      "execution_count": null,
      "outputs": [
        {
          "output_type": "display_data",
          "data": {
            "image/png": "[encoded data removed]",
            "text/plain": [
              "<Figure size 432x288 with 1 Axes>"
            ]
          },
          "metadata": {
            "tags": [],
            "needs_background": "light"
          }
        }
      ]
    },
    {
      "cell_type": "markdown",
      "metadata": {
        "id": "OmbC4Sb1NTm5",
        "colab_type": "text"
      },
      "source": [
        "# **Análise estatística dos dados**\n",
        "\n",
        "\n",
        "**Média**\n",
        "\n",
        "$\\mu = \\dfrac{1}{n}\\sum_{i=1}^n{x_i}$"
      ]
    },
    {
      "cell_type": "code",
      "metadata": {
        "id": "XY2WKs6FNipt",
        "colab_type": "code",
        "colab": {
          "base_uri": "https://localhost:8080/",
          "height": 221
        },
        "outputId": "d6d55fc2-8a93-4272-e217-23e113303c79"
      },
      "source": [
        "# estatistica basica dos dados - media\n",
        "white.mean()"
      ],
      "execution_count": null,
      "outputs": [
        {
          "output_type": "execute_result",
          "data": {
            "text/plain": [
              "fixed acidity             7.215307\n",
              "volatile acidity         29.488570\n",
              "citric acid               0.318633\n",
              "residual sugar            5.443235\n",
              "chlorides                49.680363\n",
              "free sulfur dioxide      30.525319\n",
              "total sulfur dioxide    115.744574\n",
              "pH                        3.218501\n",
              "sulphates                 0.531268\n",
              "alcohol                  10.491801\n",
              "quality                   5.818378\n",
              "dtype: float64"
            ]
          },
          "metadata": {
            "tags": []
          },
          "execution_count": 26
        }
      ]
    },
    {
      "cell_type": "markdown",
      "metadata": {
        "id": "AcihaoM3N6wc",
        "colab_type": "text"
      },
      "source": [
        "**Desvio padrão**\n",
        "\n",
        "$var = \\dfrac{1}{n}\\sum_{i=1}^n(x_i - \\mu_x)^2$\n",
        "\n",
        "$\\sigma = \\sqrt{var}$"
      ]
    },
    {
      "cell_type": "code",
      "metadata": {
        "id": "iXE0JwNwOGFL",
        "colab_type": "code",
        "colab": {
          "base_uri": "https://localhost:8080/",
          "height": 221
        },
        "outputId": "bb48ba8b-682a-4976-ca6a-c7fd41594a3c"
      },
      "source": [
        "# estatistica basica dos dados - desvio padrao\n",
        "white.std()"
      ],
      "execution_count": null,
      "outputs": [
        {
          "output_type": "execute_result",
          "data": {
            "text/plain": [
              "fixed acidity             1.296434\n",
              "volatile acidity        134.738314\n",
              "citric acid               0.145318\n",
              "residual sugar            4.757804\n",
              "chlorides                37.118821\n",
              "free sulfur dioxide      17.749400\n",
              "total sulfur dioxide     56.521855\n",
              "pH                        0.160787\n",
              "sulphates                 0.148806\n",
              "alcohol                   1.192712\n",
              "quality                   0.873255\n",
              "dtype: float64"
            ]
          },
          "metadata": {
            "tags": []
          },
          "execution_count": 27
        }
      ]
    },
    {
      "cell_type": "code",
      "metadata": {
        "id": "IxkXkx-4OMM9",
        "colab_type": "code",
        "colab": {
          "base_uri": "https://localhost:8080/",
          "height": 34
        },
        "outputId": "c2062244-d16f-47cd-e179-93bd473db471"
      },
      "source": [
        "#media do atributo chlorides\n",
        "white.chlorides.mean()"
      ],
      "execution_count": null,
      "outputs": [
        {
          "output_type": "execute_result",
          "data": {
            "text/plain": [
              "49.68036324457437"
            ]
          },
          "metadata": {
            "tags": []
          },
          "execution_count": 28
        }
      ]
    },
    {
      "cell_type": "code",
      "metadata": {
        "id": "uBm7bG8nORL3",
        "colab_type": "code",
        "colab": {
          "base_uri": "https://localhost:8080/",
          "height": 34
        },
        "outputId": "f6bedf73-fdd6-4c90-fe16-22d9d56c2ee9"
      },
      "source": [
        "#mediana do atributo chlorides\n",
        "white.chlorides.median()\n"
      ],
      "execution_count": null,
      "outputs": [
        {
          "output_type": "execute_result",
          "data": {
            "text/plain": [
              "45.0"
            ]
          },
          "metadata": {
            "tags": []
          },
          "execution_count": 29
        }
      ]
    },
    {
      "cell_type": "code",
      "metadata": {
        "id": "RUhclr6wOTnW",
        "colab_type": "code",
        "colab": {
          "base_uri": "https://localhost:8080/",
          "height": 34
        },
        "outputId": "668fb506-959b-4397-bc1b-8079bd93eb6d"
      },
      "source": [
        "#amplitude do atributo chlorides\n",
        "'Min:',white.chlorides.max(),'Max:',white.chlorides.min()"
      ],
      "execution_count": null,
      "outputs": [
        {
          "output_type": "execute_result",
          "data": {
            "text/plain": [
              "('Min:', 611.0, 'Max:', 0.02)"
            ]
          },
          "metadata": {
            "tags": []
          },
          "execution_count": 30
        }
      ]
    },
    {
      "cell_type": "code",
      "metadata": {
        "id": "ehu7-nhnOawX",
        "colab_type": "code",
        "colab": {
          "base_uri": "https://localhost:8080/",
          "height": 295
        },
        "outputId": "a730608b-043b-49e4-8b64-dc255261aacc"
      },
      "source": [
        "# gráfico de barras comparando a média e desvio padrão do 'citric acid' para as duas classes\n",
        "plt.bar(['white','red'],[white['citric acid'].mean(),red['citric acid'].mean()],yerr=[white['citric acid'].std(),red['citric acid'].std()])\n",
        "plt.xlabel('Classes')\n",
        "plt.ylabel('Citric acid')\n",
        "plt.title('Citric acid dos times')\n",
        "plt.show()"
      ],
      "execution_count": null,
      "outputs": [
        {
          "output_type": "display_data",
          "data": {
            "image/png": "[encoded data removed]",
            "text/plain": [
              "<Figure size 432x288 with 1 Axes>"
            ]
          },
          "metadata": {
            "tags": [],
            "needs_background": "light"
          }
        }
      ]
    },
    {
      "cell_type": "markdown",
      "metadata": {
        "id": "8MGFFJ_YOhAa",
        "colab_type": "text"
      },
      "source": [
        "# **Estudo de correlação entre atributos**\n",
        "\n",
        "* Estudo da relação estatística entre duas variáveis\n",
        "* Como uma variável se comporta quando a outra varia\n",
        "* Dá ideia de quanto de uma variável pode ser usada para explicar a outra\n",
        "* Correlação não implica causalidade"
      ]
    },
    {
      "cell_type": "code",
      "metadata": {
        "id": "TU2omwirO0_w",
        "colab_type": "code",
        "colab": {
          "base_uri": "https://localhost:8080/",
          "height": 295
        },
        "outputId": "2fd0844a-6e94-4dc6-8d24-e9671ad8fa0e"
      },
      "source": [
        "# plotando correlação entre citric acid e pH\n",
        "plt.scatter(dados['citric acid'],dados['pH'])\n",
        "plt.xlabel('citric acid')\n",
        "plt.ylabel('pH')\n",
        "plt.title('Correlação entre citric acid e pH')\n",
        "plt.show()"
      ],
      "execution_count": null,
      "outputs": [
        {
          "output_type": "display_data",
          "data": {
            "image/png": "[encoded data removed]",
            "text/plain": [
              "<Figure size 432x288 with 1 Axes>"
            ]
          },
          "metadata": {
            "tags": [],
            "needs_background": "light"
          }
        }
      ]
    },
    {
      "cell_type": "code",
      "metadata": {
        "id": "A1CZ9zB4O8Sa",
        "colab_type": "code",
        "colab": {
          "base_uri": "https://localhost:8080/",
          "height": 295
        },
        "outputId": "0eecdcbd-d8c5-4cad-8a66-818b4c6ab647"
      },
      "source": [
        "# plotando correlação entre 'fixed acidity e 'Alcohol'\n",
        "plt.scatter(dados['fixed acidity'],dados['alcohol'])\n",
        "plt.xlabel('Fixed acidity')\n",
        "plt.ylabel('Alcohol')\n",
        "plt.title('Correlação entre Fixed acidity e Alcohol')\n",
        "plt.show()"
      ],
      "execution_count": null,
      "outputs": [
        {
          "output_type": "display_data",
          "data": {
            "image/png": "[encoded data removed]",
            "text/plain": [
              "<Figure size 432x288 with 1 Axes>"
            ]
          },
          "metadata": {
            "tags": [],
            "needs_background": "light"
          }
        }
      ]
    },
    {
      "cell_type": "code",
      "metadata": {
        "id": "H8SLzeABPBk3",
        "colab_type": "code",
        "colab": {
          "base_uri": "https://localhost:8080/",
          "height": 295
        },
        "outputId": "5b78dfcb-91b2-4492-c924-14fbd4af0077"
      },
      "source": [
        "# plotando correlação entre 'residual sugar' e a 'chlorides'\n",
        "plt.scatter(dados['residual sugar'],dados['chlorides'])\n",
        "#fixed acidity / volatile acidity / citric acid / residual sugar / chlorides / free sulfur dioxide / total sulfur dioxide / pH / \n",
        "# sulphates / alcohol / quality \n",
        "plt.xlabel('Residual sugar')\n",
        "plt.ylabel('Chlorides')\n",
        "plt.title('Correlação entre residual sugar e chlorides')\n",
        "plt.show()"
      ],
      "execution_count": null,
      "outputs": [
        {
          "output_type": "display_data",
          "data": {
            "image/png": "[encoded data removed]",
            "text/plain": [
              "<Figure size 432x288 with 1 Axes>"
            ]
          },
          "metadata": {
            "tags": [],
            "needs_background": "light"
          }
        }
      ]
    },
    {
      "cell_type": "markdown",
      "metadata": {
        "id": "vGoLnANUKUJ8",
        "colab_type": "text"
      },
      "source": [
        "**Comentários**\n",
        "\n",
        "*Observa-se, nos gráficos de correlação acima, que não há correlação considerável das variáveis/atributos, sendo estes destacados no gráfico de mapa de calor.*"
      ]
    },
    {
      "cell_type": "markdown",
      "metadata": {
        "id": "G5JkFMUpPHCX",
        "colab_type": "text"
      },
      "source": [
        "# **Coeficiente de correlação**\n",
        "\n",
        "* medida numérica do grau de relação entre duas variáveis quantitativas\n",
        "* coeficiente de correlação de Pearson ($\\rho$):\n",
        "\n",
        "\\begin{equation}\n",
        "\\rho = \\dfrac{\\sum_{i=1}^n(x_i - \\overline{x})(y_i-\\overline{y})}{\\sqrt{\\sum_{i=1}^n(x_i - \\overline{x})^2}\\sqrt{\\sum_{i=1}^n(y_i - \\overline{y})^2}} = \\dfrac{cov(X,Y)}{\\sqrt{var(X)var(Y)}}\n",
        "\\end{equation}\n",
        "\n",
        "* varia entre [-1,1]"
      ]
    },
    {
      "cell_type": "code",
      "metadata": {
        "id": "uzMhbCAuPoCw",
        "colab_type": "code",
        "colab": {
          "base_uri": "https://localhost:8080/",
          "height": 34
        },
        "outputId": "8c2b04e5-d425-4fb0-b468-1ab5f84a1bc7"
      },
      "source": [
        "# calculando o coeficiente de correlação entre duas colunas\n",
        "corr = dados['citric acid'].corr(dados['pH'])\n",
        "corr"
      ],
      "execution_count": null,
      "outputs": [
        {
          "output_type": "execute_result",
          "data": {
            "text/plain": [
              "-0.39174155707392827"
            ]
          },
          "metadata": {
            "tags": []
          },
          "execution_count": 35
        }
      ]
    },
    {
      "cell_type": "code",
      "metadata": {
        "id": "OVUbTJgXPjUx",
        "colab_type": "code",
        "colab": {
          "base_uri": "https://localhost:8080/",
          "height": 34
        },
        "outputId": "0df76446-9b87-4bb1-b8fe-6c954a88e80f"
      },
      "source": [
        "\n",
        "corr = dados['fixed acidity'].corr(dados['alcohol'])\n",
        "corr"
      ],
      "execution_count": null,
      "outputs": [
        {
          "output_type": "execute_result",
          "data": {
            "text/plain": [
              "-0.08950379215248716"
            ]
          },
          "metadata": {
            "tags": []
          },
          "execution_count": 36
        }
      ]
    },
    {
      "cell_type": "code",
      "metadata": {
        "id": "XZwXsesmRniu",
        "colab_type": "code",
        "colab": {
          "base_uri": "https://localhost:8080/",
          "height": 34
        },
        "outputId": "ee54beaa-2a91-4a86-dba6-24aa0f18f5e4"
      },
      "source": [
        "corr = dados['residual sugar'].corr(dados['chlorides'])\n",
        "corr"
      ],
      "execution_count": null,
      "outputs": [
        {
          "output_type": "execute_result",
          "data": {
            "text/plain": [
              "-0.1471202337778776"
            ]
          },
          "metadata": {
            "tags": []
          },
          "execution_count": 37
        }
      ]
    },
    {
      "cell_type": "markdown",
      "metadata": {
        "id": "8OR-wOTqRszt",
        "colab_type": "text"
      },
      "source": [
        "Correlação entre atributos e atributo de classe"
      ]
    },
    {
      "cell_type": "code",
      "metadata": {
        "id": "Ke1iTeMPRjqp",
        "colab_type": "code",
        "colab": {
          "base_uri": "https://localhost:8080/",
          "height": 34
        },
        "outputId": "1a456f58-3852-4b6d-a80d-463545899ff8"
      },
      "source": [
        "#calculando a correlacao entre um atributo descritor e o atributo de classe\n",
        "corr = dados['wine type'].corr(dados.pH)\n",
        "corr"
      ],
      "execution_count": null,
      "outputs": [
        {
          "output_type": "execute_result",
          "data": {
            "text/plain": [
              "0.22519141768409776"
            ]
          },
          "metadata": {
            "tags": []
          },
          "execution_count": 38
        }
      ]
    },
    {
      "cell_type": "code",
      "metadata": {
        "id": "UekOsI1CRyMm",
        "colab_type": "code",
        "colab": {
          "base_uri": "https://localhost:8080/",
          "height": 34
        },
        "outputId": "99927fcb-8a18-4ccf-bf95-c3e6c454433b"
      },
      "source": [
        "#calculando a correlacao entre um atributo descritor e o atributo de classe\n",
        "corr = dados['wine type'].corr(dados.quality)\n",
        "corr"
      ],
      "execution_count": null,
      "outputs": [
        {
          "output_type": "execute_result",
          "data": {
            "text/plain": [
              "-0.08406171870343367"
            ]
          },
          "metadata": {
            "tags": []
          },
          "execution_count": 39
        }
      ]
    },
    {
      "cell_type": "code",
      "metadata": {
        "id": "HBt6UNhER4en",
        "colab_type": "code",
        "colab": {
          "base_uri": "https://localhost:8080/",
          "height": 204
        },
        "outputId": "4ab01150-440b-4c67-8ce0-b067b78f20bf"
      },
      "source": [
        "#calculando a correlação entre todos os atributos e o atributo de classe\n",
        "for col in dados.columns[1:]:\n",
        "    print(col,': ',round(dados['wine type'].corr(dados[col]),2))"
      ],
      "execution_count": null,
      "outputs": [
        {
          "output_type": "stream",
          "text": [
            "fixed acidity :  0.3\n",
            "volatile acidity :  0.14\n",
            "citric acid :  -0.12\n",
            "residual sugar :  -0.26\n",
            "chlorides :  0.26\n",
            "free sulfur dioxide :  -0.33\n",
            "total sulfur dioxide :  -0.46\n",
            "pH :  0.23\n",
            "sulphates :  0.31\n",
            "alcohol :  -0.02\n",
            "quality :  -0.08\n"
          ],
          "name": "stdout"
        }
      ]
    },
    {
      "cell_type": "code",
      "metadata": {
        "id": "LvXaVZhhSDA5",
        "colab_type": "code",
        "colab": {
          "base_uri": "https://localhost:8080/",
          "height": 506
        },
        "outputId": "1dd4a7f1-a9dc-464b-8627-eff03240d9cd"
      },
      "source": [
        "# correlaçao entre os atributos\n",
        "corr = dados.corr()\n",
        "corr"
      ],
      "execution_count": null,
      "outputs": [
        {
          "output_type": "execute_result",
          "data": {
            "text/html": [
              "<div>\n",
              "<style scoped>\n",
              "    .dataframe tbody tr th:only-of-type {\n",
              "        vertical-align: middle;\n",
              "    }\n",
              "\n",
              "    .dataframe tbody tr th {\n",
              "        vertical-align: top;\n",
              "    }\n",
              "\n",
              "    .dataframe thead th {\n",
              "        text-align: right;\n",
              "    }\n",
              "</style>\n",
              "<table border=\"1\" class=\"dataframe\">\n",
              "  <thead>\n",
              "    <tr style=\"text-align: right;\">\n",
              "      <th></th>\n",
              "      <th>wine type</th>\n",
              "      <th>fixed acidity</th>\n",
              "      <th>volatile acidity</th>\n",
              "      <th>citric acid</th>\n",
              "      <th>residual sugar</th>\n",
              "      <th>chlorides</th>\n",
              "      <th>free sulfur dioxide</th>\n",
              "      <th>total sulfur dioxide</th>\n",
              "      <th>pH</th>\n",
              "      <th>sulphates</th>\n",
              "      <th>alcohol</th>\n",
              "      <th>quality</th>\n",
              "    </tr>\n",
              "  </thead>\n",
              "  <tbody>\n",
              "    <tr>\n",
              "      <th>wine type</th>\n",
              "      <td>1.000000</td>\n",
              "      <td>0.300525</td>\n",
              "      <td>0.136908</td>\n",
              "      <td>-0.120495</td>\n",
              "      <td>-0.259255</td>\n",
              "      <td>0.264166</td>\n",
              "      <td>-0.332128</td>\n",
              "      <td>-0.463706</td>\n",
              "      <td>0.225191</td>\n",
              "      <td>0.313330</td>\n",
              "      <td>-0.023439</td>\n",
              "      <td>-0.084062</td>\n",
              "    </tr>\n",
              "    <tr>\n",
              "      <th>fixed acidity</th>\n",
              "      <td>0.300525</td>\n",
              "      <td>1.000000</td>\n",
              "      <td>0.049369</td>\n",
              "      <td>0.371893</td>\n",
              "      <td>-0.154328</td>\n",
              "      <td>0.262474</td>\n",
              "      <td>-0.324524</td>\n",
              "      <td>-0.376404</td>\n",
              "      <td>-0.260059</td>\n",
              "      <td>0.335976</td>\n",
              "      <td>-0.089504</td>\n",
              "      <td>-0.053189</td>\n",
              "    </tr>\n",
              "    <tr>\n",
              "      <th>volatile acidity</th>\n",
              "      <td>0.136908</td>\n",
              "      <td>0.049369</td>\n",
              "      <td>1.000000</td>\n",
              "      <td>-0.208200</td>\n",
              "      <td>-0.087983</td>\n",
              "      <td>0.128326</td>\n",
              "      <td>-0.154847</td>\n",
              "      <td>-0.176300</td>\n",
              "      <td>0.127877</td>\n",
              "      <td>0.063433</td>\n",
              "      <td>-0.054858</td>\n",
              "      <td>-0.135738</td>\n",
              "    </tr>\n",
              "    <tr>\n",
              "      <th>citric acid</th>\n",
              "      <td>-0.120495</td>\n",
              "      <td>0.371893</td>\n",
              "      <td>-0.208200</td>\n",
              "      <td>1.000000</td>\n",
              "      <td>0.154847</td>\n",
              "      <td>0.034855</td>\n",
              "      <td>0.130786</td>\n",
              "      <td>0.198063</td>\n",
              "      <td>-0.391742</td>\n",
              "      <td>0.080960</td>\n",
              "      <td>0.019362</td>\n",
              "      <td>0.125859</td>\n",
              "    </tr>\n",
              "    <tr>\n",
              "      <th>residual sugar</th>\n",
              "      <td>-0.259255</td>\n",
              "      <td>-0.154328</td>\n",
              "      <td>-0.087983</td>\n",
              "      <td>0.154847</td>\n",
              "      <td>1.000000</td>\n",
              "      <td>-0.147120</td>\n",
              "      <td>0.441582</td>\n",
              "      <td>0.530245</td>\n",
              "      <td>-0.288116</td>\n",
              "      <td>-0.227762</td>\n",
              "      <td>-0.305430</td>\n",
              "      <td>-0.009411</td>\n",
              "    </tr>\n",
              "    <tr>\n",
              "      <th>chlorides</th>\n",
              "      <td>0.264166</td>\n",
              "      <td>0.262474</td>\n",
              "      <td>0.128326</td>\n",
              "      <td>0.034855</td>\n",
              "      <td>-0.147120</td>\n",
              "      <td>1.000000</td>\n",
              "      <td>-0.208988</td>\n",
              "      <td>-0.286209</td>\n",
              "      <td>0.049598</td>\n",
              "      <td>0.341369</td>\n",
              "      <td>-0.198826</td>\n",
              "      <td>-0.145820</td>\n",
              "    </tr>\n",
              "    <tr>\n",
              "      <th>free sulfur dioxide</th>\n",
              "      <td>-0.332128</td>\n",
              "      <td>-0.324524</td>\n",
              "      <td>-0.154847</td>\n",
              "      <td>0.130786</td>\n",
              "      <td>0.441582</td>\n",
              "      <td>-0.208988</td>\n",
              "      <td>1.000000</td>\n",
              "      <td>0.753024</td>\n",
              "      <td>-0.183148</td>\n",
              "      <td>-0.238750</td>\n",
              "      <td>-0.148470</td>\n",
              "      <td>0.067830</td>\n",
              "    </tr>\n",
              "    <tr>\n",
              "      <th>total sulfur dioxide</th>\n",
              "      <td>-0.463706</td>\n",
              "      <td>-0.376404</td>\n",
              "      <td>-0.176300</td>\n",
              "      <td>0.198063</td>\n",
              "      <td>0.530245</td>\n",
              "      <td>-0.286209</td>\n",
              "      <td>0.753024</td>\n",
              "      <td>1.000000</td>\n",
              "      <td>-0.289789</td>\n",
              "      <td>-0.334423</td>\n",
              "      <td>-0.216352</td>\n",
              "      <td>-0.011823</td>\n",
              "    </tr>\n",
              "    <tr>\n",
              "      <th>pH</th>\n",
              "      <td>0.225191</td>\n",
              "      <td>-0.260059</td>\n",
              "      <td>0.127877</td>\n",
              "      <td>-0.391742</td>\n",
              "      <td>-0.288116</td>\n",
              "      <td>0.049598</td>\n",
              "      <td>-0.183148</td>\n",
              "      <td>-0.289789</td>\n",
              "      <td>1.000000</td>\n",
              "      <td>0.171809</td>\n",
              "      <td>0.127098</td>\n",
              "      <td>-0.013437</td>\n",
              "    </tr>\n",
              "    <tr>\n",
              "      <th>sulphates</th>\n",
              "      <td>0.313330</td>\n",
              "      <td>0.335976</td>\n",
              "      <td>0.063433</td>\n",
              "      <td>0.080960</td>\n",
              "      <td>-0.227762</td>\n",
              "      <td>0.341369</td>\n",
              "      <td>-0.238750</td>\n",
              "      <td>-0.334423</td>\n",
              "      <td>0.171809</td>\n",
              "      <td>1.000000</td>\n",
              "      <td>0.008075</td>\n",
              "      <td>0.051268</td>\n",
              "    </tr>\n",
              "    <tr>\n",
              "      <th>alcohol</th>\n",
              "      <td>-0.023439</td>\n",
              "      <td>-0.089504</td>\n",
              "      <td>-0.054858</td>\n",
              "      <td>0.019362</td>\n",
              "      <td>-0.305430</td>\n",
              "      <td>-0.198826</td>\n",
              "      <td>-0.148470</td>\n",
              "      <td>-0.216352</td>\n",
              "      <td>0.127098</td>\n",
              "      <td>0.008075</td>\n",
              "      <td>1.000000</td>\n",
              "      <td>0.449917</td>\n",
              "    </tr>\n",
              "    <tr>\n",
              "      <th>quality</th>\n",
              "      <td>-0.084062</td>\n",
              "      <td>-0.053189</td>\n",
              "      <td>-0.135738</td>\n",
              "      <td>0.125859</td>\n",
              "      <td>-0.009411</td>\n",
              "      <td>-0.145820</td>\n",
              "      <td>0.067830</td>\n",
              "      <td>-0.011823</td>\n",
              "      <td>-0.013437</td>\n",
              "      <td>0.051268</td>\n",
              "      <td>0.449917</td>\n",
              "      <td>1.000000</td>\n",
              "    </tr>\n",
              "  </tbody>\n",
              "</table>\n",
              "</div>"
            ],
            "text/plain": [
              "                      wine type  fixed acidity  ...   alcohol   quality\n",
              "wine type              1.000000       0.300525  ... -0.023439 -0.084062\n",
              "fixed acidity          0.300525       1.000000  ... -0.089504 -0.053189\n",
              "volatile acidity       0.136908       0.049369  ... -0.054858 -0.135738\n",
              "citric acid           -0.120495       0.371893  ...  0.019362  0.125859\n",
              "residual sugar        -0.259255      -0.154328  ... -0.305430 -0.009411\n",
              "chlorides              0.264166       0.262474  ... -0.198826 -0.145820\n",
              "free sulfur dioxide   -0.332128      -0.324524  ... -0.148470  0.067830\n",
              "total sulfur dioxide  -0.463706      -0.376404  ... -0.216352 -0.011823\n",
              "pH                     0.225191      -0.260059  ...  0.127098 -0.013437\n",
              "sulphates              0.313330       0.335976  ...  0.008075  0.051268\n",
              "alcohol               -0.023439      -0.089504  ...  1.000000  0.449917\n",
              "quality               -0.084062      -0.053189  ...  0.449917  1.000000\n",
              "\n",
              "[12 rows x 12 columns]"
            ]
          },
          "metadata": {
            "tags": []
          },
          "execution_count": 41
        }
      ]
    },
    {
      "cell_type": "code",
      "metadata": {
        "id": "nkvFX3NeSKd0",
        "colab_type": "code",
        "colab": {
          "base_uri": "https://localhost:8080/",
          "height": 370
        },
        "outputId": "b8d31778-6041-40b5-efb7-0adbd00529e7"
      },
      "source": [
        "#plotando coeficientes de correlação em um mapa de calor\n",
        "sns.heatmap(corr,vmin=-1, vmax=1, center=0,cmap=sns.diverging_palette(20, 220, n=200))"
      ],
      "execution_count": null,
      "outputs": [
        {
          "output_type": "execute_result",
          "data": {
            "text/plain": [
              "<matplotlib.axes._subplots.AxesSubplot at 0x7fede74bab00>"
            ]
          },
          "metadata": {
            "tags": []
          },
          "execution_count": 42
        },
        {
          "output_type": "display_data",
          "data": {
            "image/png": "[encoded data removed]",
            "text/plain": [
              "<Figure size 432x288 with 2 Axes>"
            ]
          },
          "metadata": {
            "tags": [],
            "needs_background": "light"
          }
        }
      ]
    },
    {
      "cell_type": "code",
      "metadata": {
        "id": "rFouuALGSPkb",
        "colab_type": "code",
        "colab": {
          "base_uri": "https://localhost:8080/",
          "height": 506
        },
        "outputId": "671f7de5-3ae7-408d-abca-a582aaefb0e3"
      },
      "source": [
        "corr = dados[['wine type','fixed acidity','volatile acidity','citric acid','residual sugar','chlorides', 'free sulfur dioxide', 'total sulfur dioxide','pH','sulphates','alcohol','quality']].corr()\n",
        "corr"
      ],
      "execution_count": null,
      "outputs": [
        {
          "output_type": "execute_result",
          "data": {
            "text/html": [
              "<div>\n",
              "<style scoped>\n",
              "    .dataframe tbody tr th:only-of-type {\n",
              "        vertical-align: middle;\n",
              "    }\n",
              "\n",
              "    .dataframe tbody tr th {\n",
              "        vertical-align: top;\n",
              "    }\n",
              "\n",
              "    .dataframe thead th {\n",
              "        text-align: right;\n",
              "    }\n",
              "</style>\n",
              "<table border=\"1\" class=\"dataframe\">\n",
              "  <thead>\n",
              "    <tr style=\"text-align: right;\">\n",
              "      <th></th>\n",
              "      <th>wine type</th>\n",
              "      <th>fixed acidity</th>\n",
              "      <th>volatile acidity</th>\n",
              "      <th>citric acid</th>\n",
              "      <th>residual sugar</th>\n",
              "      <th>chlorides</th>\n",
              "      <th>free sulfur dioxide</th>\n",
              "      <th>total sulfur dioxide</th>\n",
              "      <th>pH</th>\n",
              "      <th>sulphates</th>\n",
              "      <th>alcohol</th>\n",
              "      <th>quality</th>\n",
              "    </tr>\n",
              "  </thead>\n",
              "  <tbody>\n",
              "    <tr>\n",
              "      <th>wine type</th>\n",
              "      <td>1.000000</td>\n",
              "      <td>0.300525</td>\n",
              "      <td>0.136908</td>\n",
              "      <td>-0.120495</td>\n",
              "      <td>-0.259255</td>\n",
              "      <td>0.264166</td>\n",
              "      <td>-0.332128</td>\n",
              "      <td>-0.463706</td>\n",
              "      <td>0.225191</td>\n",
              "      <td>0.313330</td>\n",
              "      <td>-0.023439</td>\n",
              "      <td>-0.084062</td>\n",
              "    </tr>\n",
              "    <tr>\n",
              "      <th>fixed acidity</th>\n",
              "      <td>0.300525</td>\n",
              "      <td>1.000000</td>\n",
              "      <td>0.049369</td>\n",
              "      <td>0.371893</td>\n",
              "      <td>-0.154328</td>\n",
              "      <td>0.262474</td>\n",
              "      <td>-0.324524</td>\n",
              "      <td>-0.376404</td>\n",
              "      <td>-0.260059</td>\n",
              "      <td>0.335976</td>\n",
              "      <td>-0.089504</td>\n",
              "      <td>-0.053189</td>\n",
              "    </tr>\n",
              "    <tr>\n",
              "      <th>volatile acidity</th>\n",
              "      <td>0.136908</td>\n",
              "      <td>0.049369</td>\n",
              "      <td>1.000000</td>\n",
              "      <td>-0.208200</td>\n",
              "      <td>-0.087983</td>\n",
              "      <td>0.128326</td>\n",
              "      <td>-0.154847</td>\n",
              "      <td>-0.176300</td>\n",
              "      <td>0.127877</td>\n",
              "      <td>0.063433</td>\n",
              "      <td>-0.054858</td>\n",
              "      <td>-0.135738</td>\n",
              "    </tr>\n",
              "    <tr>\n",
              "      <th>citric acid</th>\n",
              "      <td>-0.120495</td>\n",
              "      <td>0.371893</td>\n",
              "      <td>-0.208200</td>\n",
              "      <td>1.000000</td>\n",
              "      <td>0.154847</td>\n",
              "      <td>0.034855</td>\n",
              "      <td>0.130786</td>\n",
              "      <td>0.198063</td>\n",
              "      <td>-0.391742</td>\n",
              "      <td>0.080960</td>\n",
              "      <td>0.019362</td>\n",
              "      <td>0.125859</td>\n",
              "    </tr>\n",
              "    <tr>\n",
              "      <th>residual sugar</th>\n",
              "      <td>-0.259255</td>\n",
              "      <td>-0.154328</td>\n",
              "      <td>-0.087983</td>\n",
              "      <td>0.154847</td>\n",
              "      <td>1.000000</td>\n",
              "      <td>-0.147120</td>\n",
              "      <td>0.441582</td>\n",
              "      <td>0.530245</td>\n",
              "      <td>-0.288116</td>\n",
              "      <td>-0.227762</td>\n",
              "      <td>-0.305430</td>\n",
              "      <td>-0.009411</td>\n",
              "    </tr>\n",
              "    <tr>\n",
              "      <th>chlorides</th>\n",
              "      <td>0.264166</td>\n",
              "      <td>0.262474</td>\n",
              "      <td>0.128326</td>\n",
              "      <td>0.034855</td>\n",
              "      <td>-0.147120</td>\n",
              "      <td>1.000000</td>\n",
              "      <td>-0.208988</td>\n",
              "      <td>-0.286209</td>\n",
              "      <td>0.049598</td>\n",
              "      <td>0.341369</td>\n",
              "      <td>-0.198826</td>\n",
              "      <td>-0.145820</td>\n",
              "    </tr>\n",
              "    <tr>\n",
              "      <th>free sulfur dioxide</th>\n",
              "      <td>-0.332128</td>\n",
              "      <td>-0.324524</td>\n",
              "      <td>-0.154847</td>\n",
              "      <td>0.130786</td>\n",
              "      <td>0.441582</td>\n",
              "      <td>-0.208988</td>\n",
              "      <td>1.000000</td>\n",
              "      <td>0.753024</td>\n",
              "      <td>-0.183148</td>\n",
              "      <td>-0.238750</td>\n",
              "      <td>-0.148470</td>\n",
              "      <td>0.067830</td>\n",
              "    </tr>\n",
              "    <tr>\n",
              "      <th>total sulfur dioxide</th>\n",
              "      <td>-0.463706</td>\n",
              "      <td>-0.376404</td>\n",
              "      <td>-0.176300</td>\n",
              "      <td>0.198063</td>\n",
              "      <td>0.530245</td>\n",
              "      <td>-0.286209</td>\n",
              "      <td>0.753024</td>\n",
              "      <td>1.000000</td>\n",
              "      <td>-0.289789</td>\n",
              "      <td>-0.334423</td>\n",
              "      <td>-0.216352</td>\n",
              "      <td>-0.011823</td>\n",
              "    </tr>\n",
              "    <tr>\n",
              "      <th>pH</th>\n",
              "      <td>0.225191</td>\n",
              "      <td>-0.260059</td>\n",
              "      <td>0.127877</td>\n",
              "      <td>-0.391742</td>\n",
              "      <td>-0.288116</td>\n",
              "      <td>0.049598</td>\n",
              "      <td>-0.183148</td>\n",
              "      <td>-0.289789</td>\n",
              "      <td>1.000000</td>\n",
              "      <td>0.171809</td>\n",
              "      <td>0.127098</td>\n",
              "      <td>-0.013437</td>\n",
              "    </tr>\n",
              "    <tr>\n",
              "      <th>sulphates</th>\n",
              "      <td>0.313330</td>\n",
              "      <td>0.335976</td>\n",
              "      <td>0.063433</td>\n",
              "      <td>0.080960</td>\n",
              "      <td>-0.227762</td>\n",
              "      <td>0.341369</td>\n",
              "      <td>-0.238750</td>\n",
              "      <td>-0.334423</td>\n",
              "      <td>0.171809</td>\n",
              "      <td>1.000000</td>\n",
              "      <td>0.008075</td>\n",
              "      <td>0.051268</td>\n",
              "    </tr>\n",
              "    <tr>\n",
              "      <th>alcohol</th>\n",
              "      <td>-0.023439</td>\n",
              "      <td>-0.089504</td>\n",
              "      <td>-0.054858</td>\n",
              "      <td>0.019362</td>\n",
              "      <td>-0.305430</td>\n",
              "      <td>-0.198826</td>\n",
              "      <td>-0.148470</td>\n",
              "      <td>-0.216352</td>\n",
              "      <td>0.127098</td>\n",
              "      <td>0.008075</td>\n",
              "      <td>1.000000</td>\n",
              "      <td>0.449917</td>\n",
              "    </tr>\n",
              "    <tr>\n",
              "      <th>quality</th>\n",
              "      <td>-0.084062</td>\n",
              "      <td>-0.053189</td>\n",
              "      <td>-0.135738</td>\n",
              "      <td>0.125859</td>\n",
              "      <td>-0.009411</td>\n",
              "      <td>-0.145820</td>\n",
              "      <td>0.067830</td>\n",
              "      <td>-0.011823</td>\n",
              "      <td>-0.013437</td>\n",
              "      <td>0.051268</td>\n",
              "      <td>0.449917</td>\n",
              "      <td>1.000000</td>\n",
              "    </tr>\n",
              "  </tbody>\n",
              "</table>\n",
              "</div>"
            ],
            "text/plain": [
              "                      wine type  fixed acidity  ...   alcohol   quality\n",
              "wine type              1.000000       0.300525  ... -0.023439 -0.084062\n",
              "fixed acidity          0.300525       1.000000  ... -0.089504 -0.053189\n",
              "volatile acidity       0.136908       0.049369  ... -0.054858 -0.135738\n",
              "citric acid           -0.120495       0.371893  ...  0.019362  0.125859\n",
              "residual sugar        -0.259255      -0.154328  ... -0.305430 -0.009411\n",
              "chlorides              0.264166       0.262474  ... -0.198826 -0.145820\n",
              "free sulfur dioxide   -0.332128      -0.324524  ... -0.148470  0.067830\n",
              "total sulfur dioxide  -0.463706      -0.376404  ... -0.216352 -0.011823\n",
              "pH                     0.225191      -0.260059  ...  0.127098 -0.013437\n",
              "sulphates              0.313330       0.335976  ...  0.008075  0.051268\n",
              "alcohol               -0.023439      -0.089504  ...  1.000000  0.449917\n",
              "quality               -0.084062      -0.053189  ...  0.449917  1.000000\n",
              "\n",
              "[12 rows x 12 columns]"
            ]
          },
          "metadata": {
            "tags": []
          },
          "execution_count": 43
        }
      ]
    },
    {
      "cell_type": "code",
      "metadata": {
        "id": "B63ZQOC8SXv2",
        "colab_type": "code",
        "colab": {
          "base_uri": "https://localhost:8080/",
          "height": 370
        },
        "outputId": "64910e73-9711-4c5c-8c53-942112d4db13"
      },
      "source": [
        "sns.heatmap(corr,vmin=-1, vmax=1, center=0,cmap=sns.diverging_palette(20, 220, n=200))"
      ],
      "execution_count": null,
      "outputs": [
        {
          "output_type": "execute_result",
          "data": {
            "text/plain": [
              "<matplotlib.axes._subplots.AxesSubplot at 0x7fede73d6470>"
            ]
          },
          "metadata": {
            "tags": []
          },
          "execution_count": 44
        },
        {
          "output_type": "display_data",
          "data": {
            "image/png": "[encoded data removed]",
            "text/plain": [
              "<Figure size 432x288 with 2 Axes>"
            ]
          },
          "metadata": {
            "tags": [],
            "needs_background": "light"
          }
        }
      ]
    },
    {
      "cell_type": "markdown",
      "metadata": {
        "id": "8WDVcvUUKzRN",
        "colab_type": "text"
      },
      "source": [
        "**Comentários**\n",
        "\n",
        "*Conforme já constatado nos gráficos de correlação e agora confirmados nos mapas de calor acima, há quase nenhuma correlação entre os atributos/variáveis. Os que mais se aproximam são os atributos ALCOHOL/QUALITY e TOTAL SULFUR DIOXIDE/FREE SULFUR DIOXIDE.*"
      ]
    },
    {
      "cell_type": "markdown",
      "metadata": {
        "id": "U_nZjFYnSnvz",
        "colab_type": "text"
      },
      "source": [
        "# **5. Re-escala dos dados**\n",
        "* Em diversas situações, os atributos posuem escalas bem diferentes\n",
        "* Uma das etapas da modelagem de algorimos de aprendizage é a re-escala dos dados\n",
        "* Evitar que a escala dos atributos acabem influenciando na aprendizagem"
      ]
    },
    {
      "cell_type": "code",
      "metadata": {
        "id": "nyCkbt9zSiJc",
        "colab_type": "code",
        "colab": {
          "base_uri": "https://localhost:8080/",
          "height": 221
        },
        "outputId": "b04674fa-00b3-438b-a253-105098e0db60"
      },
      "source": [
        "#verificando dados novamente\n",
        "dados.head()"
      ],
      "execution_count": null,
      "outputs": [
        {
          "output_type": "execute_result",
          "data": {
            "text/html": [
              "<div>\n",
              "<style scoped>\n",
              "    .dataframe tbody tr th:only-of-type {\n",
              "        vertical-align: middle;\n",
              "    }\n",
              "\n",
              "    .dataframe tbody tr th {\n",
              "        vertical-align: top;\n",
              "    }\n",
              "\n",
              "    .dataframe thead th {\n",
              "        text-align: right;\n",
              "    }\n",
              "</style>\n",
              "<table border=\"1\" class=\"dataframe\">\n",
              "  <thead>\n",
              "    <tr style=\"text-align: right;\">\n",
              "      <th></th>\n",
              "      <th>wine type</th>\n",
              "      <th>fixed acidity</th>\n",
              "      <th>volatile acidity</th>\n",
              "      <th>citric acid</th>\n",
              "      <th>residual sugar</th>\n",
              "      <th>chlorides</th>\n",
              "      <th>free sulfur dioxide</th>\n",
              "      <th>total sulfur dioxide</th>\n",
              "      <th>pH</th>\n",
              "      <th>sulphates</th>\n",
              "      <th>alcohol</th>\n",
              "      <th>quality</th>\n",
              "    </tr>\n",
              "  </thead>\n",
              "  <tbody>\n",
              "    <tr>\n",
              "      <th>0</th>\n",
              "      <td>0</td>\n",
              "      <td>7.0</td>\n",
              "      <td>0.27</td>\n",
              "      <td>0.36</td>\n",
              "      <td>20.7</td>\n",
              "      <td>45.00</td>\n",
              "      <td>45.0</td>\n",
              "      <td>170.0</td>\n",
              "      <td>3.00</td>\n",
              "      <td>0.45</td>\n",
              "      <td>8.8</td>\n",
              "      <td>6</td>\n",
              "    </tr>\n",
              "    <tr>\n",
              "      <th>1</th>\n",
              "      <td>0</td>\n",
              "      <td>6.3</td>\n",
              "      <td>0.30</td>\n",
              "      <td>0.34</td>\n",
              "      <td>1.6</td>\n",
              "      <td>49.00</td>\n",
              "      <td>14.0</td>\n",
              "      <td>132.0</td>\n",
              "      <td>3.30</td>\n",
              "      <td>0.49</td>\n",
              "      <td>9.5</td>\n",
              "      <td>6</td>\n",
              "    </tr>\n",
              "    <tr>\n",
              "      <th>2</th>\n",
              "      <td>0</td>\n",
              "      <td>8.1</td>\n",
              "      <td>0.28</td>\n",
              "      <td>0.40</td>\n",
              "      <td>6.9</td>\n",
              "      <td>0.05</td>\n",
              "      <td>30.0</td>\n",
              "      <td>97.0</td>\n",
              "      <td>3.26</td>\n",
              "      <td>0.44</td>\n",
              "      <td>10.1</td>\n",
              "      <td>6</td>\n",
              "    </tr>\n",
              "    <tr>\n",
              "      <th>3</th>\n",
              "      <td>0</td>\n",
              "      <td>7.2</td>\n",
              "      <td>0.23</td>\n",
              "      <td>0.32</td>\n",
              "      <td>8.5</td>\n",
              "      <td>58.00</td>\n",
              "      <td>47.0</td>\n",
              "      <td>186.0</td>\n",
              "      <td>3.19</td>\n",
              "      <td>0.40</td>\n",
              "      <td>9.9</td>\n",
              "      <td>6</td>\n",
              "    </tr>\n",
              "    <tr>\n",
              "      <th>4</th>\n",
              "      <td>0</td>\n",
              "      <td>7.2</td>\n",
              "      <td>0.23</td>\n",
              "      <td>0.32</td>\n",
              "      <td>8.5</td>\n",
              "      <td>58.00</td>\n",
              "      <td>47.0</td>\n",
              "      <td>186.0</td>\n",
              "      <td>3.19</td>\n",
              "      <td>0.40</td>\n",
              "      <td>9.9</td>\n",
              "      <td>6</td>\n",
              "    </tr>\n",
              "  </tbody>\n",
              "</table>\n",
              "</div>"
            ],
            "text/plain": [
              "   wine type  fixed acidity  volatile acidity  ...  sulphates  alcohol  quality\n",
              "0          0            7.0              0.27  ...       0.45      8.8        6\n",
              "1          0            6.3              0.30  ...       0.49      9.5        6\n",
              "2          0            8.1              0.28  ...       0.44     10.1        6\n",
              "3          0            7.2              0.23  ...       0.40      9.9        6\n",
              "4          0            7.2              0.23  ...       0.40      9.9        6\n",
              "\n",
              "[5 rows x 12 columns]"
            ]
          },
          "metadata": {
            "tags": []
          },
          "execution_count": 45
        }
      ]
    },
    {
      "cell_type": "code",
      "metadata": {
        "id": "XdvHreenS0Y7",
        "colab_type": "code",
        "colab": {
          "base_uri": "https://localhost:8080/",
          "height": 221
        },
        "outputId": "aebbd9d3-8d40-4cfe-9997-db608e98fa1b"
      },
      "source": [
        "#recuperando valores de sulphates\n",
        "sulphates = dados['sulphates']\n",
        "sulphates"
      ],
      "execution_count": null,
      "outputs": [
        {
          "output_type": "execute_result",
          "data": {
            "text/plain": [
              "0       0.45\n",
              "1       0.49\n",
              "2       0.44\n",
              "3       0.40\n",
              "4       0.40\n",
              "        ... \n",
              "8091    0.58\n",
              "8092    0.76\n",
              "8093    0.75\n",
              "8094    0.71\n",
              "8095    0.66\n",
              "Name: sulphates, Length: 8096, dtype: float64"
            ]
          },
          "metadata": {
            "tags": []
          },
          "execution_count": 46
        }
      ]
    },
    {
      "cell_type": "code",
      "metadata": {
        "id": "4ixKuzXpS4fu",
        "colab_type": "code",
        "colab": {
          "base_uri": "https://localhost:8080/",
          "height": 221
        },
        "outputId": "3dd0c093-cd88-47e8-f016-8acd43191596"
      },
      "source": [
        "#recuperando dados de chlorides\n",
        "chlorides = dados.chlorides\n",
        "chlorides"
      ],
      "execution_count": null,
      "outputs": [
        {
          "output_type": "execute_result",
          "data": {
            "text/plain": [
              "0       45.00\n",
              "1       49.00\n",
              "2        0.05\n",
              "3       58.00\n",
              "4       58.00\n",
              "        ...  \n",
              "8091     0.09\n",
              "8092    62.00\n",
              "8093    76.00\n",
              "8094    75.00\n",
              "8095    67.00\n",
              "Name: chlorides, Length: 8096, dtype: float64"
            ]
          },
          "metadata": {
            "tags": []
          },
          "execution_count": 47
        }
      ]
    },
    {
      "cell_type": "code",
      "metadata": {
        "id": "OgG6_OR4S-6Y",
        "colab_type": "code",
        "colab": {
          "base_uri": "https://localhost:8080/",
          "height": 281
        },
        "outputId": "078e1118-0745-42f5-9853-7998e39c522f"
      },
      "source": [
        "#plotando sulphates e chlorides em um mesmo gráfico\n",
        "plt.plot(sulphates,label='sulphates')\n",
        "plt.plot(chlorides,label='chlorides')\n",
        "plt.title('Sulphates e Chlorides')\n",
        "plt.legend()\n",
        "plt.show()"
      ],
      "execution_count": null,
      "outputs": [
        {
          "output_type": "display_data",
          "data": {
            "image/png": "[encoded data removed]",
            "text/plain": [
              "<Figure size 432x288 with 1 Axes>"
            ]
          },
          "metadata": {
            "tags": [],
            "needs_background": "light"
          }
        }
      ]
    },
    {
      "cell_type": "markdown",
      "metadata": {
        "id": "vZoofVjMT1dz",
        "colab_type": "text"
      },
      "source": [
        "Re-escala pelo máximo\n",
        "\n",
        "$x_{norm} = \\dfrac{x}{max(x)}$"
      ]
    },
    {
      "cell_type": "code",
      "metadata": {
        "id": "vyOM1rSZT9ry",
        "colab_type": "code",
        "colab": {}
      },
      "source": [
        "sulphates = sulphates/sulphates.max()"
      ],
      "execution_count": null,
      "outputs": []
    },
    {
      "cell_type": "code",
      "metadata": {
        "id": "Sgvr1k1DUGdp",
        "colab_type": "code",
        "colab": {}
      },
      "source": [
        "chlorides = chlorides/chlorides.max()"
      ],
      "execution_count": null,
      "outputs": []
    },
    {
      "cell_type": "code",
      "metadata": {
        "id": "Qv0SRCMqUf7V",
        "colab_type": "code",
        "colab": {
          "base_uri": "https://localhost:8080/",
          "height": 281
        },
        "outputId": "0c8a0204-d8a7-4cac-e91d-6dbbe0e8f9d7"
      },
      "source": [
        "#plotando sulphates e chlorides em um mesmo gráfico\n",
        "plt.plot(sulphates,label='sulphates')\n",
        "plt.plot(chlorides,label='chlorides')\n",
        "plt.title('Sulphates e Chlorides Normalizadas')\n",
        "plt.legend()\n",
        "plt.show()"
      ],
      "execution_count": null,
      "outputs": [
        {
          "output_type": "display_data",
          "data": {
            "image/png": "[encoded data removed]",
            "text/plain": [
              "<Figure size 432x288 with 1 Axes>"
            ]
          },
          "metadata": {
            "tags": [],
            "needs_background": "light"
          }
        }
      ]
    },
    {
      "cell_type": "code",
      "metadata": {
        "id": "rL6sFeCaUnQJ",
        "colab_type": "code",
        "colab": {}
      },
      "source": [
        "#funcao de reescala pelo maximo\n",
        "def reescalaMax(dados):\n",
        "    return dados/dados.max()"
      ],
      "execution_count": null,
      "outputs": []
    },
    {
      "cell_type": "markdown",
      "metadata": {
        "id": "O6xy65i4UvmA",
        "colab_type": "text"
      },
      "source": [
        "Re-escala usando maximo e minimo"
      ]
    },
    {
      "cell_type": "markdown",
      "metadata": {
        "id": "olO2uEMbU2go",
        "colab_type": "text"
      },
      "source": [
        "$x_{norm} = \\dfrac{x-min(x)}{max(x)-min(x)}$"
      ]
    },
    {
      "cell_type": "code",
      "metadata": {
        "id": "zgwQYd4YU6q1",
        "colab_type": "code",
        "colab": {}
      },
      "source": [
        "#carregando dados de Sulphates e Chlorides\n",
        "sulphates = dados.sulphates\n",
        "chlorides = dados.chlorides"
      ],
      "execution_count": null,
      "outputs": []
    },
    {
      "cell_type": "code",
      "metadata": {
        "id": "ZlU27mtBU-Cy",
        "colab_type": "code",
        "colab": {}
      },
      "source": [
        "sulphates = (sulphates-sulphates.min())/(sulphates.max()-sulphates.min())"
      ],
      "execution_count": null,
      "outputs": []
    },
    {
      "cell_type": "code",
      "metadata": {
        "id": "ANUCbgJPU_HP",
        "colab_type": "code",
        "colab": {}
      },
      "source": [
        "chlorides = (chlorides-chlorides.min())/(chlorides.max()-chlorides.min())"
      ],
      "execution_count": null,
      "outputs": []
    },
    {
      "cell_type": "code",
      "metadata": {
        "id": "6izHqHKLVB6W",
        "colab_type": "code",
        "colab": {
          "base_uri": "https://localhost:8080/",
          "height": 281
        },
        "outputId": "62b4a417-fd0b-45b1-e20a-b271e05d7fe7"
      },
      "source": [
        "#plotando Sulphates e Chlorides em um mesmo gráfico\n",
        "plt.plot(sulphates,label='Sulphates')\n",
        "plt.plot(chlorides,label='Chlorides')\n",
        "plt.title('Sulphates e Chlorides Normalizadas')\n",
        "plt.legend()\n",
        "plt.show()"
      ],
      "execution_count": null,
      "outputs": [
        {
          "output_type": "display_data",
          "data": {
            "image/png": "[encoded data removed]",
            "text/plain": [
              "<Figure size 432x288 with 1 Axes>"
            ]
          },
          "metadata": {
            "tags": [],
            "needs_background": "light"
          }
        }
      ]
    },
    {
      "cell_type": "code",
      "metadata": {
        "id": "FKfdEQYnVKDU",
        "colab_type": "code",
        "colab": {}
      },
      "source": [
        "def reescalaMaxMin(dados):\n",
        "    return (dados - dados.min())/(dados.max()-dados.min())"
      ],
      "execution_count": null,
      "outputs": []
    },
    {
      "cell_type": "markdown",
      "metadata": {
        "id": "fwakWmoeVLTg",
        "colab_type": "text"
      },
      "source": [
        "Re-escala usando média e desvio padrão"
      ]
    },
    {
      "cell_type": "markdown",
      "metadata": {
        "id": "_XOR-M4PVVVg",
        "colab_type": "text"
      },
      "source": [
        "$x_{norm} = \\dfrac{(x - \\mu)}{\\sigma}$"
      ]
    },
    {
      "cell_type": "code",
      "metadata": {
        "id": "JrlkSxL9VsZO",
        "colab_type": "code",
        "colab": {}
      },
      "source": [
        "#carregando dados de textura e area\n",
        "sulphates = dados.sulphates\n",
        "chlorides = dados.chlorides"
      ],
      "execution_count": null,
      "outputs": []
    },
    {
      "cell_type": "code",
      "metadata": {
        "id": "ALj-TnNGVvVq",
        "colab_type": "code",
        "colab": {}
      },
      "source": [
        "sulphates = (sulphates-sulphates.mean())/sulphates.std()"
      ],
      "execution_count": null,
      "outputs": []
    },
    {
      "cell_type": "code",
      "metadata": {
        "id": "wW-y3TeiVwP9",
        "colab_type": "code",
        "colab": {}
      },
      "source": [
        "chlorides = (chlorides - chlorides.mean())/chlorides.std()"
      ],
      "execution_count": null,
      "outputs": []
    },
    {
      "cell_type": "code",
      "metadata": {
        "id": "BtNQ-thtVzq5",
        "colab_type": "code",
        "colab": {
          "base_uri": "https://localhost:8080/",
          "height": 281
        },
        "outputId": "e4a194a9-2136-4028-d86e-efe8a638878d"
      },
      "source": [
        "#plotando textura e area em um mesmo gráfico\n",
        "plt.plot(sulphates,label='sulphates')\n",
        "plt.plot(chlorides,label='chlorides')\n",
        "plt.title('Sulphates e Chlorides Normalizadas')\n",
        "plt.legend()\n",
        "#plt.show()\n",
        "plt.savefig('sulphates_chlorides_norm.jpg')"
      ],
      "execution_count": null,
      "outputs": [
        {
          "output_type": "display_data",
          "data": {
            "image/png": "[encoded data removed]",
            "text/plain": [
              "<Figure size 432x288 with 1 Axes>"
            ]
          },
          "metadata": {
            "tags": [],
            "needs_background": "light"
          }
        }
      ]
    },
    {
      "cell_type": "markdown",
      "metadata": {
        "id": "VRulkjX4LyP6",
        "colab_type": "text"
      },
      "source": [
        "**Comentários**\n",
        "\n",
        "*Gráfico acima demostra os dados dos atributos SULPHATES e CHLORIDES sendo normalizados.*"
      ]
    }
  ]
}